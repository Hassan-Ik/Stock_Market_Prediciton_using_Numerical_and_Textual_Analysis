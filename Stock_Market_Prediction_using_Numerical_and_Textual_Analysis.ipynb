{
 "cells": [
  {
   "cell_type": "markdown",
   "metadata": {},
   "source": [
    "# Stock Market Prediction using Numerical and Textual Analysis\n",
    "\n",
    "### Author: Hassan Ikram"
   ]
  },
  {
   "cell_type": "markdown",
   "metadata": {},
   "source": [
    "### Objective: Create a hybrid model for stock price/performance prediction using numerical analysis of historical stock prices, and sentimental analysis of news headlines \n",
    "\n",
    "In this task, we are going to analyze and predict stock price of BSE SENSEX, which  is a free-float market-weighted stock market index of 30 well-established and financially sound companies listed on Bombay Stock Exchange."
   ]
  },
  {
   "cell_type": "markdown",
   "metadata": {},
   "source": [
    "## Importing Libraries"
   ]
  },
  {
   "cell_type": "code",
   "execution_count": 1,
   "metadata": {},
   "outputs": [
    {
     "name": "stderr",
     "output_type": "stream",
     "text": [
      "[nltk_data] Downloading package stopwords to\n",
      "[nltk_data]     C:\\Users\\hassa\\AppData\\Roaming\\nltk_data...\n",
      "[nltk_data]   Package stopwords is already up-to-date!\n",
      "[nltk_data] Downloading package vader_lexicon to\n",
      "[nltk_data]     C:\\Users\\hassa\\AppData\\Roaming\\nltk_data...\n",
      "[nltk_data]   Package vader_lexicon is already up-to-date!\n",
      "[nltk_data] Downloading package punkt to\n",
      "[nltk_data]     C:\\Users\\hassa\\AppData\\Roaming\\nltk_data...\n",
      "[nltk_data]   Package punkt is already up-to-date!\n"
     ]
    },
    {
     "data": {
      "text/plain": [
       "True"
      ]
     },
     "execution_count": 1,
     "metadata": {},
     "output_type": "execute_result"
    }
   ],
   "source": [
    "import numpy as np\n",
    "import pandas as pd\n",
    "import matplotlib.pyplot as plt\n",
    "import seaborn as sns\n",
    "import sklearn\n",
    "\n",
    "# For reading stock data from yahoo\n",
    "from pandas_datareader.data import DataReader\n",
    "# For time stamps\n",
    "from datetime import datetime\n",
    "\n",
    "# For Sentiment Analysis\n",
    "import nltk\n",
    "import re\n",
    "from nltk.corpus import stopwords\n",
    "from nltk.tokenize import word_tokenize\n",
    "from nltk.sentiment.vader import SentimentIntensityAnalyzer\n",
    "from sklearn.metrics import mean_squared_error, mean_absolute_error,r2_score\n",
    "from sklearn.model_selection import train_test_split\n",
    "from sklearn.ensemble import RandomForestRegressor, AdaBoostRegressor\n",
    "from sklearn.linear_model import LinearRegression\n",
    "from sklearn.tree import DecisionTreeRegressor\n",
    "from sklearn.preprocessing import MinMaxScaler\n",
    "from textblob import TextBlob\n",
    "nltk.download('stopwords')\n",
    "nltk.download('vader_lexicon')\n",
    "nltk.download('punkt')"
   ]
  },
  {
   "cell_type": "markdown",
   "metadata": {},
   "source": [
    "### Project is divided into two parts\n",
    "1. **Textual Analysis / Sentiment Analysis:**\n",
    " We are going to use data from  https://bit.ly/36fFPI6, which a Times of India News dataset for sentiment analysis.\n",
    "\n",
    "2. **Stock Market Prediction:** \n",
    "  For Numerical Analysis, we are going to get data from https://finance.yahoo.com/, In numerical analysis we are going to analyze BSE SENSEX stock and then add the sentiment analysis score into historical data for stock closing price prediction."
   ]
  },
  {
   "cell_type": "markdown",
   "metadata": {},
   "source": [
    "## Textual Analysis"
   ]
  },
  {
   "cell_type": "code",
   "execution_count": 2,
   "metadata": {},
   "outputs": [
    {
     "data": {
      "text/html": [
       "<div>\n",
       "<style scoped>\n",
       "    .dataframe tbody tr th:only-of-type {\n",
       "        vertical-align: middle;\n",
       "    }\n",
       "\n",
       "    .dataframe tbody tr th {\n",
       "        vertical-align: top;\n",
       "    }\n",
       "\n",
       "    .dataframe thead th {\n",
       "        text-align: right;\n",
       "    }\n",
       "</style>\n",
       "<table border=\"1\" class=\"dataframe\">\n",
       "  <thead>\n",
       "    <tr style=\"text-align: right;\">\n",
       "      <th></th>\n",
       "      <th>publish_date</th>\n",
       "      <th>headline_category</th>\n",
       "      <th>headline_text</th>\n",
       "    </tr>\n",
       "  </thead>\n",
       "  <tbody>\n",
       "    <tr>\n",
       "      <th>0</th>\n",
       "      <td>20010101</td>\n",
       "      <td>sports.wwe</td>\n",
       "      <td>win over cena satisfying but defeating underta...</td>\n",
       "    </tr>\n",
       "    <tr>\n",
       "      <th>1</th>\n",
       "      <td>20010102</td>\n",
       "      <td>unknown</td>\n",
       "      <td>Status quo will not be disturbed at Ayodhya; s...</td>\n",
       "    </tr>\n",
       "    <tr>\n",
       "      <th>2</th>\n",
       "      <td>20010102</td>\n",
       "      <td>unknown</td>\n",
       "      <td>Fissures in Hurriyat over Pak visit</td>\n",
       "    </tr>\n",
       "    <tr>\n",
       "      <th>3</th>\n",
       "      <td>20010102</td>\n",
       "      <td>unknown</td>\n",
       "      <td>America's unwanted heading for India?</td>\n",
       "    </tr>\n",
       "    <tr>\n",
       "      <th>4</th>\n",
       "      <td>20010102</td>\n",
       "      <td>unknown</td>\n",
       "      <td>For bigwigs; it is destination Goa</td>\n",
       "    </tr>\n",
       "  </tbody>\n",
       "</table>\n",
       "</div>"
      ],
      "text/plain": [
       "   publish_date headline_category  \\\n",
       "0      20010101        sports.wwe   \n",
       "1      20010102           unknown   \n",
       "2      20010102           unknown   \n",
       "3      20010102           unknown   \n",
       "4      20010102           unknown   \n",
       "\n",
       "                                       headline_text  \n",
       "0  win over cena satisfying but defeating underta...  \n",
       "1  Status quo will not be disturbed at Ayodhya; s...  \n",
       "2                Fissures in Hurriyat over Pak visit  \n",
       "3              America's unwanted heading for India?  \n",
       "4                 For bigwigs; it is destination Goa  "
      ]
     },
     "execution_count": 2,
     "metadata": {},
     "output_type": "execute_result"
    }
   ],
   "source": [
    "df = pd.read_csv('india-news-headlines.csv')\n",
    "df.head()\n"
   ]
  },
  {
   "cell_type": "code",
   "execution_count": 3,
   "metadata": {},
   "outputs": [
    {
     "name": "stdout",
     "output_type": "stream",
     "text": [
      "<class 'pandas.core.frame.DataFrame'>\n",
      "RangeIndex: 3297172 entries, 0 to 3297171\n",
      "Data columns (total 3 columns):\n",
      " #   Column             Dtype \n",
      "---  ------             ----- \n",
      " 0   publish_date       int64 \n",
      " 1   headline_category  object\n",
      " 2   headline_text      object\n",
      "dtypes: int64(1), object(2)\n",
      "memory usage: 75.5+ MB\n"
     ]
    }
   ],
   "source": [
    "## Checking the datatype and length of the dataset\n",
    "df.info()"
   ]
  },
  {
   "cell_type": "code",
   "execution_count": 4,
   "metadata": {},
   "outputs": [],
   "source": [
    "## Changing the publish_date into standard data and time format\n",
    "df['date'] = pd.to_datetime(df['publish_date'],format= '%Y%m%d')"
   ]
  },
  {
   "cell_type": "code",
   "execution_count": 5,
   "metadata": {},
   "outputs": [],
   "source": [
    "## Using the data on from 2011 and onward\n",
    "df = df[(df['date'] > \"2011-01-01\")]"
   ]
  },
  {
   "cell_type": "code",
   "execution_count": 6,
   "metadata": {},
   "outputs": [
    {
     "data": {
      "text/html": [
       "<div>\n",
       "<style scoped>\n",
       "    .dataframe tbody tr th:only-of-type {\n",
       "        vertical-align: middle;\n",
       "    }\n",
       "\n",
       "    .dataframe tbody tr th {\n",
       "        vertical-align: top;\n",
       "    }\n",
       "\n",
       "    .dataframe thead th {\n",
       "        text-align: right;\n",
       "    }\n",
       "</style>\n",
       "<table border=\"1\" class=\"dataframe\">\n",
       "  <thead>\n",
       "    <tr style=\"text-align: right;\">\n",
       "      <th></th>\n",
       "      <th>publish_date</th>\n",
       "      <th>headline_category</th>\n",
       "      <th>headline_text</th>\n",
       "      <th>date</th>\n",
       "    </tr>\n",
       "  </thead>\n",
       "  <tbody>\n",
       "    <tr>\n",
       "      <th>1024407</th>\n",
       "      <td>20110102</td>\n",
       "      <td>tech.computing</td>\n",
       "      <td>Technology wishlist for 2011</td>\n",
       "      <td>2011-01-02</td>\n",
       "    </tr>\n",
       "    <tr>\n",
       "      <th>1024408</th>\n",
       "      <td>20110102</td>\n",
       "      <td>city.patna</td>\n",
       "      <td>Air passengers a harassed lot</td>\n",
       "      <td>2011-01-02</td>\n",
       "    </tr>\n",
       "    <tr>\n",
       "      <th>1024409</th>\n",
       "      <td>20110102</td>\n",
       "      <td>entertainment.events.bangalore</td>\n",
       "      <td>Bangalore's chilled out New Year bash!</td>\n",
       "      <td>2011-01-02</td>\n",
       "    </tr>\n",
       "    <tr>\n",
       "      <th>1024410</th>\n",
       "      <td>20110102</td>\n",
       "      <td>entertainment.events.mumbai</td>\n",
       "      <td>Kapoor duo in celebration mode</td>\n",
       "      <td>2011-01-02</td>\n",
       "    </tr>\n",
       "    <tr>\n",
       "      <th>1024411</th>\n",
       "      <td>20110102</td>\n",
       "      <td>entertainment.hindi.bollywood</td>\n",
       "      <td>Salman's ready to help!</td>\n",
       "      <td>2011-01-02</td>\n",
       "    </tr>\n",
       "    <tr>\n",
       "      <th>...</th>\n",
       "      <td>...</td>\n",
       "      <td>...</td>\n",
       "      <td>...</td>\n",
       "      <td>...</td>\n",
       "    </tr>\n",
       "    <tr>\n",
       "      <th>3297167</th>\n",
       "      <td>20200630</td>\n",
       "      <td>gadgets-news</td>\n",
       "      <td>why tiktok removed 1 65 crore videos in india</td>\n",
       "      <td>2020-06-30</td>\n",
       "    </tr>\n",
       "    <tr>\n",
       "      <th>3297168</th>\n",
       "      <td>20200630</td>\n",
       "      <td>entertainment.hindi.bollywood</td>\n",
       "      <td>apurva asrani calls alia bhatts mother soni ra...</td>\n",
       "      <td>2020-06-30</td>\n",
       "    </tr>\n",
       "    <tr>\n",
       "      <th>3297169</th>\n",
       "      <td>20200630</td>\n",
       "      <td>entertainment.hindi.bollywood</td>\n",
       "      <td>kangana ranaut gets a doll version of herself ...</td>\n",
       "      <td>2020-06-30</td>\n",
       "    </tr>\n",
       "    <tr>\n",
       "      <th>3297170</th>\n",
       "      <td>20200630</td>\n",
       "      <td>entertainment.hindi.bollywood</td>\n",
       "      <td>meezaan jaffrey reminisces his childhood days ...</td>\n",
       "      <td>2020-06-30</td>\n",
       "    </tr>\n",
       "    <tr>\n",
       "      <th>3297171</th>\n",
       "      <td>20200630</td>\n",
       "      <td>entertainment.telugu.movies.news</td>\n",
       "      <td>prabhas20 titled as radhe shyam prabhas and po...</td>\n",
       "      <td>2020-06-30</td>\n",
       "    </tr>\n",
       "  </tbody>\n",
       "</table>\n",
       "<p>2272765 rows × 4 columns</p>\n",
       "</div>"
      ],
      "text/plain": [
       "         publish_date                 headline_category  \\\n",
       "1024407      20110102                    tech.computing   \n",
       "1024408      20110102                        city.patna   \n",
       "1024409      20110102    entertainment.events.bangalore   \n",
       "1024410      20110102       entertainment.events.mumbai   \n",
       "1024411      20110102     entertainment.hindi.bollywood   \n",
       "...               ...                               ...   \n",
       "3297167      20200630                      gadgets-news   \n",
       "3297168      20200630     entertainment.hindi.bollywood   \n",
       "3297169      20200630     entertainment.hindi.bollywood   \n",
       "3297170      20200630     entertainment.hindi.bollywood   \n",
       "3297171      20200630  entertainment.telugu.movies.news   \n",
       "\n",
       "                                             headline_text       date  \n",
       "1024407                       Technology wishlist for 2011 2011-01-02  \n",
       "1024408                      Air passengers a harassed lot 2011-01-02  \n",
       "1024409             Bangalore's chilled out New Year bash! 2011-01-02  \n",
       "1024410                     Kapoor duo in celebration mode 2011-01-02  \n",
       "1024411                            Salman's ready to help! 2011-01-02  \n",
       "...                                                    ...        ...  \n",
       "3297167      why tiktok removed 1 65 crore videos in india 2020-06-30  \n",
       "3297168  apurva asrani calls alia bhatts mother soni ra... 2020-06-30  \n",
       "3297169  kangana ranaut gets a doll version of herself ... 2020-06-30  \n",
       "3297170  meezaan jaffrey reminisces his childhood days ... 2020-06-30  \n",
       "3297171  prabhas20 titled as radhe shyam prabhas and po... 2020-06-30  \n",
       "\n",
       "[2272765 rows x 4 columns]"
      ]
     },
     "execution_count": 6,
     "metadata": {},
     "output_type": "execute_result"
    }
   ],
   "source": [
    "# Making a copy of the dataframe to make changes into it.\n",
    "df_news = df.copy()\n",
    "df_news"
   ]
  },
  {
   "cell_type": "code",
   "execution_count": 7,
   "metadata": {},
   "outputs": [
    {
     "data": {
      "text/html": [
       "<div>\n",
       "<style scoped>\n",
       "    .dataframe tbody tr th:only-of-type {\n",
       "        vertical-align: middle;\n",
       "    }\n",
       "\n",
       "    .dataframe tbody tr th {\n",
       "        vertical-align: top;\n",
       "    }\n",
       "\n",
       "    .dataframe thead th {\n",
       "        text-align: right;\n",
       "    }\n",
       "</style>\n",
       "<table border=\"1\" class=\"dataframe\">\n",
       "  <thead>\n",
       "    <tr style=\"text-align: right;\">\n",
       "      <th></th>\n",
       "      <th>publish_date</th>\n",
       "      <th>headline_category</th>\n",
       "      <th>headline_text</th>\n",
       "      <th>date</th>\n",
       "    </tr>\n",
       "  </thead>\n",
       "  <tbody>\n",
       "    <tr>\n",
       "      <th>1024407</th>\n",
       "      <td>20110102</td>\n",
       "      <td>tech.computing</td>\n",
       "      <td>Technology wishlist for 2011</td>\n",
       "      <td>2011-01-02</td>\n",
       "    </tr>\n",
       "    <tr>\n",
       "      <th>1024408</th>\n",
       "      <td>20110102</td>\n",
       "      <td>city.patna</td>\n",
       "      <td>Air passengers a harassed lot</td>\n",
       "      <td>2011-01-02</td>\n",
       "    </tr>\n",
       "    <tr>\n",
       "      <th>1024409</th>\n",
       "      <td>20110102</td>\n",
       "      <td>entertainment.events.bangalore</td>\n",
       "      <td>Bangalore's chilled out New Year bash!</td>\n",
       "      <td>2011-01-02</td>\n",
       "    </tr>\n",
       "    <tr>\n",
       "      <th>1024410</th>\n",
       "      <td>20110102</td>\n",
       "      <td>entertainment.events.mumbai</td>\n",
       "      <td>Kapoor duo in celebration mode</td>\n",
       "      <td>2011-01-02</td>\n",
       "    </tr>\n",
       "    <tr>\n",
       "      <th>1024411</th>\n",
       "      <td>20110102</td>\n",
       "      <td>entertainment.hindi.bollywood</td>\n",
       "      <td>Salman's ready to help!</td>\n",
       "      <td>2011-01-02</td>\n",
       "    </tr>\n",
       "    <tr>\n",
       "      <th>...</th>\n",
       "      <td>...</td>\n",
       "      <td>...</td>\n",
       "      <td>...</td>\n",
       "      <td>...</td>\n",
       "    </tr>\n",
       "    <tr>\n",
       "      <th>3297167</th>\n",
       "      <td>20200630</td>\n",
       "      <td>gadgets-news</td>\n",
       "      <td>why tiktok removed 1 65 crore videos in india</td>\n",
       "      <td>2020-06-30</td>\n",
       "    </tr>\n",
       "    <tr>\n",
       "      <th>3297168</th>\n",
       "      <td>20200630</td>\n",
       "      <td>entertainment.hindi.bollywood</td>\n",
       "      <td>apurva asrani calls alia bhatts mother soni ra...</td>\n",
       "      <td>2020-06-30</td>\n",
       "    </tr>\n",
       "    <tr>\n",
       "      <th>3297169</th>\n",
       "      <td>20200630</td>\n",
       "      <td>entertainment.hindi.bollywood</td>\n",
       "      <td>kangana ranaut gets a doll version of herself ...</td>\n",
       "      <td>2020-06-30</td>\n",
       "    </tr>\n",
       "    <tr>\n",
       "      <th>3297170</th>\n",
       "      <td>20200630</td>\n",
       "      <td>entertainment.hindi.bollywood</td>\n",
       "      <td>meezaan jaffrey reminisces his childhood days ...</td>\n",
       "      <td>2020-06-30</td>\n",
       "    </tr>\n",
       "    <tr>\n",
       "      <th>3297171</th>\n",
       "      <td>20200630</td>\n",
       "      <td>entertainment.telugu.movies.news</td>\n",
       "      <td>prabhas20 titled as radhe shyam prabhas and po...</td>\n",
       "      <td>2020-06-30</td>\n",
       "    </tr>\n",
       "  </tbody>\n",
       "</table>\n",
       "<p>2259497 rows × 4 columns</p>\n",
       "</div>"
      ],
      "text/plain": [
       "         publish_date                 headline_category  \\\n",
       "1024407      20110102                    tech.computing   \n",
       "1024408      20110102                        city.patna   \n",
       "1024409      20110102    entertainment.events.bangalore   \n",
       "1024410      20110102       entertainment.events.mumbai   \n",
       "1024411      20110102     entertainment.hindi.bollywood   \n",
       "...               ...                               ...   \n",
       "3297167      20200630                      gadgets-news   \n",
       "3297168      20200630     entertainment.hindi.bollywood   \n",
       "3297169      20200630     entertainment.hindi.bollywood   \n",
       "3297170      20200630     entertainment.hindi.bollywood   \n",
       "3297171      20200630  entertainment.telugu.movies.news   \n",
       "\n",
       "                                             headline_text       date  \n",
       "1024407                       Technology wishlist for 2011 2011-01-02  \n",
       "1024408                      Air passengers a harassed lot 2011-01-02  \n",
       "1024409             Bangalore's chilled out New Year bash! 2011-01-02  \n",
       "1024410                     Kapoor duo in celebration mode 2011-01-02  \n",
       "1024411                            Salman's ready to help! 2011-01-02  \n",
       "...                                                    ...        ...  \n",
       "3297167      why tiktok removed 1 65 crore videos in india 2020-06-30  \n",
       "3297168  apurva asrani calls alia bhatts mother soni ra... 2020-06-30  \n",
       "3297169  kangana ranaut gets a doll version of herself ... 2020-06-30  \n",
       "3297170  meezaan jaffrey reminisces his childhood days ... 2020-06-30  \n",
       "3297171  prabhas20 titled as radhe shyam prabhas and po... 2020-06-30  \n",
       "\n",
       "[2259497 rows x 4 columns]"
      ]
     },
     "execution_count": 7,
     "metadata": {},
     "output_type": "execute_result"
    }
   ],
   "source": [
    "## Dropping the duplicate rows from the data\n",
    "df_news.drop_duplicates(inplace=True)\n",
    "df_news"
   ]
  },
  {
   "cell_type": "code",
   "execution_count": 8,
   "metadata": {},
   "outputs": [],
   "source": [
    "# Droping publish_date and headline_category  from the data\n",
    "df_news =df_news.drop([\"publish_date\", \"headline_category\"], axis=1)"
   ]
  },
  {
   "cell_type": "code",
   "execution_count": 9,
   "metadata": {
    "scrolled": true
   },
   "outputs": [
    {
     "data": {
      "text/html": [
       "<div>\n",
       "<style scoped>\n",
       "    .dataframe tbody tr th:only-of-type {\n",
       "        vertical-align: middle;\n",
       "    }\n",
       "\n",
       "    .dataframe tbody tr th {\n",
       "        vertical-align: top;\n",
       "    }\n",
       "\n",
       "    .dataframe thead th {\n",
       "        text-align: right;\n",
       "    }\n",
       "</style>\n",
       "<table border=\"1\" class=\"dataframe\">\n",
       "  <thead>\n",
       "    <tr style=\"text-align: right;\">\n",
       "      <th></th>\n",
       "      <th>headline_text</th>\n",
       "      <th>date</th>\n",
       "    </tr>\n",
       "  </thead>\n",
       "  <tbody>\n",
       "    <tr>\n",
       "      <th>1024407</th>\n",
       "      <td>Technology wishlist for 2011</td>\n",
       "      <td>2011-01-02</td>\n",
       "    </tr>\n",
       "    <tr>\n",
       "      <th>1024408</th>\n",
       "      <td>Air passengers a harassed lot</td>\n",
       "      <td>2011-01-02</td>\n",
       "    </tr>\n",
       "    <tr>\n",
       "      <th>1024409</th>\n",
       "      <td>Bangalore's chilled out New Year bash!</td>\n",
       "      <td>2011-01-02</td>\n",
       "    </tr>\n",
       "    <tr>\n",
       "      <th>1024410</th>\n",
       "      <td>Kapoor duo in celebration mode</td>\n",
       "      <td>2011-01-02</td>\n",
       "    </tr>\n",
       "    <tr>\n",
       "      <th>1024411</th>\n",
       "      <td>Salman's ready to help!</td>\n",
       "      <td>2011-01-02</td>\n",
       "    </tr>\n",
       "    <tr>\n",
       "      <th>...</th>\n",
       "      <td>...</td>\n",
       "      <td>...</td>\n",
       "    </tr>\n",
       "    <tr>\n",
       "      <th>3297167</th>\n",
       "      <td>why tiktok removed 1 65 crore videos in india</td>\n",
       "      <td>2020-06-30</td>\n",
       "    </tr>\n",
       "    <tr>\n",
       "      <th>3297168</th>\n",
       "      <td>apurva asrani calls alia bhatts mother soni ra...</td>\n",
       "      <td>2020-06-30</td>\n",
       "    </tr>\n",
       "    <tr>\n",
       "      <th>3297169</th>\n",
       "      <td>kangana ranaut gets a doll version of herself ...</td>\n",
       "      <td>2020-06-30</td>\n",
       "    </tr>\n",
       "    <tr>\n",
       "      <th>3297170</th>\n",
       "      <td>meezaan jaffrey reminisces his childhood days ...</td>\n",
       "      <td>2020-06-30</td>\n",
       "    </tr>\n",
       "    <tr>\n",
       "      <th>3297171</th>\n",
       "      <td>prabhas20 titled as radhe shyam prabhas and po...</td>\n",
       "      <td>2020-06-30</td>\n",
       "    </tr>\n",
       "  </tbody>\n",
       "</table>\n",
       "<p>2259497 rows × 2 columns</p>\n",
       "</div>"
      ],
      "text/plain": [
       "                                             headline_text       date\n",
       "1024407                       Technology wishlist for 2011 2011-01-02\n",
       "1024408                      Air passengers a harassed lot 2011-01-02\n",
       "1024409             Bangalore's chilled out New Year bash! 2011-01-02\n",
       "1024410                     Kapoor duo in celebration mode 2011-01-02\n",
       "1024411                            Salman's ready to help! 2011-01-02\n",
       "...                                                    ...        ...\n",
       "3297167      why tiktok removed 1 65 crore videos in india 2020-06-30\n",
       "3297168  apurva asrani calls alia bhatts mother soni ra... 2020-06-30\n",
       "3297169  kangana ranaut gets a doll version of herself ... 2020-06-30\n",
       "3297170  meezaan jaffrey reminisces his childhood days ... 2020-06-30\n",
       "3297171  prabhas20 titled as radhe shyam prabhas and po... 2020-06-30\n",
       "\n",
       "[2259497 rows x 2 columns]"
      ]
     },
     "execution_count": 9,
     "metadata": {},
     "output_type": "execute_result"
    }
   ],
   "source": [
    "df_news"
   ]
  },
  {
   "cell_type": "markdown",
   "metadata": {},
   "source": [
    "### Grouping the headlines for each day\n",
    "\n",
    "Grouping each headline_text of a day into a single column"
   ]
  },
  {
   "cell_type": "code",
   "execution_count": 10,
   "metadata": {},
   "outputs": [
    {
     "data": {
      "text/html": [
       "<div>\n",
       "<style scoped>\n",
       "    .dataframe tbody tr th:only-of-type {\n",
       "        vertical-align: middle;\n",
       "    }\n",
       "\n",
       "    .dataframe tbody tr th {\n",
       "        vertical-align: top;\n",
       "    }\n",
       "\n",
       "    .dataframe thead th {\n",
       "        text-align: right;\n",
       "    }\n",
       "</style>\n",
       "<table border=\"1\" class=\"dataframe\">\n",
       "  <thead>\n",
       "    <tr style=\"text-align: right;\">\n",
       "      <th></th>\n",
       "      <th>headline_text</th>\n",
       "      <th>date</th>\n",
       "    </tr>\n",
       "  </thead>\n",
       "  <tbody>\n",
       "    <tr>\n",
       "      <th>0</th>\n",
       "      <td>Technology wishlist for 2011 Air passengers a ...</td>\n",
       "      <td>2011-01-02</td>\n",
       "    </tr>\n",
       "    <tr>\n",
       "      <th>1</th>\n",
       "      <td>Photo Gallery (Ashes 2010) Your guy needs comp...</td>\n",
       "      <td>2011-01-03</td>\n",
       "    </tr>\n",
       "    <tr>\n",
       "      <th>2</th>\n",
       "      <td>Deepika Padukone Deepika Padukone Imran invite...</td>\n",
       "      <td>2011-01-04</td>\n",
       "    </tr>\n",
       "    <tr>\n",
       "      <th>3</th>\n",
       "      <td>Man dies of heart attack after killing lover's...</td>\n",
       "      <td>2011-01-05</td>\n",
       "    </tr>\n",
       "    <tr>\n",
       "      <th>4</th>\n",
       "      <td>Photo Gallery (Indian tour of South Africa) Ra...</td>\n",
       "      <td>2011-01-06</td>\n",
       "    </tr>\n",
       "    <tr>\n",
       "      <th>...</th>\n",
       "      <td>...</td>\n",
       "      <td>...</td>\n",
       "    </tr>\n",
       "    <tr>\n",
       "      <th>3463</th>\n",
       "      <td>Containment zone residents slam high prices ch...</td>\n",
       "      <td>2020-06-26</td>\n",
       "    </tr>\n",
       "    <tr>\n",
       "      <th>3464</th>\n",
       "      <td>like me i wont let you have a toxic relationsh...</td>\n",
       "      <td>2020-06-27</td>\n",
       "    </tr>\n",
       "    <tr>\n",
       "      <th>3465</th>\n",
       "      <td>Atanu Ghosh plans to rewrite old scripts to ma...</td>\n",
       "      <td>2020-06-28</td>\n",
       "    </tr>\n",
       "    <tr>\n",
       "      <th>3466</th>\n",
       "      <td>6 hot and stylish bikini looks of Katrina Kaif...</td>\n",
       "      <td>2020-06-29</td>\n",
       "    </tr>\n",
       "    <tr>\n",
       "      <th>3467</th>\n",
       "      <td>Detective Byomkesh Bakshy! Edge of Tomorrow Fi...</td>\n",
       "      <td>2020-06-30</td>\n",
       "    </tr>\n",
       "  </tbody>\n",
       "</table>\n",
       "<p>3468 rows × 2 columns</p>\n",
       "</div>"
      ],
      "text/plain": [
       "                                          headline_text       date\n",
       "0     Technology wishlist for 2011 Air passengers a ... 2011-01-02\n",
       "1     Photo Gallery (Ashes 2010) Your guy needs comp... 2011-01-03\n",
       "2     Deepika Padukone Deepika Padukone Imran invite... 2011-01-04\n",
       "3     Man dies of heart attack after killing lover's... 2011-01-05\n",
       "4     Photo Gallery (Indian tour of South Africa) Ra... 2011-01-06\n",
       "...                                                 ...        ...\n",
       "3463  Containment zone residents slam high prices ch... 2020-06-26\n",
       "3464  like me i wont let you have a toxic relationsh... 2020-06-27\n",
       "3465  Atanu Ghosh plans to rewrite old scripts to ma... 2020-06-28\n",
       "3466  6 hot and stylish bikini looks of Katrina Kaif... 2020-06-29\n",
       "3467  Detective Byomkesh Bakshy! Edge of Tomorrow Fi... 2020-06-30\n",
       "\n",
       "[3468 rows x 2 columns]"
      ]
     },
     "execution_count": 10,
     "metadata": {},
     "output_type": "execute_result"
    }
   ],
   "source": [
    "df_news['headline_text'] = df_news.groupby(['date']).transform(lambda x : ' '.join(x)) \n",
    "df_news = df_news.drop_duplicates() \n",
    "df_news.reset_index(inplace = True, drop = True)\n",
    "df_news"
   ]
  },
  {
   "cell_type": "markdown",
   "metadata": {},
   "source": [
    "### Tokenize and remove stop words"
   ]
  },
  {
   "cell_type": "code",
   "execution_count": 11,
   "metadata": {},
   "outputs": [],
   "source": [
    "def preprocess_headlines(headline):\n",
    "    stop_words = stopwords.words('english')\n",
    "    tokenize = []\n",
    "    result = \"\"\n",
    "    tokens = word_tokenize(headline) \n",
    "    for i in tokens:\n",
    "        if i.lower() not in stop_words:\n",
    "            result += \" \" + i.lower()\n",
    "    return result \n",
    "        "
   ]
  },
  {
   "cell_type": "code",
   "execution_count": 12,
   "metadata": {},
   "outputs": [
    {
     "name": "stderr",
     "output_type": "stream",
     "text": [
      "<ipython-input-12-31ca55cdef89>:1: SettingWithCopyWarning: \n",
      "A value is trying to be set on a copy of a slice from a DataFrame.\n",
      "Try using .loc[row_indexer,col_indexer] = value instead\n",
      "\n",
      "See the caveats in the documentation: https://pandas.pydata.org/pandas-docs/stable/user_guide/indexing.html#returning-a-view-versus-a-copy\n",
      "  df_news[\"headline_text\"] = [preprocess_headlines(i) for i in df_news['headline_text']]\n"
     ]
    }
   ],
   "source": [
    "df_news[\"headline_text\"] = [preprocess_headlines(i) for i in df_news['headline_text']]"
   ]
  },
  {
   "cell_type": "markdown",
   "metadata": {},
   "source": [
    "### Getting  Subjectivity  & Polarity from headline_text "
   ]
  },
  {
   "cell_type": "code",
   "execution_count": 13,
   "metadata": {},
   "outputs": [],
   "source": [
    "def getSubjectivity(text):\n",
    "  return TextBlob(text).sentiment.subjectivity\n",
    "\n",
    "def getPolarity(text):\n",
    "  return  TextBlob(text).sentiment.polarity"
   ]
  },
  {
   "cell_type": "code",
   "execution_count": 14,
   "metadata": {},
   "outputs": [
    {
     "name": "stderr",
     "output_type": "stream",
     "text": [
      "<ipython-input-14-ac89565677ae>:2: SettingWithCopyWarning: \n",
      "A value is trying to be set on a copy of a slice from a DataFrame.\n",
      "Try using .loc[row_indexer,col_indexer] = value instead\n",
      "\n",
      "See the caveats in the documentation: https://pandas.pydata.org/pandas-docs/stable/user_guide/indexing.html#returning-a-view-versus-a-copy\n",
      "  df_news['Subjectivity'] = df_news['headline_text'].apply(getSubjectivity)\n",
      "<ipython-input-14-ac89565677ae>:3: SettingWithCopyWarning: \n",
      "A value is trying to be set on a copy of a slice from a DataFrame.\n",
      "Try using .loc[row_indexer,col_indexer] = value instead\n",
      "\n",
      "See the caveats in the documentation: https://pandas.pydata.org/pandas-docs/stable/user_guide/indexing.html#returning-a-view-versus-a-copy\n",
      "  df_news['Polarity'] = df_news['headline_text'].apply(getPolarity)\n"
     ]
    },
    {
     "data": {
      "text/html": [
       "<div>\n",
       "<style scoped>\n",
       "    .dataframe tbody tr th:only-of-type {\n",
       "        vertical-align: middle;\n",
       "    }\n",
       "\n",
       "    .dataframe tbody tr th {\n",
       "        vertical-align: top;\n",
       "    }\n",
       "\n",
       "    .dataframe thead th {\n",
       "        text-align: right;\n",
       "    }\n",
       "</style>\n",
       "<table border=\"1\" class=\"dataframe\">\n",
       "  <thead>\n",
       "    <tr style=\"text-align: right;\">\n",
       "      <th></th>\n",
       "      <th>headline_text</th>\n",
       "      <th>date</th>\n",
       "      <th>Subjectivity</th>\n",
       "      <th>Polarity</th>\n",
       "    </tr>\n",
       "  </thead>\n",
       "  <tbody>\n",
       "    <tr>\n",
       "      <th>0</th>\n",
       "      <td>technology wishlist 2011 air passengers haras...</td>\n",
       "      <td>2011-01-02</td>\n",
       "      <td>0.420696</td>\n",
       "      <td>0.052225</td>\n",
       "    </tr>\n",
       "    <tr>\n",
       "      <th>1</th>\n",
       "      <td>photo gallery ( ashes 2010 ) guy needs compli...</td>\n",
       "      <td>2011-01-03</td>\n",
       "      <td>0.375598</td>\n",
       "      <td>0.061099</td>\n",
       "    </tr>\n",
       "    <tr>\n",
       "      <th>2</th>\n",
       "      <td>deepika padukone deepika padukone imran invit...</td>\n",
       "      <td>2011-01-04</td>\n",
       "      <td>0.391273</td>\n",
       "      <td>0.019847</td>\n",
       "    </tr>\n",
       "    <tr>\n",
       "      <th>3</th>\n",
       "      <td>man dies heart attack killing lover 's hubby ...</td>\n",
       "      <td>2011-01-05</td>\n",
       "      <td>0.420299</td>\n",
       "      <td>0.010189</td>\n",
       "    </tr>\n",
       "    <tr>\n",
       "      <th>4</th>\n",
       "      <td>photo gallery ( indian tour south africa ) ra...</td>\n",
       "      <td>2011-01-06</td>\n",
       "      <td>0.389732</td>\n",
       "      <td>0.020557</td>\n",
       "    </tr>\n",
       "    <tr>\n",
       "      <th>...</th>\n",
       "      <td>...</td>\n",
       "      <td>...</td>\n",
       "      <td>...</td>\n",
       "      <td>...</td>\n",
       "    </tr>\n",
       "    <tr>\n",
       "      <th>3463</th>\n",
       "      <td>containment zone residents slam high prices c...</td>\n",
       "      <td>2020-06-26</td>\n",
       "      <td>0.364023</td>\n",
       "      <td>0.043772</td>\n",
       "    </tr>\n",
       "    <tr>\n",
       "      <th>3464</th>\n",
       "      <td>like wont let toxic relationship food major r...</td>\n",
       "      <td>2020-06-27</td>\n",
       "      <td>0.381440</td>\n",
       "      <td>0.068239</td>\n",
       "    </tr>\n",
       "    <tr>\n",
       "      <th>3465</th>\n",
       "      <td>atanu ghosh plans rewrite old scripts make re...</td>\n",
       "      <td>2020-06-28</td>\n",
       "      <td>0.399849</td>\n",
       "      <td>0.037077</td>\n",
       "    </tr>\n",
       "    <tr>\n",
       "      <th>3466</th>\n",
       "      <td>6 hot stylish bikini looks katrina kaif anna ...</td>\n",
       "      <td>2020-06-29</td>\n",
       "      <td>0.378767</td>\n",
       "      <td>0.041490</td>\n",
       "    </tr>\n",
       "    <tr>\n",
       "      <th>3467</th>\n",
       "      <td>detective byomkesh bakshy ! edge tomorrow fir...</td>\n",
       "      <td>2020-06-30</td>\n",
       "      <td>0.371251</td>\n",
       "      <td>0.056746</td>\n",
       "    </tr>\n",
       "  </tbody>\n",
       "</table>\n",
       "<p>3468 rows × 4 columns</p>\n",
       "</div>"
      ],
      "text/plain": [
       "                                          headline_text       date  \\\n",
       "0      technology wishlist 2011 air passengers haras... 2011-01-02   \n",
       "1      photo gallery ( ashes 2010 ) guy needs compli... 2011-01-03   \n",
       "2      deepika padukone deepika padukone imran invit... 2011-01-04   \n",
       "3      man dies heart attack killing lover 's hubby ... 2011-01-05   \n",
       "4      photo gallery ( indian tour south africa ) ra... 2011-01-06   \n",
       "...                                                 ...        ...   \n",
       "3463   containment zone residents slam high prices c... 2020-06-26   \n",
       "3464   like wont let toxic relationship food major r... 2020-06-27   \n",
       "3465   atanu ghosh plans rewrite old scripts make re... 2020-06-28   \n",
       "3466   6 hot stylish bikini looks katrina kaif anna ... 2020-06-29   \n",
       "3467   detective byomkesh bakshy ! edge tomorrow fir... 2020-06-30   \n",
       "\n",
       "      Subjectivity  Polarity  \n",
       "0         0.420696  0.052225  \n",
       "1         0.375598  0.061099  \n",
       "2         0.391273  0.019847  \n",
       "3         0.420299  0.010189  \n",
       "4         0.389732  0.020557  \n",
       "...            ...       ...  \n",
       "3463      0.364023  0.043772  \n",
       "3464      0.381440  0.068239  \n",
       "3465      0.399849  0.037077  \n",
       "3466      0.378767  0.041490  \n",
       "3467      0.371251  0.056746  \n",
       "\n",
       "[3468 rows x 4 columns]"
      ]
     },
     "execution_count": 14,
     "metadata": {},
     "output_type": "execute_result"
    }
   ],
   "source": [
    "#Adding subjectivity and polarity columns\n",
    "df_news['Subjectivity'] = df_news['headline_text'].apply(getSubjectivity)\n",
    "df_news['Polarity'] = df_news['headline_text'].apply(getPolarity)\n",
    "df_news"
   ]
  },
  {
   "cell_type": "code",
   "execution_count": 15,
   "metadata": {},
   "outputs": [
    {
     "data": {
      "text/plain": [
       "<matplotlib.axes._subplots.AxesSubplot at 0x23602441fd0>"
      ]
     },
     "execution_count": 15,
     "metadata": {},
     "output_type": "execute_result"
    },
    {
     "data": {
      "image/png": "[encoded data removed]",
      "text/plain": [
       "<Figure size 720x432 with 1 Axes>"
      ]
     },
     "metadata": {
      "needs_background": "light"
     },
     "output_type": "display_data"
    }
   ],
   "source": [
    "plt.figure(figsize = (10,6))\n",
    "df_news['Polarity'].hist(color = 'pink')"
   ]
  },
  {
   "cell_type": "code",
   "execution_count": 16,
   "metadata": {},
   "outputs": [
    {
     "data": {
      "text/plain": [
       "<matplotlib.axes._subplots.AxesSubplot at 0x23602435dc0>"
      ]
     },
     "execution_count": 16,
     "metadata": {},
     "output_type": "execute_result"
    },
    {
     "data": {
      "image/png": "[encoded data removed]",
      "text/plain": [
       "<Figure size 720x432 with 1 Axes>"
      ]
     },
     "metadata": {
      "needs_background": "light"
     },
     "output_type": "display_data"
    }
   ],
   "source": [
    "plt.figure(figsize = (10,6))\n",
    "df_news['Subjectivity'].hist(color = 'green')"
   ]
  },
  {
   "cell_type": "markdown",
   "metadata": {},
   "source": [
    "### Adding Sentiment Scores to df_news"
   ]
  },
  {
   "cell_type": "code",
   "execution_count": 17,
   "metadata": {},
   "outputs": [
    {
     "name": "stderr",
     "output_type": "stream",
     "text": [
      "<ipython-input-17-9fb92a98a7a6>:3: SettingWithCopyWarning: \n",
      "A value is trying to be set on a copy of a slice from a DataFrame.\n",
      "Try using .loc[row_indexer,col_indexer] = value instead\n",
      "\n",
      "See the caveats in the documentation: https://pandas.pydata.org/pandas-docs/stable/user_guide/indexing.html#returning-a-view-versus-a-copy\n",
      "  df_news['Compound'] = [sia.polarity_scores(v)['compound'] for v in df_news['headline_text']]\n",
      "<ipython-input-17-9fb92a98a7a6>:4: SettingWithCopyWarning: \n",
      "A value is trying to be set on a copy of a slice from a DataFrame.\n",
      "Try using .loc[row_indexer,col_indexer] = value instead\n",
      "\n",
      "See the caveats in the documentation: https://pandas.pydata.org/pandas-docs/stable/user_guide/indexing.html#returning-a-view-versus-a-copy\n",
      "  df_news['Negative'] = [sia.polarity_scores(v)['neg'] for v in df_news['headline_text']]\n",
      "<ipython-input-17-9fb92a98a7a6>:5: SettingWithCopyWarning: \n",
      "A value is trying to be set on a copy of a slice from a DataFrame.\n",
      "Try using .loc[row_indexer,col_indexer] = value instead\n",
      "\n",
      "See the caveats in the documentation: https://pandas.pydata.org/pandas-docs/stable/user_guide/indexing.html#returning-a-view-versus-a-copy\n",
      "  df_news['Neutral'] = [sia.polarity_scores(v)['neu'] for v in df_news['headline_text']]\n",
      "<ipython-input-17-9fb92a98a7a6>:6: SettingWithCopyWarning: \n",
      "A value is trying to be set on a copy of a slice from a DataFrame.\n",
      "Try using .loc[row_indexer,col_indexer] = value instead\n",
      "\n",
      "See the caveats in the documentation: https://pandas.pydata.org/pandas-docs/stable/user_guide/indexing.html#returning-a-view-versus-a-copy\n",
      "  df_news['Positive'] = [sia.polarity_scores(v)['pos'] for v in df_news['headline_text']]\n"
     ]
    },
    {
     "data": {
      "text/html": [
       "<div>\n",
       "<style scoped>\n",
       "    .dataframe tbody tr th:only-of-type {\n",
       "        vertical-align: middle;\n",
       "    }\n",
       "\n",
       "    .dataframe tbody tr th {\n",
       "        vertical-align: top;\n",
       "    }\n",
       "\n",
       "    .dataframe thead th {\n",
       "        text-align: right;\n",
       "    }\n",
       "</style>\n",
       "<table border=\"1\" class=\"dataframe\">\n",
       "  <thead>\n",
       "    <tr style=\"text-align: right;\">\n",
       "      <th></th>\n",
       "      <th>headline_text</th>\n",
       "      <th>date</th>\n",
       "      <th>Subjectivity</th>\n",
       "      <th>Polarity</th>\n",
       "      <th>Compound</th>\n",
       "      <th>Negative</th>\n",
       "      <th>Neutral</th>\n",
       "      <th>Positive</th>\n",
       "    </tr>\n",
       "  </thead>\n",
       "  <tbody>\n",
       "    <tr>\n",
       "      <th>0</th>\n",
       "      <td>technology wishlist 2011 air passengers haras...</td>\n",
       "      <td>2011-01-02</td>\n",
       "      <td>0.420696</td>\n",
       "      <td>0.052225</td>\n",
       "      <td>-0.9999</td>\n",
       "      <td>0.195</td>\n",
       "      <td>0.696</td>\n",
       "      <td>0.109</td>\n",
       "    </tr>\n",
       "    <tr>\n",
       "      <th>1</th>\n",
       "      <td>photo gallery ( ashes 2010 ) guy needs compli...</td>\n",
       "      <td>2011-01-03</td>\n",
       "      <td>0.375598</td>\n",
       "      <td>0.061099</td>\n",
       "      <td>-0.9997</td>\n",
       "      <td>0.178</td>\n",
       "      <td>0.710</td>\n",
       "      <td>0.112</td>\n",
       "    </tr>\n",
       "    <tr>\n",
       "      <th>2</th>\n",
       "      <td>deepika padukone deepika padukone imran invit...</td>\n",
       "      <td>2011-01-04</td>\n",
       "      <td>0.391273</td>\n",
       "      <td>0.019847</td>\n",
       "      <td>-0.9998</td>\n",
       "      <td>0.174</td>\n",
       "      <td>0.717</td>\n",
       "      <td>0.108</td>\n",
       "    </tr>\n",
       "    <tr>\n",
       "      <th>3</th>\n",
       "      <td>man dies heart attack killing lover 's hubby ...</td>\n",
       "      <td>2011-01-05</td>\n",
       "      <td>0.420299</td>\n",
       "      <td>0.010189</td>\n",
       "      <td>-0.9999</td>\n",
       "      <td>0.189</td>\n",
       "      <td>0.701</td>\n",
       "      <td>0.109</td>\n",
       "    </tr>\n",
       "    <tr>\n",
       "      <th>4</th>\n",
       "      <td>photo gallery ( indian tour south africa ) ra...</td>\n",
       "      <td>2011-01-06</td>\n",
       "      <td>0.389732</td>\n",
       "      <td>0.020557</td>\n",
       "      <td>-0.9998</td>\n",
       "      <td>0.159</td>\n",
       "      <td>0.741</td>\n",
       "      <td>0.100</td>\n",
       "    </tr>\n",
       "    <tr>\n",
       "      <th>...</th>\n",
       "      <td>...</td>\n",
       "      <td>...</td>\n",
       "      <td>...</td>\n",
       "      <td>...</td>\n",
       "      <td>...</td>\n",
       "      <td>...</td>\n",
       "      <td>...</td>\n",
       "      <td>...</td>\n",
       "    </tr>\n",
       "    <tr>\n",
       "      <th>3463</th>\n",
       "      <td>containment zone residents slam high prices c...</td>\n",
       "      <td>2020-06-26</td>\n",
       "      <td>0.364023</td>\n",
       "      <td>0.043772</td>\n",
       "      <td>-0.9998</td>\n",
       "      <td>0.155</td>\n",
       "      <td>0.753</td>\n",
       "      <td>0.092</td>\n",
       "    </tr>\n",
       "    <tr>\n",
       "      <th>3464</th>\n",
       "      <td>like wont let toxic relationship food major r...</td>\n",
       "      <td>2020-06-27</td>\n",
       "      <td>0.381440</td>\n",
       "      <td>0.068239</td>\n",
       "      <td>-0.9998</td>\n",
       "      <td>0.148</td>\n",
       "      <td>0.759</td>\n",
       "      <td>0.093</td>\n",
       "    </tr>\n",
       "    <tr>\n",
       "      <th>3465</th>\n",
       "      <td>atanu ghosh plans rewrite old scripts make re...</td>\n",
       "      <td>2020-06-28</td>\n",
       "      <td>0.399849</td>\n",
       "      <td>0.037077</td>\n",
       "      <td>-0.9999</td>\n",
       "      <td>0.157</td>\n",
       "      <td>0.760</td>\n",
       "      <td>0.083</td>\n",
       "    </tr>\n",
       "    <tr>\n",
       "      <th>3466</th>\n",
       "      <td>6 hot stylish bikini looks katrina kaif anna ...</td>\n",
       "      <td>2020-06-29</td>\n",
       "      <td>0.378767</td>\n",
       "      <td>0.041490</td>\n",
       "      <td>-0.9998</td>\n",
       "      <td>0.152</td>\n",
       "      <td>0.760</td>\n",
       "      <td>0.088</td>\n",
       "    </tr>\n",
       "    <tr>\n",
       "      <th>3467</th>\n",
       "      <td>detective byomkesh bakshy ! edge tomorrow fir...</td>\n",
       "      <td>2020-06-30</td>\n",
       "      <td>0.371251</td>\n",
       "      <td>0.056746</td>\n",
       "      <td>-0.9998</td>\n",
       "      <td>0.136</td>\n",
       "      <td>0.792</td>\n",
       "      <td>0.073</td>\n",
       "    </tr>\n",
       "  </tbody>\n",
       "</table>\n",
       "<p>3468 rows × 8 columns</p>\n",
       "</div>"
      ],
      "text/plain": [
       "                                          headline_text       date  \\\n",
       "0      technology wishlist 2011 air passengers haras... 2011-01-02   \n",
       "1      photo gallery ( ashes 2010 ) guy needs compli... 2011-01-03   \n",
       "2      deepika padukone deepika padukone imran invit... 2011-01-04   \n",
       "3      man dies heart attack killing lover 's hubby ... 2011-01-05   \n",
       "4      photo gallery ( indian tour south africa ) ra... 2011-01-06   \n",
       "...                                                 ...        ...   \n",
       "3463   containment zone residents slam high prices c... 2020-06-26   \n",
       "3464   like wont let toxic relationship food major r... 2020-06-27   \n",
       "3465   atanu ghosh plans rewrite old scripts make re... 2020-06-28   \n",
       "3466   6 hot stylish bikini looks katrina kaif anna ... 2020-06-29   \n",
       "3467   detective byomkesh bakshy ! edge tomorrow fir... 2020-06-30   \n",
       "\n",
       "      Subjectivity  Polarity  Compound  Negative  Neutral  Positive  \n",
       "0         0.420696  0.052225   -0.9999     0.195    0.696     0.109  \n",
       "1         0.375598  0.061099   -0.9997     0.178    0.710     0.112  \n",
       "2         0.391273  0.019847   -0.9998     0.174    0.717     0.108  \n",
       "3         0.420299  0.010189   -0.9999     0.189    0.701     0.109  \n",
       "4         0.389732  0.020557   -0.9998     0.159    0.741     0.100  \n",
       "...            ...       ...       ...       ...      ...       ...  \n",
       "3463      0.364023  0.043772   -0.9998     0.155    0.753     0.092  \n",
       "3464      0.381440  0.068239   -0.9998     0.148    0.759     0.093  \n",
       "3465      0.399849  0.037077   -0.9999     0.157    0.760     0.083  \n",
       "3466      0.378767  0.041490   -0.9998     0.152    0.760     0.088  \n",
       "3467      0.371251  0.056746   -0.9998     0.136    0.792     0.073  \n",
       "\n",
       "[3468 rows x 8 columns]"
      ]
     },
     "execution_count": 17,
     "metadata": {},
     "output_type": "execute_result"
    }
   ],
   "source": [
    "sia = SentimentIntensityAnalyzer()\n",
    "\n",
    "df_news['Compound'] = [sia.polarity_scores(v)['compound'] for v in df_news['headline_text']]\n",
    "df_news['Negative'] = [sia.polarity_scores(v)['neg'] for v in df_news['headline_text']]\n",
    "df_news['Neutral'] = [sia.polarity_scores(v)['neu'] for v in df_news['headline_text']]\n",
    "df_news['Positive'] = [sia.polarity_scores(v)['pos'] for v in df_news['headline_text']]\n",
    "df_news"
   ]
  },
  {
   "cell_type": "markdown",
   "metadata": {},
   "source": [
    "## Numerical Analysis"
   ]
  },
  {
   "cell_type": "markdown",
   "metadata": {},
   "source": [
    "Now we are going to analyze the historical stock price dataset"
   ]
  },
  {
   "cell_type": "code",
   "execution_count": 18,
   "metadata": {},
   "outputs": [
    {
     "data": {
      "text/html": [
       "<div>\n",
       "<style scoped>\n",
       "    .dataframe tbody tr th:only-of-type {\n",
       "        vertical-align: middle;\n",
       "    }\n",
       "\n",
       "    .dataframe tbody tr th {\n",
       "        vertical-align: top;\n",
       "    }\n",
       "\n",
       "    .dataframe thead th {\n",
       "        text-align: right;\n",
       "    }\n",
       "</style>\n",
       "<table border=\"1\" class=\"dataframe\">\n",
       "  <thead>\n",
       "    <tr style=\"text-align: right;\">\n",
       "      <th></th>\n",
       "      <th>Date</th>\n",
       "      <th>Open</th>\n",
       "      <th>High</th>\n",
       "      <th>Low</th>\n",
       "      <th>Close</th>\n",
       "      <th>Adj Close</th>\n",
       "      <th>Volume</th>\n",
       "    </tr>\n",
       "  </thead>\n",
       "  <tbody>\n",
       "    <tr>\n",
       "      <th>0</th>\n",
       "      <td>2011-01-03</td>\n",
       "      <td>20621.609375</td>\n",
       "      <td>20664.800781</td>\n",
       "      <td>20531.000000</td>\n",
       "      <td>20561.050781</td>\n",
       "      <td>20561.050781</td>\n",
       "      <td>12000.0</td>\n",
       "    </tr>\n",
       "    <tr>\n",
       "      <th>1</th>\n",
       "      <td>2011-01-04</td>\n",
       "      <td>20617.380859</td>\n",
       "      <td>20651.210938</td>\n",
       "      <td>20449.009766</td>\n",
       "      <td>20498.720703</td>\n",
       "      <td>20498.720703</td>\n",
       "      <td>15200.0</td>\n",
       "    </tr>\n",
       "    <tr>\n",
       "      <th>2</th>\n",
       "      <td>2011-01-05</td>\n",
       "      <td>20509.949219</td>\n",
       "      <td>20509.949219</td>\n",
       "      <td>20243.949219</td>\n",
       "      <td>20301.099609</td>\n",
       "      <td>20301.099609</td>\n",
       "      <td>14400.0</td>\n",
       "    </tr>\n",
       "    <tr>\n",
       "      <th>3</th>\n",
       "      <td>2011-01-06</td>\n",
       "      <td>20395.500000</td>\n",
       "      <td>20425.849609</td>\n",
       "      <td>20107.169922</td>\n",
       "      <td>20184.740234</td>\n",
       "      <td>20184.740234</td>\n",
       "      <td>16600.0</td>\n",
       "    </tr>\n",
       "    <tr>\n",
       "      <th>4</th>\n",
       "      <td>2011-01-07</td>\n",
       "      <td>20163.849609</td>\n",
       "      <td>20210.619141</td>\n",
       "      <td>19629.220703</td>\n",
       "      <td>19691.810547</td>\n",
       "      <td>19691.810547</td>\n",
       "      <td>15800.0</td>\n",
       "    </tr>\n",
       "  </tbody>\n",
       "</table>\n",
       "</div>"
      ],
      "text/plain": [
       "         Date          Open          High           Low         Close  \\\n",
       "0  2011-01-03  20621.609375  20664.800781  20531.000000  20561.050781   \n",
       "1  2011-01-04  20617.380859  20651.210938  20449.009766  20498.720703   \n",
       "2  2011-01-05  20509.949219  20509.949219  20243.949219  20301.099609   \n",
       "3  2011-01-06  20395.500000  20425.849609  20107.169922  20184.740234   \n",
       "4  2011-01-07  20163.849609  20210.619141  19629.220703  19691.810547   \n",
       "\n",
       "      Adj Close   Volume  \n",
       "0  20561.050781  12000.0  \n",
       "1  20498.720703  15200.0  \n",
       "2  20301.099609  14400.0  \n",
       "3  20184.740234  16600.0  \n",
       "4  19691.810547  15800.0  "
      ]
     },
     "execution_count": 18,
     "metadata": {},
     "output_type": "execute_result"
    }
   ],
   "source": [
    "stock_df = pd.read_csv('BSESN.csv')\n",
    "stock_df.head()"
   ]
  },
  {
   "cell_type": "code",
   "execution_count": 19,
   "metadata": {},
   "outputs": [
    {
     "name": "stdout",
     "output_type": "stream",
     "text": [
      "<class 'pandas.core.frame.DataFrame'>\n",
      "RangeIndex: 2455 entries, 0 to 2454\n",
      "Data columns (total 7 columns):\n",
      " #   Column     Non-Null Count  Dtype  \n",
      "---  ------     --------------  -----  \n",
      " 0   Date       2455 non-null   object \n",
      " 1   Open       2438 non-null   float64\n",
      " 2   High       2438 non-null   float64\n",
      " 3   Low        2438 non-null   float64\n",
      " 4   Close      2438 non-null   float64\n",
      " 5   Adj Close  2438 non-null   float64\n",
      " 6   Volume     2438 non-null   float64\n",
      "dtypes: float64(6), object(1)\n",
      "memory usage: 134.4+ KB\n"
     ]
    }
   ],
   "source": [
    "# General info\n",
    "stock_df.info()"
   ]
  },
  {
   "cell_type": "code",
   "execution_count": 20,
   "metadata": {},
   "outputs": [
    {
     "data": {
      "text/html": [
       "<div>\n",
       "<style scoped>\n",
       "    .dataframe tbody tr th:only-of-type {\n",
       "        vertical-align: middle;\n",
       "    }\n",
       "\n",
       "    .dataframe tbody tr th {\n",
       "        vertical-align: top;\n",
       "    }\n",
       "\n",
       "    .dataframe thead th {\n",
       "        text-align: right;\n",
       "    }\n",
       "</style>\n",
       "<table border=\"1\" class=\"dataframe\">\n",
       "  <thead>\n",
       "    <tr style=\"text-align: right;\">\n",
       "      <th></th>\n",
       "      <th>Open</th>\n",
       "      <th>High</th>\n",
       "      <th>Low</th>\n",
       "      <th>Close</th>\n",
       "      <th>Adj Close</th>\n",
       "      <th>Volume</th>\n",
       "    </tr>\n",
       "  </thead>\n",
       "  <tbody>\n",
       "    <tr>\n",
       "      <th>count</th>\n",
       "      <td>2438.000000</td>\n",
       "      <td>2438.000000</td>\n",
       "      <td>2438.000000</td>\n",
       "      <td>2438.000000</td>\n",
       "      <td>2438.000000</td>\n",
       "      <td>2.438000e+03</td>\n",
       "    </tr>\n",
       "    <tr>\n",
       "      <th>mean</th>\n",
       "      <td>27534.990383</td>\n",
       "      <td>27672.280174</td>\n",
       "      <td>27340.152603</td>\n",
       "      <td>27499.768572</td>\n",
       "      <td>27499.768572</td>\n",
       "      <td>1.439943e+05</td>\n",
       "    </tr>\n",
       "    <tr>\n",
       "      <th>std</th>\n",
       "      <td>7700.982133</td>\n",
       "      <td>7722.415079</td>\n",
       "      <td>7653.057429</td>\n",
       "      <td>7687.470434</td>\n",
       "      <td>7687.470434</td>\n",
       "      <td>1.513235e+06</td>\n",
       "    </tr>\n",
       "    <tr>\n",
       "      <th>min</th>\n",
       "      <td>15436.120117</td>\n",
       "      <td>15440.099609</td>\n",
       "      <td>15135.860352</td>\n",
       "      <td>15175.080078</td>\n",
       "      <td>15175.080078</td>\n",
       "      <td>2.500000e+03</td>\n",
       "    </tr>\n",
       "    <tr>\n",
       "      <th>25%</th>\n",
       "      <td>19723.430176</td>\n",
       "      <td>19820.339844</td>\n",
       "      <td>19621.708008</td>\n",
       "      <td>19698.077149</td>\n",
       "      <td>19698.077149</td>\n",
       "      <td>9.500000e+03</td>\n",
       "    </tr>\n",
       "    <tr>\n",
       "      <th>50%</th>\n",
       "      <td>27251.379883</td>\n",
       "      <td>27389.254882</td>\n",
       "      <td>27123.465820</td>\n",
       "      <td>27249.129882</td>\n",
       "      <td>27249.129882</td>\n",
       "      <td>1.200000e+04</td>\n",
       "    </tr>\n",
       "    <tr>\n",
       "      <th>75%</th>\n",
       "      <td>34203.609375</td>\n",
       "      <td>34456.069336</td>\n",
       "      <td>33999.981445</td>\n",
       "      <td>34190.496094</td>\n",
       "      <td>34190.496094</td>\n",
       "      <td>1.687500e+04</td>\n",
       "    </tr>\n",
       "    <tr>\n",
       "      <th>max</th>\n",
       "      <td>45999.421875</td>\n",
       "      <td>46164.101563</td>\n",
       "      <td>45792.011719</td>\n",
       "      <td>46103.500000</td>\n",
       "      <td>46103.500000</td>\n",
       "      <td>3.181510e+07</td>\n",
       "    </tr>\n",
       "  </tbody>\n",
       "</table>\n",
       "</div>"
      ],
      "text/plain": [
       "               Open          High           Low         Close     Adj Close  \\\n",
       "count   2438.000000   2438.000000   2438.000000   2438.000000   2438.000000   \n",
       "mean   27534.990383  27672.280174  27340.152603  27499.768572  27499.768572   \n",
       "std     7700.982133   7722.415079   7653.057429   7687.470434   7687.470434   \n",
       "min    15436.120117  15440.099609  15135.860352  15175.080078  15175.080078   \n",
       "25%    19723.430176  19820.339844  19621.708008  19698.077149  19698.077149   \n",
       "50%    27251.379883  27389.254882  27123.465820  27249.129882  27249.129882   \n",
       "75%    34203.609375  34456.069336  33999.981445  34190.496094  34190.496094   \n",
       "max    45999.421875  46164.101563  45792.011719  46103.500000  46103.500000   \n",
       "\n",
       "             Volume  \n",
       "count  2.438000e+03  \n",
       "mean   1.439943e+05  \n",
       "std    1.513235e+06  \n",
       "min    2.500000e+03  \n",
       "25%    9.500000e+03  \n",
       "50%    1.200000e+04  \n",
       "75%    1.687500e+04  \n",
       "max    3.181510e+07  "
      ]
     },
     "execution_count": 20,
     "metadata": {},
     "output_type": "execute_result"
    }
   ],
   "source": [
    "# Summary Stats\n",
    "stock_df.describe()"
   ]
  },
  {
   "cell_type": "code",
   "execution_count": 21,
   "metadata": {},
   "outputs": [],
   "source": [
    "# Dropping null values\n",
    "stock_df = stock_df.dropna() "
   ]
  },
  {
   "cell_type": "code",
   "execution_count": 22,
   "metadata": {},
   "outputs": [],
   "source": [
    "stock_df['date'] = pd.to_datetime(stock_df['Date'], infer_datetime_format=True)\n",
    "stock_df = stock_df.drop('Date', axis=1)"
   ]
  },
  {
   "cell_type": "code",
   "execution_count": 23,
   "metadata": {},
   "outputs": [
    {
     "data": {
      "text/plain": [
       "Text(0.5, 1.0, 'SENSEX')"
      ]
     },
     "execution_count": 23,
     "metadata": {},
     "output_type": "execute_result"
    },
    {
     "data": {
      "image/png": "[encoded data removed]",
      "text/plain": [
       "<Figure size 576x432 with 1 Axes>"
      ]
     },
     "metadata": {
      "needs_background": "light"
     },
     "output_type": "display_data"
    }
   ],
   "source": [
    "# Let's see a historical view of the closing price\n",
    "plt.figure(figsize=(8, 6))\n",
    "plt.plot( stock_df['date'],stock_df['Close'])\n",
    "plt.ylabel('Close')\n",
    "plt.xlabel('Date')\n",
    "plt.title(\"SENSEX\")"
   ]
  },
  {
   "cell_type": "code",
   "execution_count": 24,
   "metadata": {},
   "outputs": [
    {
     "data": {
      "text/plain": [
       "Text(0.5, 1.0, 'SENSEX')"
      ]
     },
     "execution_count": 24,
     "metadata": {},
     "output_type": "execute_result"
    },
    {
     "data": {
      "image/png": "[encoded data removed]",
      "text/plain": [
       "<Figure size 576x432 with 1 Axes>"
      ]
     },
     "metadata": {
      "needs_background": "light"
     },
     "output_type": "display_data"
    }
   ],
   "source": [
    "# Let's see a historical view of total Volume being traded everyday\n",
    "plt.figure(figsize=(8, 6))\n",
    "plt.plot( stock_df['date'],stock_df['Volume'])\n",
    "plt.ylabel('Volume')\n",
    "plt.xlabel('Date')\n",
    "plt.title(\"SENSEX\")"
   ]
  },
  {
   "cell_type": "code",
   "execution_count": 25,
   "metadata": {},
   "outputs": [
    {
     "data": {
      "text/plain": [
       "array([[<matplotlib.axes._subplots.AxesSubplot object at 0x000002360270CAF0>,\n",
       "        <matplotlib.axes._subplots.AxesSubplot object at 0x00000236026FA2E0>],\n",
       "       [<matplotlib.axes._subplots.AxesSubplot object at 0x000002360AFC1730>,\n",
       "        <matplotlib.axes._subplots.AxesSubplot object at 0x000002360E79FBB0>],\n",
       "       [<matplotlib.axes._subplots.AxesSubplot object at 0x000002360E7600A0>,\n",
       "        <matplotlib.axes._subplots.AxesSubplot object at 0x000002360E6733D0>]],\n",
       "      dtype=object)"
      ]
     },
     "execution_count": 25,
     "metadata": {},
     "output_type": "execute_result"
    },
    {
     "data": {
      "image/png": "[encoded data removed]",
      "text/plain": [
       "<Figure size 864x864 with 6 Axes>"
      ]
     },
     "metadata": {
      "needs_background": "light"
     },
     "output_type": "display_data"
    }
   ],
   "source": [
    "stock_df.hist(figsize=(12,12))"
   ]
  },
  {
   "cell_type": "code",
   "execution_count": 26,
   "metadata": {},
   "outputs": [
    {
     "data": {
      "text/plain": [
       "<matplotlib.legend.Legend at 0x2360b1300d0>"
      ]
     },
     "execution_count": 26,
     "metadata": {},
     "output_type": "execute_result"
    },
    {
     "data": {
      "image/png": "[encoded data removed]",
      "text/plain": [
       "<Figure size 720x432 with 1 Axes>"
      ]
     },
     "metadata": {
      "needs_background": "light"
     },
     "output_type": "display_data"
    }
   ],
   "source": [
    "#Plotting moving average\n",
    "close = stock_df['Close']\n",
    "ma = close.rolling(window = 50).mean()\n",
    "std = close.rolling(window = 50).std()\n",
    "\n",
    "plt.figure(figsize=(10, 6))\n",
    "stock_df['Close'].plot(color = 'b', label = 'Close')\n",
    "ma.plot(color = 'r', label = 'Rolling Mean')\n",
    "std.plot(label = 'Rolling Standard Deviation')\n",
    "plt.legend()"
   ]
  },
  {
   "cell_type": "markdown",
   "metadata": {},
   "source": [
    "### Cheking Daily return\n",
    "We're now going to analyze the risk of the stock. In order to do so we'll need to take a closer look at the daily changes of the stock"
   ]
  },
  {
   "cell_type": "code",
   "execution_count": 27,
   "metadata": {},
   "outputs": [
    {
     "data": {
      "text/plain": [
       "Text(0.5, 1.0, 'SENSEX')"
      ]
     },
     "execution_count": 27,
     "metadata": {},
     "output_type": "execute_result"
    },
    {
     "data": {
      "image/png": "[encoded data removed]",
      "text/plain": [
       "<Figure size 720x432 with 1 Axes>"
      ]
     },
     "metadata": {
      "needs_background": "light"
     },
     "output_type": "display_data"
    }
   ],
   "source": [
    "# We'll use pct_change to find the percent change for each day\n",
    "stock_df['Daily Return'] = stock_df['Close'].pct_change()\n",
    "plt.figure(figsize=(10, 6))\n",
    "stock_df['Daily Return'].plot( legend=True, linestyle='--', marker='o')\n",
    "plt.title(\"SENSEX\")"
   ]
  },
  {
   "cell_type": "code",
   "execution_count": 28,
   "metadata": {},
   "outputs": [
    {
     "data": {
      "text/plain": [
       "Text(0.5, 1.0, 'SENSEX')"
      ]
     },
     "execution_count": 28,
     "metadata": {},
     "output_type": "execute_result"
    },
    {
     "data": {
      "image/png": "[encoded data removed]",
      "text/plain": [
       "<Figure size 720x576 with 1 Axes>"
      ]
     },
     "metadata": {
      "needs_background": "light"
     },
     "output_type": "display_data"
    }
   ],
   "source": [
    "plt.figure(figsize=(10,8))\n",
    "sns.distplot(stock_df['Daily Return'].dropna(), bins=100, color='purple')\n",
    "plt.ylabel('Daily Return')\n",
    "plt.title(\"SENSEX\")"
   ]
  },
  {
   "cell_type": "code",
   "execution_count": 149,
   "metadata": {},
   "outputs": [],
   "source": [
    "# Checking the moving avergae of SENSEX stock price for 10, 20 and 50 days\n",
    "MA_day = [10, 20, 50]\n",
    "\n",
    "for ma in MA_day:\n",
    "    column_name = f\"MA for {ma} days\"\n",
    "    stock_df[column_name] = stock_df['Adj Close'].rolling(ma).mean()"
   ]
  },
  {
   "cell_type": "code",
   "execution_count": 152,
   "metadata": {},
   "outputs": [
    {
     "data": {
      "text/plain": [
       "Text(0.5, 1.0, 'SENSEX')"
      ]
     },
     "execution_count": 152,
     "metadata": {},
     "output_type": "execute_result"
    },
    {
     "data": {
      "image/png": "[encoded data removed]",
      "text/plain": [
       "<Figure size 432x288 with 1 Axes>"
      ]
     },
     "metadata": {
      "needs_background": "light"
     },
     "output_type": "display_data"
    }
   ],
   "source": [
    "stock_df[['Adj Close', 'MA for 10 days', 'MA for 20 days', 'MA for 50 days']].plot()\n",
    "plt.title('SENSEX')"
   ]
  },
  {
   "cell_type": "markdown",
   "metadata": {},
   "source": [
    "## Merging Stock DataFrame and News Analysis DataFrame  "
   ]
  },
  {
   "cell_type": "code",
   "execution_count": 153,
   "metadata": {
    "scrolled": true
   },
   "outputs": [
    {
     "data": {
      "text/html": [
       "<div>\n",
       "<style scoped>\n",
       "    .dataframe tbody tr th:only-of-type {\n",
       "        vertical-align: middle;\n",
       "    }\n",
       "\n",
       "    .dataframe tbody tr th {\n",
       "        vertical-align: top;\n",
       "    }\n",
       "\n",
       "    .dataframe thead th {\n",
       "        text-align: right;\n",
       "    }\n",
       "</style>\n",
       "<table border=\"1\" class=\"dataframe\">\n",
       "  <thead>\n",
       "    <tr style=\"text-align: right;\">\n",
       "      <th></th>\n",
       "      <th>Open</th>\n",
       "      <th>High</th>\n",
       "      <th>Low</th>\n",
       "      <th>Close</th>\n",
       "      <th>Adj Close</th>\n",
       "      <th>Volume</th>\n",
       "      <th>date</th>\n",
       "      <th>Daily Return</th>\n",
       "      <th>MA for 10 days</th>\n",
       "      <th>MA for 20 days</th>\n",
       "      <th>MA for 50 days</th>\n",
       "      <th>headline_text</th>\n",
       "      <th>Subjectivity</th>\n",
       "      <th>Polarity</th>\n",
       "      <th>Compound</th>\n",
       "      <th>Negative</th>\n",
       "      <th>Neutral</th>\n",
       "      <th>Positive</th>\n",
       "    </tr>\n",
       "  </thead>\n",
       "  <tbody>\n",
       "    <tr>\n",
       "      <th>0</th>\n",
       "      <td>20621.609375</td>\n",
       "      <td>20664.800781</td>\n",
       "      <td>20531.000000</td>\n",
       "      <td>20561.050781</td>\n",
       "      <td>20561.050781</td>\n",
       "      <td>12000.0</td>\n",
       "      <td>2011-01-03</td>\n",
       "      <td>NaN</td>\n",
       "      <td>NaN</td>\n",
       "      <td>NaN</td>\n",
       "      <td>NaN</td>\n",
       "      <td>photo gallery ( ashes 2010 ) guy needs compli...</td>\n",
       "      <td>0.375598</td>\n",
       "      <td>0.061099</td>\n",
       "      <td>-0.9997</td>\n",
       "      <td>0.178</td>\n",
       "      <td>0.710</td>\n",
       "      <td>0.112</td>\n",
       "    </tr>\n",
       "    <tr>\n",
       "      <th>1</th>\n",
       "      <td>20617.380859</td>\n",
       "      <td>20651.210938</td>\n",
       "      <td>20449.009766</td>\n",
       "      <td>20498.720703</td>\n",
       "      <td>20498.720703</td>\n",
       "      <td>15200.0</td>\n",
       "      <td>2011-01-04</td>\n",
       "      <td>-0.003031</td>\n",
       "      <td>NaN</td>\n",
       "      <td>NaN</td>\n",
       "      <td>NaN</td>\n",
       "      <td>deepika padukone deepika padukone imran invit...</td>\n",
       "      <td>0.391273</td>\n",
       "      <td>0.019847</td>\n",
       "      <td>-0.9998</td>\n",
       "      <td>0.174</td>\n",
       "      <td>0.717</td>\n",
       "      <td>0.108</td>\n",
       "    </tr>\n",
       "    <tr>\n",
       "      <th>2</th>\n",
       "      <td>20509.949219</td>\n",
       "      <td>20509.949219</td>\n",
       "      <td>20243.949219</td>\n",
       "      <td>20301.099609</td>\n",
       "      <td>20301.099609</td>\n",
       "      <td>14400.0</td>\n",
       "      <td>2011-01-05</td>\n",
       "      <td>-0.009641</td>\n",
       "      <td>NaN</td>\n",
       "      <td>NaN</td>\n",
       "      <td>NaN</td>\n",
       "      <td>man dies heart attack killing lover 's hubby ...</td>\n",
       "      <td>0.420299</td>\n",
       "      <td>0.010189</td>\n",
       "      <td>-0.9999</td>\n",
       "      <td>0.189</td>\n",
       "      <td>0.701</td>\n",
       "      <td>0.109</td>\n",
       "    </tr>\n",
       "    <tr>\n",
       "      <th>3</th>\n",
       "      <td>20395.500000</td>\n",
       "      <td>20425.849609</td>\n",
       "      <td>20107.169922</td>\n",
       "      <td>20184.740234</td>\n",
       "      <td>20184.740234</td>\n",
       "      <td>16600.0</td>\n",
       "      <td>2011-01-06</td>\n",
       "      <td>-0.005732</td>\n",
       "      <td>NaN</td>\n",
       "      <td>NaN</td>\n",
       "      <td>NaN</td>\n",
       "      <td>photo gallery ( indian tour south africa ) ra...</td>\n",
       "      <td>0.389732</td>\n",
       "      <td>0.020557</td>\n",
       "      <td>-0.9998</td>\n",
       "      <td>0.159</td>\n",
       "      <td>0.741</td>\n",
       "      <td>0.100</td>\n",
       "    </tr>\n",
       "    <tr>\n",
       "      <th>4</th>\n",
       "      <td>20163.849609</td>\n",
       "      <td>20210.619141</td>\n",
       "      <td>19629.220703</td>\n",
       "      <td>19691.810547</td>\n",
       "      <td>19691.810547</td>\n",
       "      <td>15800.0</td>\n",
       "      <td>2011-01-07</td>\n",
       "      <td>-0.024421</td>\n",
       "      <td>NaN</td>\n",
       "      <td>NaN</td>\n",
       "      <td>NaN</td>\n",
       "      <td>rishi gives look test kjo tom hanks honoured ...</td>\n",
       "      <td>0.393698</td>\n",
       "      <td>0.017528</td>\n",
       "      <td>-0.9996</td>\n",
       "      <td>0.148</td>\n",
       "      <td>0.749</td>\n",
       "      <td>0.103</td>\n",
       "    </tr>\n",
       "  </tbody>\n",
       "</table>\n",
       "</div>"
      ],
      "text/plain": [
       "           Open          High           Low         Close     Adj Close  \\\n",
       "0  20621.609375  20664.800781  20531.000000  20561.050781  20561.050781   \n",
       "1  20617.380859  20651.210938  20449.009766  20498.720703  20498.720703   \n",
       "2  20509.949219  20509.949219  20243.949219  20301.099609  20301.099609   \n",
       "3  20395.500000  20425.849609  20107.169922  20184.740234  20184.740234   \n",
       "4  20163.849609  20210.619141  19629.220703  19691.810547  19691.810547   \n",
       "\n",
       "    Volume       date  Daily Return  MA for 10 days  MA for 20 days  \\\n",
       "0  12000.0 2011-01-03           NaN             NaN             NaN   \n",
       "1  15200.0 2011-01-04     -0.003031             NaN             NaN   \n",
       "2  14400.0 2011-01-05     -0.009641             NaN             NaN   \n",
       "3  16600.0 2011-01-06     -0.005732             NaN             NaN   \n",
       "4  15800.0 2011-01-07     -0.024421             NaN             NaN   \n",
       "\n",
       "   MA for 50 days                                      headline_text  \\\n",
       "0             NaN   photo gallery ( ashes 2010 ) guy needs compli...   \n",
       "1             NaN   deepika padukone deepika padukone imran invit...   \n",
       "2             NaN   man dies heart attack killing lover 's hubby ...   \n",
       "3             NaN   photo gallery ( indian tour south africa ) ra...   \n",
       "4             NaN   rishi gives look test kjo tom hanks honoured ...   \n",
       "\n",
       "   Subjectivity  Polarity  Compound  Negative  Neutral  Positive  \n",
       "0      0.375598  0.061099   -0.9997     0.178    0.710     0.112  \n",
       "1      0.391273  0.019847   -0.9998     0.174    0.717     0.108  \n",
       "2      0.420299  0.010189   -0.9999     0.189    0.701     0.109  \n",
       "3      0.389732  0.020557   -0.9998     0.159    0.741     0.100  \n",
       "4      0.393698  0.017528   -0.9996     0.148    0.749     0.103  "
      ]
     },
     "execution_count": 153,
     "metadata": {},
     "output_type": "execute_result"
    }
   ],
   "source": [
    "df_merge = pd.merge(stock_df, df_news, how='inner', on='date')\n",
    "df_merge.head()"
   ]
  },
  {
   "cell_type": "markdown",
   "metadata": {},
   "source": [
    "### Getting the dataframe on which we are going to predict stock price"
   ]
  },
  {
   "cell_type": "code",
   "execution_count": 156,
   "metadata": {},
   "outputs": [
    {
     "data": {
      "text/html": [
       "<div>\n",
       "<style scoped>\n",
       "    .dataframe tbody tr th:only-of-type {\n",
       "        vertical-align: middle;\n",
       "    }\n",
       "\n",
       "    .dataframe tbody tr th {\n",
       "        vertical-align: top;\n",
       "    }\n",
       "\n",
       "    .dataframe thead th {\n",
       "        text-align: right;\n",
       "    }\n",
       "</style>\n",
       "<table border=\"1\" class=\"dataframe\">\n",
       "  <thead>\n",
       "    <tr style=\"text-align: right;\">\n",
       "      <th></th>\n",
       "      <th>Open</th>\n",
       "      <th>Close</th>\n",
       "      <th>Subjectivity</th>\n",
       "      <th>Polarity</th>\n",
       "      <th>Compound</th>\n",
       "      <th>Negative</th>\n",
       "      <th>Neutral</th>\n",
       "      <th>Positive</th>\n",
       "    </tr>\n",
       "  </thead>\n",
       "  <tbody>\n",
       "    <tr>\n",
       "      <th>0</th>\n",
       "      <td>20621.609375</td>\n",
       "      <td>20561.050781</td>\n",
       "      <td>0.375598</td>\n",
       "      <td>0.061099</td>\n",
       "      <td>-0.9997</td>\n",
       "      <td>0.178</td>\n",
       "      <td>0.710</td>\n",
       "      <td>0.112</td>\n",
       "    </tr>\n",
       "    <tr>\n",
       "      <th>1</th>\n",
       "      <td>20617.380859</td>\n",
       "      <td>20498.720703</td>\n",
       "      <td>0.391273</td>\n",
       "      <td>0.019847</td>\n",
       "      <td>-0.9998</td>\n",
       "      <td>0.174</td>\n",
       "      <td>0.717</td>\n",
       "      <td>0.108</td>\n",
       "    </tr>\n",
       "    <tr>\n",
       "      <th>2</th>\n",
       "      <td>20509.949219</td>\n",
       "      <td>20301.099609</td>\n",
       "      <td>0.420299</td>\n",
       "      <td>0.010189</td>\n",
       "      <td>-0.9999</td>\n",
       "      <td>0.189</td>\n",
       "      <td>0.701</td>\n",
       "      <td>0.109</td>\n",
       "    </tr>\n",
       "    <tr>\n",
       "      <th>3</th>\n",
       "      <td>20395.500000</td>\n",
       "      <td>20184.740234</td>\n",
       "      <td>0.389732</td>\n",
       "      <td>0.020557</td>\n",
       "      <td>-0.9998</td>\n",
       "      <td>0.159</td>\n",
       "      <td>0.741</td>\n",
       "      <td>0.100</td>\n",
       "    </tr>\n",
       "    <tr>\n",
       "      <th>4</th>\n",
       "      <td>20163.849609</td>\n",
       "      <td>19691.810547</td>\n",
       "      <td>0.393698</td>\n",
       "      <td>0.017528</td>\n",
       "      <td>-0.9996</td>\n",
       "      <td>0.148</td>\n",
       "      <td>0.749</td>\n",
       "      <td>0.103</td>\n",
       "    </tr>\n",
       "    <tr>\n",
       "      <th>...</th>\n",
       "      <td>...</td>\n",
       "      <td>...</td>\n",
       "      <td>...</td>\n",
       "      <td>...</td>\n",
       "      <td>...</td>\n",
       "      <td>...</td>\n",
       "      <td>...</td>\n",
       "      <td>...</td>\n",
       "    </tr>\n",
       "    <tr>\n",
       "      <th>2319</th>\n",
       "      <td>35679.738281</td>\n",
       "      <td>34868.980469</td>\n",
       "      <td>0.380778</td>\n",
       "      <td>0.069655</td>\n",
       "      <td>-0.9997</td>\n",
       "      <td>0.137</td>\n",
       "      <td>0.778</td>\n",
       "      <td>0.085</td>\n",
       "    </tr>\n",
       "    <tr>\n",
       "      <th>2320</th>\n",
       "      <td>34525.390625</td>\n",
       "      <td>34842.101563</td>\n",
       "      <td>0.388167</td>\n",
       "      <td>0.003321</td>\n",
       "      <td>-0.9999</td>\n",
       "      <td>0.164</td>\n",
       "      <td>0.763</td>\n",
       "      <td>0.073</td>\n",
       "    </tr>\n",
       "    <tr>\n",
       "      <th>2321</th>\n",
       "      <td>35144.781250</td>\n",
       "      <td>35171.269531</td>\n",
       "      <td>0.364023</td>\n",
       "      <td>0.043772</td>\n",
       "      <td>-0.9998</td>\n",
       "      <td>0.155</td>\n",
       "      <td>0.753</td>\n",
       "      <td>0.092</td>\n",
       "    </tr>\n",
       "    <tr>\n",
       "      <th>2322</th>\n",
       "      <td>34926.949219</td>\n",
       "      <td>34961.519531</td>\n",
       "      <td>0.378767</td>\n",
       "      <td>0.041490</td>\n",
       "      <td>-0.9998</td>\n",
       "      <td>0.152</td>\n",
       "      <td>0.760</td>\n",
       "      <td>0.088</td>\n",
       "    </tr>\n",
       "    <tr>\n",
       "      <th>2323</th>\n",
       "      <td>35168.300781</td>\n",
       "      <td>34915.800781</td>\n",
       "      <td>0.371251</td>\n",
       "      <td>0.056746</td>\n",
       "      <td>-0.9998</td>\n",
       "      <td>0.136</td>\n",
       "      <td>0.792</td>\n",
       "      <td>0.073</td>\n",
       "    </tr>\n",
       "  </tbody>\n",
       "</table>\n",
       "<p>2324 rows × 8 columns</p>\n",
       "</div>"
      ],
      "text/plain": [
       "              Open         Close  Subjectivity  Polarity  Compound  Negative  \\\n",
       "0     20621.609375  20561.050781      0.375598  0.061099   -0.9997     0.178   \n",
       "1     20617.380859  20498.720703      0.391273  0.019847   -0.9998     0.174   \n",
       "2     20509.949219  20301.099609      0.420299  0.010189   -0.9999     0.189   \n",
       "3     20395.500000  20184.740234      0.389732  0.020557   -0.9998     0.159   \n",
       "4     20163.849609  19691.810547      0.393698  0.017528   -0.9996     0.148   \n",
       "...            ...           ...           ...       ...       ...       ...   \n",
       "2319  35679.738281  34868.980469      0.380778  0.069655   -0.9997     0.137   \n",
       "2320  34525.390625  34842.101563      0.388167  0.003321   -0.9999     0.164   \n",
       "2321  35144.781250  35171.269531      0.364023  0.043772   -0.9998     0.155   \n",
       "2322  34926.949219  34961.519531      0.378767  0.041490   -0.9998     0.152   \n",
       "2323  35168.300781  34915.800781      0.371251  0.056746   -0.9998     0.136   \n",
       "\n",
       "      Neutral  Positive  \n",
       "0       0.710     0.112  \n",
       "1       0.717     0.108  \n",
       "2       0.701     0.109  \n",
       "3       0.741     0.100  \n",
       "4       0.749     0.103  \n",
       "...       ...       ...  \n",
       "2319    0.778     0.085  \n",
       "2320    0.763     0.073  \n",
       "2321    0.753     0.092  \n",
       "2322    0.760     0.088  \n",
       "2323    0.792     0.073  \n",
       "\n",
       "[2324 rows x 8 columns]"
      ]
     },
     "execution_count": 156,
     "metadata": {},
     "output_type": "execute_result"
    }
   ],
   "source": [
    " dataframe = df_merge.drop([\"headline_text\", \"Daily Return\", \"Adj Close\",\"High\", \"Low\", \"Volume\", \"date\", \"MA for 10 days\", \"MA for 20 days\", \"MA for 50 days\"], axis=1)\n",
    "dataframe"
   ]
  },
  {
   "cell_type": "code",
   "execution_count": 157,
   "metadata": {},
   "outputs": [
    {
     "data": {
      "text/html": [
       "<div>\n",
       "<style scoped>\n",
       "    .dataframe tbody tr th:only-of-type {\n",
       "        vertical-align: middle;\n",
       "    }\n",
       "\n",
       "    .dataframe tbody tr th {\n",
       "        vertical-align: top;\n",
       "    }\n",
       "\n",
       "    .dataframe thead th {\n",
       "        text-align: right;\n",
       "    }\n",
       "</style>\n",
       "<table border=\"1\" class=\"dataframe\">\n",
       "  <thead>\n",
       "    <tr style=\"text-align: right;\">\n",
       "      <th></th>\n",
       "      <th>Open</th>\n",
       "      <th>Close</th>\n",
       "      <th>Subjectivity</th>\n",
       "      <th>Polarity</th>\n",
       "      <th>Compound</th>\n",
       "      <th>Negative</th>\n",
       "      <th>Neutral</th>\n",
       "      <th>Positive</th>\n",
       "    </tr>\n",
       "  </thead>\n",
       "  <tbody>\n",
       "    <tr>\n",
       "      <th>Open</th>\n",
       "      <td>1.000000</td>\n",
       "      <td>0.999390</td>\n",
       "      <td>-0.042627</td>\n",
       "      <td>-0.166843</td>\n",
       "      <td>-0.001805</td>\n",
       "      <td>-0.090798</td>\n",
       "      <td>0.389565</td>\n",
       "      <td>-0.342634</td>\n",
       "    </tr>\n",
       "    <tr>\n",
       "      <th>Close</th>\n",
       "      <td>0.999390</td>\n",
       "      <td>1.000000</td>\n",
       "      <td>-0.042623</td>\n",
       "      <td>-0.166805</td>\n",
       "      <td>-0.000897</td>\n",
       "      <td>-0.091328</td>\n",
       "      <td>0.389814</td>\n",
       "      <td>-0.342288</td>\n",
       "    </tr>\n",
       "    <tr>\n",
       "      <th>Subjectivity</th>\n",
       "      <td>-0.042627</td>\n",
       "      <td>-0.042623</td>\n",
       "      <td>1.000000</td>\n",
       "      <td>0.265859</td>\n",
       "      <td>0.077157</td>\n",
       "      <td>-0.155557</td>\n",
       "      <td>-0.113988</td>\n",
       "      <td>0.308168</td>\n",
       "    </tr>\n",
       "    <tr>\n",
       "      <th>Polarity</th>\n",
       "      <td>-0.166843</td>\n",
       "      <td>-0.166805</td>\n",
       "      <td>0.265859</td>\n",
       "      <td>1.000000</td>\n",
       "      <td>0.252155</td>\n",
       "      <td>-0.437264</td>\n",
       "      <td>-0.097168</td>\n",
       "      <td>0.613236</td>\n",
       "    </tr>\n",
       "    <tr>\n",
       "      <th>Compound</th>\n",
       "      <td>-0.001805</td>\n",
       "      <td>-0.000897</td>\n",
       "      <td>0.077157</td>\n",
       "      <td>0.252155</td>\n",
       "      <td>1.000000</td>\n",
       "      <td>-0.312757</td>\n",
       "      <td>0.010020</td>\n",
       "      <td>0.348599</td>\n",
       "    </tr>\n",
       "    <tr>\n",
       "      <th>Negative</th>\n",
       "      <td>-0.090798</td>\n",
       "      <td>-0.091328</td>\n",
       "      <td>-0.155557</td>\n",
       "      <td>-0.437264</td>\n",
       "      <td>-0.312757</td>\n",
       "      <td>1.000000</td>\n",
       "      <td>-0.618842</td>\n",
       "      <td>-0.440472</td>\n",
       "    </tr>\n",
       "    <tr>\n",
       "      <th>Neutral</th>\n",
       "      <td>0.389565</td>\n",
       "      <td>0.389814</td>\n",
       "      <td>-0.113988</td>\n",
       "      <td>-0.097168</td>\n",
       "      <td>0.010020</td>\n",
       "      <td>-0.618842</td>\n",
       "      <td>1.000000</td>\n",
       "      <td>-0.432004</td>\n",
       "    </tr>\n",
       "    <tr>\n",
       "      <th>Positive</th>\n",
       "      <td>-0.342634</td>\n",
       "      <td>-0.342288</td>\n",
       "      <td>0.308168</td>\n",
       "      <td>0.613236</td>\n",
       "      <td>0.348599</td>\n",
       "      <td>-0.440472</td>\n",
       "      <td>-0.432004</td>\n",
       "      <td>1.000000</td>\n",
       "    </tr>\n",
       "  </tbody>\n",
       "</table>\n",
       "</div>"
      ],
      "text/plain": [
       "                  Open     Close  Subjectivity  Polarity  Compound  Negative  \\\n",
       "Open          1.000000  0.999390     -0.042627 -0.166843 -0.001805 -0.090798   \n",
       "Close         0.999390  1.000000     -0.042623 -0.166805 -0.000897 -0.091328   \n",
       "Subjectivity -0.042627 -0.042623      1.000000  0.265859  0.077157 -0.155557   \n",
       "Polarity     -0.166843 -0.166805      0.265859  1.000000  0.252155 -0.437264   \n",
       "Compound     -0.001805 -0.000897      0.077157  0.252155  1.000000 -0.312757   \n",
       "Negative     -0.090798 -0.091328     -0.155557 -0.437264 -0.312757  1.000000   \n",
       "Neutral       0.389565  0.389814     -0.113988 -0.097168  0.010020 -0.618842   \n",
       "Positive     -0.342634 -0.342288      0.308168  0.613236  0.348599 -0.440472   \n",
       "\n",
       "               Neutral  Positive  \n",
       "Open          0.389565 -0.342634  \n",
       "Close         0.389814 -0.342288  \n",
       "Subjectivity -0.113988  0.308168  \n",
       "Polarity     -0.097168  0.613236  \n",
       "Compound      0.010020  0.348599  \n",
       "Negative     -0.618842 -0.440472  \n",
       "Neutral       1.000000 -0.432004  \n",
       "Positive     -0.432004  1.000000  "
      ]
     },
     "execution_count": 157,
     "metadata": {},
     "output_type": "execute_result"
    }
   ],
   "source": [
    "## Checking the co-relationship between features in dataframe\n",
    "dataframe.corr()"
   ]
  },
  {
   "cell_type": "markdown",
   "metadata": {},
   "source": [
    "### Data Preprocessing"
   ]
  },
  {
   "cell_type": "code",
   "execution_count": 158,
   "metadata": {},
   "outputs": [],
   "source": [
    "def preprocess_data(dataframe):\n",
    "    sc = MinMaxScaler()\n",
    "    new_df = pd.DataFrame(sc.fit_transform(dataframe))\n",
    "    new_df.columns = dataframe.columns\n",
    "    new_df.index = dataframe.index\n",
    "    return new_df"
   ]
  },
  {
   "cell_type": "code",
   "execution_count": 159,
   "metadata": {},
   "outputs": [],
   "source": [
    "new_df = preprocess_data(dataframe)"
   ]
  },
  {
   "cell_type": "markdown",
   "metadata": {},
   "source": [
    "### Splitting our dataframe into train and test for predictions"
   ]
  },
  {
   "cell_type": "code",
   "execution_count": 160,
   "metadata": {},
   "outputs": [],
   "source": [
    "X_train, X_test, y_train, y_test = train_test_split(new_df.drop(\"Close\", axis=1), new_df[\"Close\"], test_size=0.2)"
   ]
  },
  {
   "cell_type": "code",
   "execution_count": 161,
   "metadata": {},
   "outputs": [
    {
     "data": {
      "text/plain": [
       "((1859, 7), (1859,))"
      ]
     },
     "execution_count": 161,
     "metadata": {},
     "output_type": "execute_result"
    }
   ],
   "source": [
    "X_train.shape, y_train.shape"
   ]
  },
  {
   "cell_type": "markdown",
   "metadata": {},
   "source": [
    "### Creating Custom Evaluation Function"
   ]
  },
  {
   "cell_type": "code",
   "execution_count": 162,
   "metadata": {},
   "outputs": [],
   "source": [
    "def show_scores(model):\n",
    "    train_preds = model.predict(X_train)\n",
    "    test_preds = model.predict(X_test)\n",
    "    scores = {\"Training MAE:\" : mean_absolute_error(y_train, train_preds),\n",
    "             \"Testing MAE:\" : mean_absolute_error(y_test,test_preds),\n",
    "             \"Training MSE: \": mean_squared_error(y_train, train_preds),\n",
    "             \"Testing MSE:\" : mean_squared_error(y_test,test_preds),\n",
    "             \"Training R^2:\" : r2_score(y_train,train_preds),\n",
    "             \"Testing R^2:\" : r2_score(y_test,test_preds)}\n",
    "    \n",
    "    return scores"
   ]
  },
  {
   "cell_type": "code",
   "execution_count": 163,
   "metadata": {},
   "outputs": [],
   "source": [
    "# Function to predict and show the dataframe displaying first ten actual closing price and predicted closing price \n",
    "def predict_and_show(model,X_test):\n",
    "    pred = model.predict(X_test)\n",
    "    dataframe = pd.DataFrame({\"Close\": y_test[:10], \"Predictions\": pred[:10]})\n",
    "    return dataframe"
   ]
  },
  {
   "cell_type": "markdown",
   "metadata": {},
   "source": [
    "### Training Using Linear Regression Model"
   ]
  },
  {
   "cell_type": "code",
   "execution_count": 164,
   "metadata": {},
   "outputs": [
    {
     "data": {
      "text/plain": [
       "LinearRegression()"
      ]
     },
     "execution_count": 164,
     "metadata": {},
     "output_type": "execute_result"
    }
   ],
   "source": [
    "lr = LinearRegression()\n",
    "lr.fit(X_train, y_train)"
   ]
  },
  {
   "cell_type": "code",
   "execution_count": 165,
   "metadata": {},
   "outputs": [
    {
     "data": {
      "text/plain": [
       "{'Training MAE:': 0.00652492350394574,\n",
       " 'Testing MAE:': 0.006375913150781332,\n",
       " 'Training MSE: ': 9.340249245910667e-05,\n",
       " 'Testing MSE:': 8.578591806423822e-05,\n",
       " 'Training R^2:': 0.9987597912418218,\n",
       " 'Testing R^2:': 0.9988611247812792}"
      ]
     },
     "execution_count": 165,
     "metadata": {},
     "output_type": "execute_result"
    }
   ],
   "source": [
    "show_scores(lr)"
   ]
  },
  {
   "cell_type": "code",
   "execution_count": 166,
   "metadata": {},
   "outputs": [
    {
     "data": {
      "text/html": [
       "<div>\n",
       "<style scoped>\n",
       "    .dataframe tbody tr th:only-of-type {\n",
       "        vertical-align: middle;\n",
       "    }\n",
       "\n",
       "    .dataframe tbody tr th {\n",
       "        vertical-align: top;\n",
       "    }\n",
       "\n",
       "    .dataframe thead th {\n",
       "        text-align: right;\n",
       "    }\n",
       "</style>\n",
       "<table border=\"1\" class=\"dataframe\">\n",
       "  <thead>\n",
       "    <tr style=\"text-align: right;\">\n",
       "      <th></th>\n",
       "      <th>Close</th>\n",
       "      <th>Predictions</th>\n",
       "    </tr>\n",
       "  </thead>\n",
       "  <tbody>\n",
       "    <tr>\n",
       "      <th>1587</th>\n",
       "      <td>0.589418</td>\n",
       "      <td>0.596328</td>\n",
       "    </tr>\n",
       "    <tr>\n",
       "      <th>1685</th>\n",
       "      <td>0.669656</td>\n",
       "      <td>0.657476</td>\n",
       "    </tr>\n",
       "    <tr>\n",
       "      <th>1815</th>\n",
       "      <td>0.746536</td>\n",
       "      <td>0.741118</td>\n",
       "    </tr>\n",
       "    <tr>\n",
       "      <th>1172</th>\n",
       "      <td>0.441977</td>\n",
       "      <td>0.433909</td>\n",
       "    </tr>\n",
       "    <tr>\n",
       "      <th>1691</th>\n",
       "      <td>0.691033</td>\n",
       "      <td>0.688531</td>\n",
       "    </tr>\n",
       "    <tr>\n",
       "      <th>1744</th>\n",
       "      <td>0.703226</td>\n",
       "      <td>0.701186</td>\n",
       "    </tr>\n",
       "    <tr>\n",
       "      <th>1650</th>\n",
       "      <td>0.613375</td>\n",
       "      <td>0.614694</td>\n",
       "    </tr>\n",
       "    <tr>\n",
       "      <th>1418</th>\n",
       "      <td>0.483792</td>\n",
       "      <td>0.478769</td>\n",
       "    </tr>\n",
       "    <tr>\n",
       "      <th>1783</th>\n",
       "      <td>0.700787</td>\n",
       "      <td>0.699923</td>\n",
       "    </tr>\n",
       "    <tr>\n",
       "      <th>715</th>\n",
       "      <td>0.200161</td>\n",
       "      <td>0.199321</td>\n",
       "    </tr>\n",
       "  </tbody>\n",
       "</table>\n",
       "</div>"
      ],
      "text/plain": [
       "         Close  Predictions\n",
       "1587  0.589418     0.596328\n",
       "1685  0.669656     0.657476\n",
       "1815  0.746536     0.741118\n",
       "1172  0.441977     0.433909\n",
       "1691  0.691033     0.688531\n",
       "1744  0.703226     0.701186\n",
       "1650  0.613375     0.614694\n",
       "1418  0.483792     0.478769\n",
       "1783  0.700787     0.699923\n",
       "715   0.200161     0.199321"
      ]
     },
     "execution_count": 166,
     "metadata": {},
     "output_type": "execute_result"
    }
   ],
   "source": [
    "predict_and_show(lr, X_test)"
   ]
  },
  {
   "cell_type": "markdown",
   "metadata": {},
   "source": [
    "### Training and Predicting using  Random Forest Regressor"
   ]
  },
  {
   "cell_type": "code",
   "execution_count": 145,
   "metadata": {},
   "outputs": [],
   "source": [
    "rf = RandomForestRegressor()\n",
    "rf.fit(X_train, y_train)\n",
    "rf_predictions=rf.predict(X_test)"
   ]
  },
  {
   "cell_type": "code",
   "execution_count": 146,
   "metadata": {},
   "outputs": [
    {
     "data": {
      "text/plain": [
       "{'Training MAE:': 0.002695867873584748,\n",
       " 'Testing MAE:': 0.0074071446820428224,\n",
       " 'Training MSE: ': 1.526501004356501e-05,\n",
       " 'Testing MSE:': 0.0001197159928632005,\n",
       " 'Training R^2:': 0.9997961406673673,\n",
       " 'Testing R^2:': 0.9984423786151942}"
      ]
     },
     "execution_count": 146,
     "metadata": {},
     "output_type": "execute_result"
    }
   ],
   "source": [
    "## Getting evaluation scores on decision tree regressor\n",
    "show_scores(rf)"
   ]
  },
  {
   "cell_type": "code",
   "execution_count": 147,
   "metadata": {},
   "outputs": [
    {
     "data": {
      "text/html": [
       "<div>\n",
       "<style scoped>\n",
       "    .dataframe tbody tr th:only-of-type {\n",
       "        vertical-align: middle;\n",
       "    }\n",
       "\n",
       "    .dataframe tbody tr th {\n",
       "        vertical-align: top;\n",
       "    }\n",
       "\n",
       "    .dataframe thead th {\n",
       "        text-align: right;\n",
       "    }\n",
       "</style>\n",
       "<table border=\"1\" class=\"dataframe\">\n",
       "  <thead>\n",
       "    <tr style=\"text-align: right;\">\n",
       "      <th></th>\n",
       "      <th>Close</th>\n",
       "      <th>Predictions</th>\n",
       "    </tr>\n",
       "  </thead>\n",
       "  <tbody>\n",
       "    <tr>\n",
       "      <th>196</th>\n",
       "      <td>0.069088</td>\n",
       "      <td>0.072432</td>\n",
       "    </tr>\n",
       "    <tr>\n",
       "      <th>151</th>\n",
       "      <td>0.062845</td>\n",
       "      <td>0.050845</td>\n",
       "    </tr>\n",
       "    <tr>\n",
       "      <th>2152</th>\n",
       "      <td>0.874759</td>\n",
       "      <td>0.888887</td>\n",
       "    </tr>\n",
       "    <tr>\n",
       "      <th>863</th>\n",
       "      <td>0.402837</td>\n",
       "      <td>0.397379</td>\n",
       "    </tr>\n",
       "    <tr>\n",
       "      <th>1032</th>\n",
       "      <td>0.484982</td>\n",
       "      <td>0.483046</td>\n",
       "    </tr>\n",
       "    <tr>\n",
       "      <th>587</th>\n",
       "      <td>0.168023</td>\n",
       "      <td>0.180180</td>\n",
       "    </tr>\n",
       "    <tr>\n",
       "      <th>2063</th>\n",
       "      <td>0.930199</td>\n",
       "      <td>0.945227</td>\n",
       "    </tr>\n",
       "    <tr>\n",
       "      <th>631</th>\n",
       "      <td>0.183572</td>\n",
       "      <td>0.184841</td>\n",
       "    </tr>\n",
       "    <tr>\n",
       "      <th>986</th>\n",
       "      <td>0.454550</td>\n",
       "      <td>0.461380</td>\n",
       "    </tr>\n",
       "    <tr>\n",
       "      <th>501</th>\n",
       "      <td>0.173375</td>\n",
       "      <td>0.179216</td>\n",
       "    </tr>\n",
       "  </tbody>\n",
       "</table>\n",
       "</div>"
      ],
      "text/plain": [
       "         Close  Predictions\n",
       "196   0.069088     0.072432\n",
       "151   0.062845     0.050845\n",
       "2152  0.874759     0.888887\n",
       "863   0.402837     0.397379\n",
       "1032  0.484982     0.483046\n",
       "587   0.168023     0.180180\n",
       "2063  0.930199     0.945227\n",
       "631   0.183572     0.184841\n",
       "986   0.454550     0.461380\n",
       "501   0.173375     0.179216"
      ]
     },
     "execution_count": 147,
     "metadata": {},
     "output_type": "execute_result"
    }
   ],
   "source": [
    "predict_and_show(rf, X_test)"
   ]
  },
  {
   "cell_type": "markdown",
   "metadata": {},
   "source": [
    "### Training and Predicting using Decision Tree Regressor"
   ]
  },
  {
   "cell_type": "code",
   "execution_count": 129,
   "metadata": {},
   "outputs": [],
   "source": [
    "dt = DecisionTreeRegressor()\n",
    "dt.fit(X_train, y_train)\n",
    "dt_predictions = dt.predict(X_test)\n"
   ]
  },
  {
   "cell_type": "code",
   "execution_count": 130,
   "metadata": {},
   "outputs": [
    {
     "data": {
      "text/plain": [
       "{'Training MAE:': 0.0,\n",
       " 'Testing MAE:': 0.009865703521673874,\n",
       " 'Training MSE: ': 0.0,\n",
       " 'Testing MSE:': 0.00024612121694119176,\n",
       " 'Training R^2:': 1.0,\n",
       " 'Testing R^2:': 0.9967977238329376}"
      ]
     },
     "execution_count": 130,
     "metadata": {},
     "output_type": "execute_result"
    }
   ],
   "source": [
    "# Getting the evaluation scores on decision tree regressor\n",
    "show_scores(dt)"
   ]
  },
  {
   "cell_type": "code",
   "execution_count": 131,
   "metadata": {},
   "outputs": [
    {
     "data": {
      "text/html": [
       "<div>\n",
       "<style scoped>\n",
       "    .dataframe tbody tr th:only-of-type {\n",
       "        vertical-align: middle;\n",
       "    }\n",
       "\n",
       "    .dataframe tbody tr th {\n",
       "        vertical-align: top;\n",
       "    }\n",
       "\n",
       "    .dataframe thead th {\n",
       "        text-align: right;\n",
       "    }\n",
       "</style>\n",
       "<table border=\"1\" class=\"dataframe\">\n",
       "  <thead>\n",
       "    <tr style=\"text-align: right;\">\n",
       "      <th></th>\n",
       "      <th>Close</th>\n",
       "      <th>Predictions</th>\n",
       "    </tr>\n",
       "  </thead>\n",
       "  <tbody>\n",
       "    <tr>\n",
       "      <th>196</th>\n",
       "      <td>0.069088</td>\n",
       "      <td>0.062162</td>\n",
       "    </tr>\n",
       "    <tr>\n",
       "      <th>151</th>\n",
       "      <td>0.062845</td>\n",
       "      <td>0.046493</td>\n",
       "    </tr>\n",
       "    <tr>\n",
       "      <th>2152</th>\n",
       "      <td>0.874759</td>\n",
       "      <td>0.887465</td>\n",
       "    </tr>\n",
       "    <tr>\n",
       "      <th>863</th>\n",
       "      <td>0.402837</td>\n",
       "      <td>0.383847</td>\n",
       "    </tr>\n",
       "    <tr>\n",
       "      <th>1032</th>\n",
       "      <td>0.484982</td>\n",
       "      <td>0.481629</td>\n",
       "    </tr>\n",
       "    <tr>\n",
       "      <th>587</th>\n",
       "      <td>0.168023</td>\n",
       "      <td>0.188229</td>\n",
       "    </tr>\n",
       "    <tr>\n",
       "      <th>2063</th>\n",
       "      <td>0.930199</td>\n",
       "      <td>0.940502</td>\n",
       "    </tr>\n",
       "    <tr>\n",
       "      <th>631</th>\n",
       "      <td>0.183572</td>\n",
       "      <td>0.185781</td>\n",
       "    </tr>\n",
       "    <tr>\n",
       "      <th>986</th>\n",
       "      <td>0.454550</td>\n",
       "      <td>0.473932</td>\n",
       "    </tr>\n",
       "    <tr>\n",
       "      <th>501</th>\n",
       "      <td>0.173375</td>\n",
       "      <td>0.174817</td>\n",
       "    </tr>\n",
       "  </tbody>\n",
       "</table>\n",
       "</div>"
      ],
      "text/plain": [
       "         Close  Predictions\n",
       "196   0.069088     0.062162\n",
       "151   0.062845     0.046493\n",
       "2152  0.874759     0.887465\n",
       "863   0.402837     0.383847\n",
       "1032  0.484982     0.481629\n",
       "587   0.168023     0.188229\n",
       "2063  0.930199     0.940502\n",
       "631   0.183572     0.185781\n",
       "986   0.454550     0.473932\n",
       "501   0.173375     0.174817"
      ]
     },
     "execution_count": 131,
     "metadata": {},
     "output_type": "execute_result"
    }
   ],
   "source": [
    "predict_and_show(dt, X_test)"
   ]
  },
  {
   "cell_type": "markdown",
   "metadata": {},
   "source": [
    "### Training and Predicting using Ada Boost Regressor"
   ]
  },
  {
   "cell_type": "code",
   "execution_count": 132,
   "metadata": {},
   "outputs": [
    {
     "data": {
      "text/plain": [
       "AdaBoostRegressor()"
      ]
     },
     "execution_count": 132,
     "metadata": {},
     "output_type": "execute_result"
    }
   ],
   "source": [
    "ab = AdaBoostRegressor()\n",
    "ab.fit(X_train, y_train)"
   ]
  },
  {
   "cell_type": "code",
   "execution_count": 133,
   "metadata": {},
   "outputs": [
    {
     "data": {
      "text/plain": [
       "{'Training MAE:': 0.012330730431393934,\n",
       " 'Testing MAE:': 0.012866322604058742,\n",
       " 'Training MSE: ': 0.00025835156933698097,\n",
       " 'Testing MSE:': 0.00030725655832627286,\n",
       " 'Training R^2:': 0.9965497973234648,\n",
       " 'Testing R^2:': 0.9960022936416046}"
      ]
     },
     "execution_count": 133,
     "metadata": {},
     "output_type": "execute_result"
    }
   ],
   "source": [
    "# Getting the evaluations scores on ada boost regressor\n",
    "show_scores(ab)"
   ]
  },
  {
   "cell_type": "code",
   "execution_count": 134,
   "metadata": {},
   "outputs": [
    {
     "data": {
      "text/html": [
       "<div>\n",
       "<style scoped>\n",
       "    .dataframe tbody tr th:only-of-type {\n",
       "        vertical-align: middle;\n",
       "    }\n",
       "\n",
       "    .dataframe tbody tr th {\n",
       "        vertical-align: top;\n",
       "    }\n",
       "\n",
       "    .dataframe thead th {\n",
       "        text-align: right;\n",
       "    }\n",
       "</style>\n",
       "<table border=\"1\" class=\"dataframe\">\n",
       "  <thead>\n",
       "    <tr style=\"text-align: right;\">\n",
       "      <th></th>\n",
       "      <th>Close</th>\n",
       "      <th>Predictions</th>\n",
       "    </tr>\n",
       "  </thead>\n",
       "  <tbody>\n",
       "    <tr>\n",
       "      <th>196</th>\n",
       "      <td>0.069088</td>\n",
       "      <td>0.074018</td>\n",
       "    </tr>\n",
       "    <tr>\n",
       "      <th>151</th>\n",
       "      <td>0.062845</td>\n",
       "      <td>0.048117</td>\n",
       "    </tr>\n",
       "    <tr>\n",
       "      <th>2152</th>\n",
       "      <td>0.874759</td>\n",
       "      <td>0.890058</td>\n",
       "    </tr>\n",
       "    <tr>\n",
       "      <th>863</th>\n",
       "      <td>0.402837</td>\n",
       "      <td>0.398852</td>\n",
       "    </tr>\n",
       "    <tr>\n",
       "      <th>1032</th>\n",
       "      <td>0.484982</td>\n",
       "      <td>0.491627</td>\n",
       "    </tr>\n",
       "    <tr>\n",
       "      <th>587</th>\n",
       "      <td>0.168023</td>\n",
       "      <td>0.165948</td>\n",
       "    </tr>\n",
       "    <tr>\n",
       "      <th>2063</th>\n",
       "      <td>0.930199</td>\n",
       "      <td>0.937217</td>\n",
       "    </tr>\n",
       "    <tr>\n",
       "      <th>631</th>\n",
       "      <td>0.183572</td>\n",
       "      <td>0.165948</td>\n",
       "    </tr>\n",
       "    <tr>\n",
       "      <th>986</th>\n",
       "      <td>0.454550</td>\n",
       "      <td>0.449557</td>\n",
       "    </tr>\n",
       "    <tr>\n",
       "      <th>501</th>\n",
       "      <td>0.173375</td>\n",
       "      <td>0.165948</td>\n",
       "    </tr>\n",
       "  </tbody>\n",
       "</table>\n",
       "</div>"
      ],
      "text/plain": [
       "         Close  Predictions\n",
       "196   0.069088     0.074018\n",
       "151   0.062845     0.048117\n",
       "2152  0.874759     0.890058\n",
       "863   0.402837     0.398852\n",
       "1032  0.484982     0.491627\n",
       "587   0.168023     0.165948\n",
       "2063  0.930199     0.937217\n",
       "631   0.183572     0.165948\n",
       "986   0.454550     0.449557\n",
       "501   0.173375     0.165948"
      ]
     },
     "execution_count": 134,
     "metadata": {},
     "output_type": "execute_result"
    }
   ],
   "source": [
    "predict_and_show(ab, X_test)"
   ]
  },
  {
   "cell_type": "markdown",
   "metadata": {},
   "source": [
    "#### We can see from the above model predictions that LinearRegression model has best r2_score and by showing the Actual Close price and our models predicted Close price, it shows that our model fit perfectly to the data.\n"
   ]
  }
 ],
 "metadata": {
  "kernelspec": {
   "display_name": "Python 3",
   "language": "python",
   "name": "python3"
  },
  "language_info": {
   "codemirror_mode": {
    "name": "ipython",
    "version": 3
   },
   "file_extension": ".py",
   "mimetype": "text/x-python",
   "name": "python",
   "nbconvert_exporter": "python",
   "pygments_lexer": "ipython3",
   "version": "3.8.3"
  }
 },
 "nbformat": 4,
 "nbformat_minor": 4
}
