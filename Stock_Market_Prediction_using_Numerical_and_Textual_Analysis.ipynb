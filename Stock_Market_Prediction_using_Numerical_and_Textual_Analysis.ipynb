{
 "cells": [
  {
   "cell_type": "markdown",
   "metadata": {},
   "source": [
    "### Data Science and Business Analytics Internship\n",
    "\n",
    "# Stock Market Prediction using Numerical and Textual Analysis\n",
    "\n",
    "### Author: Hassan Ikram"
   ]
  },
  {
   "cell_type": "markdown",
   "metadata": {},
   "source": [
    "### Objective: Create a hybrid model for stock price/performance prediction using numerical analysis of historical stock prices, and sentimental analysis of news headlines \n",
    "\n",
    "In this task, we are going to analyze and predict if the stock price of BSE SENSEX will rise or not, which  is a free-float market-weighted stock market index of 30 well-established and financially sound companies listed on Bombay Stock Exchange."
   ]
  },
  {
   "cell_type": "markdown",
   "metadata": {},
   "source": [
    "## Importing Libraries"
   ]
  },
  {
   "cell_type": "code",
   "execution_count": 457,
   "metadata": {},
   "outputs": [
    {
     "name": "stderr",
     "output_type": "stream",
     "text": [
      "[nltk_data] Downloading package stopwords to\n",
      "[nltk_data]     C:\\Users\\hassa\\AppData\\Roaming\\nltk_data...\n",
      "[nltk_data]   Package stopwords is already up-to-date!\n",
      "[nltk_data] Downloading package vader_lexicon to\n",
      "[nltk_data]     C:\\Users\\hassa\\AppData\\Roaming\\nltk_data...\n",
      "[nltk_data]   Package vader_lexicon is already up-to-date!\n",
      "[nltk_data] Downloading package punkt to\n",
      "[nltk_data]     C:\\Users\\hassa\\AppData\\Roaming\\nltk_data...\n",
      "[nltk_data]   Package punkt is already up-to-date!\n"
     ]
    },
    {
     "data": {
      "text/plain": [
       "True"
      ]
     },
     "execution_count": 457,
     "metadata": {},
     "output_type": "execute_result"
    }
   ],
   "source": [
    "import numpy as np\n",
    "import pandas as pd\n",
    "import matplotlib.pyplot as plt\n",
    "import seaborn as sns\n",
    "import sklearn\n",
    "\n",
    "# For reading stock data from yahoo\n",
    "from pandas_datareader.data import DataReader\n",
    "# For time stamps\n",
    "from datetime import datetime\n",
    "\n",
    "from sklearn.discriminant_analysis import LinearDiscriminantAnalysis, QuadraticDiscriminantAnalysis\n",
    "from sklearn.ensemble import GradientBoostingClassifier, RandomForestClassifier, AdaBoostClassifier\n",
    "from sklearn.tree import DecisionTreeClassifier\n",
    "from sklearn.metrics import classification_report, accuracy_score\n",
    "from sklearn.model_selection import train_test_split\n",
    "from sklearn.preprocessing import MinMaxScaler\n",
    "\n",
    "# For Sentiment Analysis\n",
    "import nltk\n",
    "from nltk.corpus import stopwords\n",
    "from nltk.tokenize import word_tokenize\n",
    "from nltk.sentiment.vader import SentimentIntensityAnalyzer\n",
    "from textblob import TextBlob\n",
    "nltk.download('stopwords')\n",
    "nltk.download('vader_lexicon')\n",
    "nltk.download('punkt')"
   ]
  },
  {
   "cell_type": "markdown",
   "metadata": {},
   "source": [
    "### Project is divided into two parts\n",
    "1. **Textual Analysis / Sentiment Analysis:**\n",
    " We are going to use data from  https://bit.ly/36fFPI6, which a Times of India News dataset for sentiment analysis.\n",
    "\n",
    "2. **Stock Market Prediction:** \n",
    "  For Numerical Analysis, we are going to get data from https://finance.yahoo.com/, In numerical analysis we are going to analyze BSE SENSEX stock and then add the sentiment analysis score into historical data to predict, if the market price will rise or fall."
   ]
  },
  {
   "cell_type": "markdown",
   "metadata": {},
   "source": [
    "## Textual / Sentiment Analysis"
   ]
  },
  {
   "cell_type": "code",
   "execution_count": 277,
   "metadata": {},
   "outputs": [
    {
     "data": {
      "text/html": [
       "<div>\n",
       "<style scoped>\n",
       "    .dataframe tbody tr th:only-of-type {\n",
       "        vertical-align: middle;\n",
       "    }\n",
       "\n",
       "    .dataframe tbody tr th {\n",
       "        vertical-align: top;\n",
       "    }\n",
       "\n",
       "    .dataframe thead th {\n",
       "        text-align: right;\n",
       "    }\n",
       "</style>\n",
       "<table border=\"1\" class=\"dataframe\">\n",
       "  <thead>\n",
       "    <tr style=\"text-align: right;\">\n",
       "      <th></th>\n",
       "      <th>publish_date</th>\n",
       "      <th>headline_category</th>\n",
       "      <th>headline_text</th>\n",
       "    </tr>\n",
       "  </thead>\n",
       "  <tbody>\n",
       "    <tr>\n",
       "      <th>0</th>\n",
       "      <td>20010101</td>\n",
       "      <td>sports.wwe</td>\n",
       "      <td>win over cena satisfying but defeating underta...</td>\n",
       "    </tr>\n",
       "    <tr>\n",
       "      <th>1</th>\n",
       "      <td>20010102</td>\n",
       "      <td>unknown</td>\n",
       "      <td>Status quo will not be disturbed at Ayodhya; s...</td>\n",
       "    </tr>\n",
       "    <tr>\n",
       "      <th>2</th>\n",
       "      <td>20010102</td>\n",
       "      <td>unknown</td>\n",
       "      <td>Fissures in Hurriyat over Pak visit</td>\n",
       "    </tr>\n",
       "    <tr>\n",
       "      <th>3</th>\n",
       "      <td>20010102</td>\n",
       "      <td>unknown</td>\n",
       "      <td>America's unwanted heading for India?</td>\n",
       "    </tr>\n",
       "    <tr>\n",
       "      <th>4</th>\n",
       "      <td>20010102</td>\n",
       "      <td>unknown</td>\n",
       "      <td>For bigwigs; it is destination Goa</td>\n",
       "    </tr>\n",
       "  </tbody>\n",
       "</table>\n",
       "</div>"
      ],
      "text/plain": [
       "   publish_date headline_category  \\\n",
       "0      20010101        sports.wwe   \n",
       "1      20010102           unknown   \n",
       "2      20010102           unknown   \n",
       "3      20010102           unknown   \n",
       "4      20010102           unknown   \n",
       "\n",
       "                                       headline_text  \n",
       "0  win over cena satisfying but defeating underta...  \n",
       "1  Status quo will not be disturbed at Ayodhya; s...  \n",
       "2                Fissures in Hurriyat over Pak visit  \n",
       "3              America's unwanted heading for India?  \n",
       "4                 For bigwigs; it is destination Goa  "
      ]
     },
     "execution_count": 277,
     "metadata": {},
     "output_type": "execute_result"
    }
   ],
   "source": [
    "df = pd.read_csv('../india-news-headlines.csv')\n",
    "df.head()\n"
   ]
  },
  {
   "cell_type": "code",
   "execution_count": 278,
   "metadata": {},
   "outputs": [
    {
     "name": "stdout",
     "output_type": "stream",
     "text": [
      "<class 'pandas.core.frame.DataFrame'>\n",
      "RangeIndex: 3297172 entries, 0 to 3297171\n",
      "Data columns (total 3 columns):\n",
      " #   Column             Dtype \n",
      "---  ------             ----- \n",
      " 0   publish_date       int64 \n",
      " 1   headline_category  object\n",
      " 2   headline_text      object\n",
      "dtypes: int64(1), object(2)\n",
      "memory usage: 75.5+ MB\n"
     ]
    }
   ],
   "source": [
    "## Checking the datatype and length of the dataset\n",
    "df.info()"
   ]
  },
  {
   "cell_type": "code",
   "execution_count": 279,
   "metadata": {},
   "outputs": [],
   "source": [
    "## Changing the publish_date into standard data and time format\n",
    "df['date'] = pd.to_datetime(df['publish_date'],format= '%Y%m%d')"
   ]
  },
  {
   "cell_type": "code",
   "execution_count": 280,
   "metadata": {},
   "outputs": [],
   "source": [
    "## Using the data on from 2011 and onward\n",
    "df = df[(df['date'] > \"2011-01-01\")]"
   ]
  },
  {
   "cell_type": "code",
   "execution_count": 281,
   "metadata": {},
   "outputs": [
    {
     "data": {
      "text/html": [
       "<div>\n",
       "<style scoped>\n",
       "    .dataframe tbody tr th:only-of-type {\n",
       "        vertical-align: middle;\n",
       "    }\n",
       "\n",
       "    .dataframe tbody tr th {\n",
       "        vertical-align: top;\n",
       "    }\n",
       "\n",
       "    .dataframe thead th {\n",
       "        text-align: right;\n",
       "    }\n",
       "</style>\n",
       "<table border=\"1\" class=\"dataframe\">\n",
       "  <thead>\n",
       "    <tr style=\"text-align: right;\">\n",
       "      <th></th>\n",
       "      <th>publish_date</th>\n",
       "      <th>headline_category</th>\n",
       "      <th>headline_text</th>\n",
       "      <th>date</th>\n",
       "    </tr>\n",
       "  </thead>\n",
       "  <tbody>\n",
       "    <tr>\n",
       "      <th>1024407</th>\n",
       "      <td>20110102</td>\n",
       "      <td>tech.computing</td>\n",
       "      <td>Technology wishlist for 2011</td>\n",
       "      <td>2011-01-02</td>\n",
       "    </tr>\n",
       "    <tr>\n",
       "      <th>1024408</th>\n",
       "      <td>20110102</td>\n",
       "      <td>city.patna</td>\n",
       "      <td>Air passengers a harassed lot</td>\n",
       "      <td>2011-01-02</td>\n",
       "    </tr>\n",
       "    <tr>\n",
       "      <th>1024409</th>\n",
       "      <td>20110102</td>\n",
       "      <td>entertainment.events.bangalore</td>\n",
       "      <td>Bangalore's chilled out New Year bash!</td>\n",
       "      <td>2011-01-02</td>\n",
       "    </tr>\n",
       "    <tr>\n",
       "      <th>1024410</th>\n",
       "      <td>20110102</td>\n",
       "      <td>entertainment.events.mumbai</td>\n",
       "      <td>Kapoor duo in celebration mode</td>\n",
       "      <td>2011-01-02</td>\n",
       "    </tr>\n",
       "    <tr>\n",
       "      <th>1024411</th>\n",
       "      <td>20110102</td>\n",
       "      <td>entertainment.hindi.bollywood</td>\n",
       "      <td>Salman's ready to help!</td>\n",
       "      <td>2011-01-02</td>\n",
       "    </tr>\n",
       "    <tr>\n",
       "      <th>...</th>\n",
       "      <td>...</td>\n",
       "      <td>...</td>\n",
       "      <td>...</td>\n",
       "      <td>...</td>\n",
       "    </tr>\n",
       "    <tr>\n",
       "      <th>3297167</th>\n",
       "      <td>20200630</td>\n",
       "      <td>gadgets-news</td>\n",
       "      <td>why tiktok removed 1 65 crore videos in india</td>\n",
       "      <td>2020-06-30</td>\n",
       "    </tr>\n",
       "    <tr>\n",
       "      <th>3297168</th>\n",
       "      <td>20200630</td>\n",
       "      <td>entertainment.hindi.bollywood</td>\n",
       "      <td>apurva asrani calls alia bhatts mother soni ra...</td>\n",
       "      <td>2020-06-30</td>\n",
       "    </tr>\n",
       "    <tr>\n",
       "      <th>3297169</th>\n",
       "      <td>20200630</td>\n",
       "      <td>entertainment.hindi.bollywood</td>\n",
       "      <td>kangana ranaut gets a doll version of herself ...</td>\n",
       "      <td>2020-06-30</td>\n",
       "    </tr>\n",
       "    <tr>\n",
       "      <th>3297170</th>\n",
       "      <td>20200630</td>\n",
       "      <td>entertainment.hindi.bollywood</td>\n",
       "      <td>meezaan jaffrey reminisces his childhood days ...</td>\n",
       "      <td>2020-06-30</td>\n",
       "    </tr>\n",
       "    <tr>\n",
       "      <th>3297171</th>\n",
       "      <td>20200630</td>\n",
       "      <td>entertainment.telugu.movies.news</td>\n",
       "      <td>prabhas20 titled as radhe shyam prabhas and po...</td>\n",
       "      <td>2020-06-30</td>\n",
       "    </tr>\n",
       "  </tbody>\n",
       "</table>\n",
       "<p>2272765 rows × 4 columns</p>\n",
       "</div>"
      ],
      "text/plain": [
       "         publish_date                 headline_category  \\\n",
       "1024407      20110102                    tech.computing   \n",
       "1024408      20110102                        city.patna   \n",
       "1024409      20110102    entertainment.events.bangalore   \n",
       "1024410      20110102       entertainment.events.mumbai   \n",
       "1024411      20110102     entertainment.hindi.bollywood   \n",
       "...               ...                               ...   \n",
       "3297167      20200630                      gadgets-news   \n",
       "3297168      20200630     entertainment.hindi.bollywood   \n",
       "3297169      20200630     entertainment.hindi.bollywood   \n",
       "3297170      20200630     entertainment.hindi.bollywood   \n",
       "3297171      20200630  entertainment.telugu.movies.news   \n",
       "\n",
       "                                             headline_text       date  \n",
       "1024407                       Technology wishlist for 2011 2011-01-02  \n",
       "1024408                      Air passengers a harassed lot 2011-01-02  \n",
       "1024409             Bangalore's chilled out New Year bash! 2011-01-02  \n",
       "1024410                     Kapoor duo in celebration mode 2011-01-02  \n",
       "1024411                            Salman's ready to help! 2011-01-02  \n",
       "...                                                    ...        ...  \n",
       "3297167      why tiktok removed 1 65 crore videos in india 2020-06-30  \n",
       "3297168  apurva asrani calls alia bhatts mother soni ra... 2020-06-30  \n",
       "3297169  kangana ranaut gets a doll version of herself ... 2020-06-30  \n",
       "3297170  meezaan jaffrey reminisces his childhood days ... 2020-06-30  \n",
       "3297171  prabhas20 titled as radhe shyam prabhas and po... 2020-06-30  \n",
       "\n",
       "[2272765 rows x 4 columns]"
      ]
     },
     "execution_count": 281,
     "metadata": {},
     "output_type": "execute_result"
    }
   ],
   "source": [
    "# Making a copy of the dataframe to make changes into it.\n",
    "df_news = df.copy()\n",
    "df_news"
   ]
  },
  {
   "cell_type": "code",
   "execution_count": 282,
   "metadata": {},
   "outputs": [
    {
     "data": {
      "text/html": [
       "<div>\n",
       "<style scoped>\n",
       "    .dataframe tbody tr th:only-of-type {\n",
       "        vertical-align: middle;\n",
       "    }\n",
       "\n",
       "    .dataframe tbody tr th {\n",
       "        vertical-align: top;\n",
       "    }\n",
       "\n",
       "    .dataframe thead th {\n",
       "        text-align: right;\n",
       "    }\n",
       "</style>\n",
       "<table border=\"1\" class=\"dataframe\">\n",
       "  <thead>\n",
       "    <tr style=\"text-align: right;\">\n",
       "      <th></th>\n",
       "      <th>publish_date</th>\n",
       "      <th>headline_category</th>\n",
       "      <th>headline_text</th>\n",
       "      <th>date</th>\n",
       "    </tr>\n",
       "  </thead>\n",
       "  <tbody>\n",
       "    <tr>\n",
       "      <th>1024407</th>\n",
       "      <td>20110102</td>\n",
       "      <td>tech.computing</td>\n",
       "      <td>Technology wishlist for 2011</td>\n",
       "      <td>2011-01-02</td>\n",
       "    </tr>\n",
       "    <tr>\n",
       "      <th>1024408</th>\n",
       "      <td>20110102</td>\n",
       "      <td>city.patna</td>\n",
       "      <td>Air passengers a harassed lot</td>\n",
       "      <td>2011-01-02</td>\n",
       "    </tr>\n",
       "    <tr>\n",
       "      <th>1024409</th>\n",
       "      <td>20110102</td>\n",
       "      <td>entertainment.events.bangalore</td>\n",
       "      <td>Bangalore's chilled out New Year bash!</td>\n",
       "      <td>2011-01-02</td>\n",
       "    </tr>\n",
       "    <tr>\n",
       "      <th>1024410</th>\n",
       "      <td>20110102</td>\n",
       "      <td>entertainment.events.mumbai</td>\n",
       "      <td>Kapoor duo in celebration mode</td>\n",
       "      <td>2011-01-02</td>\n",
       "    </tr>\n",
       "    <tr>\n",
       "      <th>1024411</th>\n",
       "      <td>20110102</td>\n",
       "      <td>entertainment.hindi.bollywood</td>\n",
       "      <td>Salman's ready to help!</td>\n",
       "      <td>2011-01-02</td>\n",
       "    </tr>\n",
       "    <tr>\n",
       "      <th>...</th>\n",
       "      <td>...</td>\n",
       "      <td>...</td>\n",
       "      <td>...</td>\n",
       "      <td>...</td>\n",
       "    </tr>\n",
       "    <tr>\n",
       "      <th>3297167</th>\n",
       "      <td>20200630</td>\n",
       "      <td>gadgets-news</td>\n",
       "      <td>why tiktok removed 1 65 crore videos in india</td>\n",
       "      <td>2020-06-30</td>\n",
       "    </tr>\n",
       "    <tr>\n",
       "      <th>3297168</th>\n",
       "      <td>20200630</td>\n",
       "      <td>entertainment.hindi.bollywood</td>\n",
       "      <td>apurva asrani calls alia bhatts mother soni ra...</td>\n",
       "      <td>2020-06-30</td>\n",
       "    </tr>\n",
       "    <tr>\n",
       "      <th>3297169</th>\n",
       "      <td>20200630</td>\n",
       "      <td>entertainment.hindi.bollywood</td>\n",
       "      <td>kangana ranaut gets a doll version of herself ...</td>\n",
       "      <td>2020-06-30</td>\n",
       "    </tr>\n",
       "    <tr>\n",
       "      <th>3297170</th>\n",
       "      <td>20200630</td>\n",
       "      <td>entertainment.hindi.bollywood</td>\n",
       "      <td>meezaan jaffrey reminisces his childhood days ...</td>\n",
       "      <td>2020-06-30</td>\n",
       "    </tr>\n",
       "    <tr>\n",
       "      <th>3297171</th>\n",
       "      <td>20200630</td>\n",
       "      <td>entertainment.telugu.movies.news</td>\n",
       "      <td>prabhas20 titled as radhe shyam prabhas and po...</td>\n",
       "      <td>2020-06-30</td>\n",
       "    </tr>\n",
       "  </tbody>\n",
       "</table>\n",
       "<p>2259497 rows × 4 columns</p>\n",
       "</div>"
      ],
      "text/plain": [
       "         publish_date                 headline_category  \\\n",
       "1024407      20110102                    tech.computing   \n",
       "1024408      20110102                        city.patna   \n",
       "1024409      20110102    entertainment.events.bangalore   \n",
       "1024410      20110102       entertainment.events.mumbai   \n",
       "1024411      20110102     entertainment.hindi.bollywood   \n",
       "...               ...                               ...   \n",
       "3297167      20200630                      gadgets-news   \n",
       "3297168      20200630     entertainment.hindi.bollywood   \n",
       "3297169      20200630     entertainment.hindi.bollywood   \n",
       "3297170      20200630     entertainment.hindi.bollywood   \n",
       "3297171      20200630  entertainment.telugu.movies.news   \n",
       "\n",
       "                                             headline_text       date  \n",
       "1024407                       Technology wishlist for 2011 2011-01-02  \n",
       "1024408                      Air passengers a harassed lot 2011-01-02  \n",
       "1024409             Bangalore's chilled out New Year bash! 2011-01-02  \n",
       "1024410                     Kapoor duo in celebration mode 2011-01-02  \n",
       "1024411                            Salman's ready to help! 2011-01-02  \n",
       "...                                                    ...        ...  \n",
       "3297167      why tiktok removed 1 65 crore videos in india 2020-06-30  \n",
       "3297168  apurva asrani calls alia bhatts mother soni ra... 2020-06-30  \n",
       "3297169  kangana ranaut gets a doll version of herself ... 2020-06-30  \n",
       "3297170  meezaan jaffrey reminisces his childhood days ... 2020-06-30  \n",
       "3297171  prabhas20 titled as radhe shyam prabhas and po... 2020-06-30  \n",
       "\n",
       "[2259497 rows x 4 columns]"
      ]
     },
     "execution_count": 282,
     "metadata": {},
     "output_type": "execute_result"
    }
   ],
   "source": [
    "## Dropping the duplicate rows from the data\n",
    "df_news.drop_duplicates(inplace=True)\n",
    "df_news"
   ]
  },
  {
   "cell_type": "code",
   "execution_count": 283,
   "metadata": {},
   "outputs": [],
   "source": [
    "# Droping publish_date and headline_category  from the data\n",
    "df_news =df_news.drop([\"publish_date\", \"headline_category\"], axis=1)"
   ]
  },
  {
   "cell_type": "code",
   "execution_count": 284,
   "metadata": {
    "scrolled": true
   },
   "outputs": [
    {
     "data": {
      "text/html": [
       "<div>\n",
       "<style scoped>\n",
       "    .dataframe tbody tr th:only-of-type {\n",
       "        vertical-align: middle;\n",
       "    }\n",
       "\n",
       "    .dataframe tbody tr th {\n",
       "        vertical-align: top;\n",
       "    }\n",
       "\n",
       "    .dataframe thead th {\n",
       "        text-align: right;\n",
       "    }\n",
       "</style>\n",
       "<table border=\"1\" class=\"dataframe\">\n",
       "  <thead>\n",
       "    <tr style=\"text-align: right;\">\n",
       "      <th></th>\n",
       "      <th>headline_text</th>\n",
       "      <th>date</th>\n",
       "    </tr>\n",
       "  </thead>\n",
       "  <tbody>\n",
       "    <tr>\n",
       "      <th>1024407</th>\n",
       "      <td>Technology wishlist for 2011</td>\n",
       "      <td>2011-01-02</td>\n",
       "    </tr>\n",
       "    <tr>\n",
       "      <th>1024408</th>\n",
       "      <td>Air passengers a harassed lot</td>\n",
       "      <td>2011-01-02</td>\n",
       "    </tr>\n",
       "    <tr>\n",
       "      <th>1024409</th>\n",
       "      <td>Bangalore's chilled out New Year bash!</td>\n",
       "      <td>2011-01-02</td>\n",
       "    </tr>\n",
       "    <tr>\n",
       "      <th>1024410</th>\n",
       "      <td>Kapoor duo in celebration mode</td>\n",
       "      <td>2011-01-02</td>\n",
       "    </tr>\n",
       "    <tr>\n",
       "      <th>1024411</th>\n",
       "      <td>Salman's ready to help!</td>\n",
       "      <td>2011-01-02</td>\n",
       "    </tr>\n",
       "  </tbody>\n",
       "</table>\n",
       "</div>"
      ],
      "text/plain": [
       "                                  headline_text       date\n",
       "1024407            Technology wishlist for 2011 2011-01-02\n",
       "1024408           Air passengers a harassed lot 2011-01-02\n",
       "1024409  Bangalore's chilled out New Year bash! 2011-01-02\n",
       "1024410          Kapoor duo in celebration mode 2011-01-02\n",
       "1024411                 Salman's ready to help! 2011-01-02"
      ]
     },
     "execution_count": 284,
     "metadata": {},
     "output_type": "execute_result"
    }
   ],
   "source": [
    "df_news.head()"
   ]
  },
  {
   "cell_type": "markdown",
   "metadata": {},
   "source": [
    "### Grouping the headlines for each day\n",
    "\n",
    "Grouping each headline_text of a day into a single column"
   ]
  },
  {
   "cell_type": "code",
   "execution_count": 285,
   "metadata": {},
   "outputs": [
    {
     "data": {
      "text/html": [
       "<div>\n",
       "<style scoped>\n",
       "    .dataframe tbody tr th:only-of-type {\n",
       "        vertical-align: middle;\n",
       "    }\n",
       "\n",
       "    .dataframe tbody tr th {\n",
       "        vertical-align: top;\n",
       "    }\n",
       "\n",
       "    .dataframe thead th {\n",
       "        text-align: right;\n",
       "    }\n",
       "</style>\n",
       "<table border=\"1\" class=\"dataframe\">\n",
       "  <thead>\n",
       "    <tr style=\"text-align: right;\">\n",
       "      <th></th>\n",
       "      <th>headline_text</th>\n",
       "      <th>date</th>\n",
       "    </tr>\n",
       "  </thead>\n",
       "  <tbody>\n",
       "    <tr>\n",
       "      <th>0</th>\n",
       "      <td>Technology wishlist for 2011 Air passengers a ...</td>\n",
       "      <td>2011-01-02</td>\n",
       "    </tr>\n",
       "    <tr>\n",
       "      <th>1</th>\n",
       "      <td>Photo Gallery (Ashes 2010) Your guy needs comp...</td>\n",
       "      <td>2011-01-03</td>\n",
       "    </tr>\n",
       "    <tr>\n",
       "      <th>2</th>\n",
       "      <td>Deepika Padukone Deepika Padukone Imran invite...</td>\n",
       "      <td>2011-01-04</td>\n",
       "    </tr>\n",
       "    <tr>\n",
       "      <th>3</th>\n",
       "      <td>Man dies of heart attack after killing lover's...</td>\n",
       "      <td>2011-01-05</td>\n",
       "    </tr>\n",
       "    <tr>\n",
       "      <th>4</th>\n",
       "      <td>Photo Gallery (Indian tour of South Africa) Ra...</td>\n",
       "      <td>2011-01-06</td>\n",
       "    </tr>\n",
       "    <tr>\n",
       "      <th>...</th>\n",
       "      <td>...</td>\n",
       "      <td>...</td>\n",
       "    </tr>\n",
       "    <tr>\n",
       "      <th>3463</th>\n",
       "      <td>Containment zone residents slam high prices ch...</td>\n",
       "      <td>2020-06-26</td>\n",
       "    </tr>\n",
       "    <tr>\n",
       "      <th>3464</th>\n",
       "      <td>like me i wont let you have a toxic relationsh...</td>\n",
       "      <td>2020-06-27</td>\n",
       "    </tr>\n",
       "    <tr>\n",
       "      <th>3465</th>\n",
       "      <td>Atanu Ghosh plans to rewrite old scripts to ma...</td>\n",
       "      <td>2020-06-28</td>\n",
       "    </tr>\n",
       "    <tr>\n",
       "      <th>3466</th>\n",
       "      <td>6 hot and stylish bikini looks of Katrina Kaif...</td>\n",
       "      <td>2020-06-29</td>\n",
       "    </tr>\n",
       "    <tr>\n",
       "      <th>3467</th>\n",
       "      <td>Detective Byomkesh Bakshy! Edge of Tomorrow Fi...</td>\n",
       "      <td>2020-06-30</td>\n",
       "    </tr>\n",
       "  </tbody>\n",
       "</table>\n",
       "<p>3468 rows × 2 columns</p>\n",
       "</div>"
      ],
      "text/plain": [
       "                                          headline_text       date\n",
       "0     Technology wishlist for 2011 Air passengers a ... 2011-01-02\n",
       "1     Photo Gallery (Ashes 2010) Your guy needs comp... 2011-01-03\n",
       "2     Deepika Padukone Deepika Padukone Imran invite... 2011-01-04\n",
       "3     Man dies of heart attack after killing lover's... 2011-01-05\n",
       "4     Photo Gallery (Indian tour of South Africa) Ra... 2011-01-06\n",
       "...                                                 ...        ...\n",
       "3463  Containment zone residents slam high prices ch... 2020-06-26\n",
       "3464  like me i wont let you have a toxic relationsh... 2020-06-27\n",
       "3465  Atanu Ghosh plans to rewrite old scripts to ma... 2020-06-28\n",
       "3466  6 hot and stylish bikini looks of Katrina Kaif... 2020-06-29\n",
       "3467  Detective Byomkesh Bakshy! Edge of Tomorrow Fi... 2020-06-30\n",
       "\n",
       "[3468 rows x 2 columns]"
      ]
     },
     "execution_count": 285,
     "metadata": {},
     "output_type": "execute_result"
    }
   ],
   "source": [
    "df_news['headline_text'] = df_news.groupby(['date']).transform(lambda x : ' '.join(x)) \n",
    "df_news = df_news.drop_duplicates() \n",
    "df_news.reset_index(inplace = True, drop = True)\n",
    "df_news"
   ]
  },
  {
   "cell_type": "markdown",
   "metadata": {},
   "source": [
    "### Tokenize and remove stop words"
   ]
  },
  {
   "cell_type": "code",
   "execution_count": 286,
   "metadata": {},
   "outputs": [],
   "source": [
    "def preprocess_headlines(headline):\n",
    "    stop_words = stopwords.words('english')\n",
    "    tokenize = []\n",
    "    result = \"\"\n",
    "    tokens = word_tokenize(headline) \n",
    "    for i in tokens:\n",
    "        if i.lower() not in stop_words:\n",
    "            result += \" \" + i.lower()\n",
    "    return result \n",
    "        "
   ]
  },
  {
   "cell_type": "code",
   "execution_count": 287,
   "metadata": {},
   "outputs": [],
   "source": [
    "df_news[\"headline_text\"] = [preprocess_headlines(i) for i in df_news['headline_text']]"
   ]
  },
  {
   "cell_type": "markdown",
   "metadata": {},
   "source": [
    "### Getting  Subjectivity  & Polarity from headline_text "
   ]
  },
  {
   "cell_type": "code",
   "execution_count": 289,
   "metadata": {},
   "outputs": [],
   "source": [
    "def getSubjectivity(text):\n",
    "  return TextBlob(text).sentiment.subjectivity\n",
    "\n",
    "def getPolarity(text):\n",
    "  return  TextBlob(text).sentiment.polarity"
   ]
  },
  {
   "cell_type": "code",
   "execution_count": 290,
   "metadata": {},
   "outputs": [
    {
     "data": {
      "text/html": [
       "<div>\n",
       "<style scoped>\n",
       "    .dataframe tbody tr th:only-of-type {\n",
       "        vertical-align: middle;\n",
       "    }\n",
       "\n",
       "    .dataframe tbody tr th {\n",
       "        vertical-align: top;\n",
       "    }\n",
       "\n",
       "    .dataframe thead th {\n",
       "        text-align: right;\n",
       "    }\n",
       "</style>\n",
       "<table border=\"1\" class=\"dataframe\">\n",
       "  <thead>\n",
       "    <tr style=\"text-align: right;\">\n",
       "      <th></th>\n",
       "      <th>headline_text</th>\n",
       "      <th>date</th>\n",
       "      <th>Subjectivity</th>\n",
       "      <th>Polarity</th>\n",
       "    </tr>\n",
       "  </thead>\n",
       "  <tbody>\n",
       "    <tr>\n",
       "      <th>0</th>\n",
       "      <td>technology wishlist 2011 air passengers haras...</td>\n",
       "      <td>2011-01-02</td>\n",
       "      <td>0.420696</td>\n",
       "      <td>0.052225</td>\n",
       "    </tr>\n",
       "    <tr>\n",
       "      <th>1</th>\n",
       "      <td>photo gallery ( ashes 2010 ) guy needs compli...</td>\n",
       "      <td>2011-01-03</td>\n",
       "      <td>0.375598</td>\n",
       "      <td>0.061099</td>\n",
       "    </tr>\n",
       "    <tr>\n",
       "      <th>2</th>\n",
       "      <td>deepika padukone deepika padukone imran invit...</td>\n",
       "      <td>2011-01-04</td>\n",
       "      <td>0.391273</td>\n",
       "      <td>0.019847</td>\n",
       "    </tr>\n",
       "    <tr>\n",
       "      <th>3</th>\n",
       "      <td>man dies heart attack killing lover 's hubby ...</td>\n",
       "      <td>2011-01-05</td>\n",
       "      <td>0.420299</td>\n",
       "      <td>0.010189</td>\n",
       "    </tr>\n",
       "    <tr>\n",
       "      <th>4</th>\n",
       "      <td>photo gallery ( indian tour south africa ) ra...</td>\n",
       "      <td>2011-01-06</td>\n",
       "      <td>0.389732</td>\n",
       "      <td>0.020557</td>\n",
       "    </tr>\n",
       "    <tr>\n",
       "      <th>...</th>\n",
       "      <td>...</td>\n",
       "      <td>...</td>\n",
       "      <td>...</td>\n",
       "      <td>...</td>\n",
       "    </tr>\n",
       "    <tr>\n",
       "      <th>3463</th>\n",
       "      <td>containment zone residents slam high prices c...</td>\n",
       "      <td>2020-06-26</td>\n",
       "      <td>0.364023</td>\n",
       "      <td>0.043772</td>\n",
       "    </tr>\n",
       "    <tr>\n",
       "      <th>3464</th>\n",
       "      <td>like wont let toxic relationship food major r...</td>\n",
       "      <td>2020-06-27</td>\n",
       "      <td>0.381440</td>\n",
       "      <td>0.068239</td>\n",
       "    </tr>\n",
       "    <tr>\n",
       "      <th>3465</th>\n",
       "      <td>atanu ghosh plans rewrite old scripts make re...</td>\n",
       "      <td>2020-06-28</td>\n",
       "      <td>0.399849</td>\n",
       "      <td>0.037077</td>\n",
       "    </tr>\n",
       "    <tr>\n",
       "      <th>3466</th>\n",
       "      <td>6 hot stylish bikini looks katrina kaif anna ...</td>\n",
       "      <td>2020-06-29</td>\n",
       "      <td>0.378767</td>\n",
       "      <td>0.041490</td>\n",
       "    </tr>\n",
       "    <tr>\n",
       "      <th>3467</th>\n",
       "      <td>detective byomkesh bakshy ! edge tomorrow fir...</td>\n",
       "      <td>2020-06-30</td>\n",
       "      <td>0.371251</td>\n",
       "      <td>0.056746</td>\n",
       "    </tr>\n",
       "  </tbody>\n",
       "</table>\n",
       "<p>3468 rows × 4 columns</p>\n",
       "</div>"
      ],
      "text/plain": [
       "                                          headline_text       date  \\\n",
       "0      technology wishlist 2011 air passengers haras... 2011-01-02   \n",
       "1      photo gallery ( ashes 2010 ) guy needs compli... 2011-01-03   \n",
       "2      deepika padukone deepika padukone imran invit... 2011-01-04   \n",
       "3      man dies heart attack killing lover 's hubby ... 2011-01-05   \n",
       "4      photo gallery ( indian tour south africa ) ra... 2011-01-06   \n",
       "...                                                 ...        ...   \n",
       "3463   containment zone residents slam high prices c... 2020-06-26   \n",
       "3464   like wont let toxic relationship food major r... 2020-06-27   \n",
       "3465   atanu ghosh plans rewrite old scripts make re... 2020-06-28   \n",
       "3466   6 hot stylish bikini looks katrina kaif anna ... 2020-06-29   \n",
       "3467   detective byomkesh bakshy ! edge tomorrow fir... 2020-06-30   \n",
       "\n",
       "      Subjectivity  Polarity  \n",
       "0         0.420696  0.052225  \n",
       "1         0.375598  0.061099  \n",
       "2         0.391273  0.019847  \n",
       "3         0.420299  0.010189  \n",
       "4         0.389732  0.020557  \n",
       "...            ...       ...  \n",
       "3463      0.364023  0.043772  \n",
       "3464      0.381440  0.068239  \n",
       "3465      0.399849  0.037077  \n",
       "3466      0.378767  0.041490  \n",
       "3467      0.371251  0.056746  \n",
       "\n",
       "[3468 rows x 4 columns]"
      ]
     },
     "execution_count": 290,
     "metadata": {},
     "output_type": "execute_result"
    }
   ],
   "source": [
    "#Adding subjectivity and polarity columns\n",
    "df_news['Subjectivity'] = df_news['headline_text'].apply(getSubjectivity)\n",
    "df_news['Polarity'] = df_news['headline_text'].apply(getPolarity)\n",
    "df_news"
   ]
  },
  {
   "cell_type": "code",
   "execution_count": 453,
   "metadata": {
    "scrolled": true
   },
   "outputs": [
    {
     "data": {
      "text/plain": [
       "<matplotlib.axes._subplots.AxesSubplot at 0x20788de5d30>"
      ]
     },
     "execution_count": 453,
     "metadata": {},
     "output_type": "execute_result"
    },
    {
     "data": {
      "image/png": "[encoded data removed]",
      "text/plain": [
       "<Figure size 648x360 with 1 Axes>"
      ]
     },
     "metadata": {
      "needs_background": "light"
     },
     "output_type": "display_data"
    }
   ],
   "source": [
    "plt.figure(figsize = (9,5))\n",
    "df_news['Polarity'].hist(color = 'pink')"
   ]
  },
  {
   "cell_type": "code",
   "execution_count": 454,
   "metadata": {
    "scrolled": true
   },
   "outputs": [
    {
     "data": {
      "text/plain": [
       "<matplotlib.axes._subplots.AxesSubplot at 0x20788e4f2e0>"
      ]
     },
     "execution_count": 454,
     "metadata": {},
     "output_type": "execute_result"
    },
    {
     "data": {
      "image/png": "[encoded data removed]",
      "text/plain": [
       "<Figure size 648x360 with 1 Axes>"
      ]
     },
     "metadata": {
      "needs_background": "light"
     },
     "output_type": "display_data"
    }
   ],
   "source": [
    "plt.figure(figsize = (9,5))\n",
    "df_news['Subjectivity'].hist(color = 'green')"
   ]
  },
  {
   "cell_type": "markdown",
   "metadata": {},
   "source": [
    "### Adding Sentiment Scores to df_news"
   ]
  },
  {
   "cell_type": "code",
   "execution_count": 293,
   "metadata": {},
   "outputs": [
    {
     "data": {
      "text/html": [
       "<div>\n",
       "<style scoped>\n",
       "    .dataframe tbody tr th:only-of-type {\n",
       "        vertical-align: middle;\n",
       "    }\n",
       "\n",
       "    .dataframe tbody tr th {\n",
       "        vertical-align: top;\n",
       "    }\n",
       "\n",
       "    .dataframe thead th {\n",
       "        text-align: right;\n",
       "    }\n",
       "</style>\n",
       "<table border=\"1\" class=\"dataframe\">\n",
       "  <thead>\n",
       "    <tr style=\"text-align: right;\">\n",
       "      <th></th>\n",
       "      <th>headline_text</th>\n",
       "      <th>date</th>\n",
       "      <th>Subjectivity</th>\n",
       "      <th>Polarity</th>\n",
       "      <th>Compound</th>\n",
       "      <th>Negative</th>\n",
       "      <th>Neutral</th>\n",
       "      <th>Positive</th>\n",
       "    </tr>\n",
       "  </thead>\n",
       "  <tbody>\n",
       "    <tr>\n",
       "      <th>0</th>\n",
       "      <td>technology wishlist 2011 air passengers haras...</td>\n",
       "      <td>2011-01-02</td>\n",
       "      <td>0.420696</td>\n",
       "      <td>0.052225</td>\n",
       "      <td>-0.9999</td>\n",
       "      <td>0.195</td>\n",
       "      <td>0.696</td>\n",
       "      <td>0.109</td>\n",
       "    </tr>\n",
       "    <tr>\n",
       "      <th>1</th>\n",
       "      <td>photo gallery ( ashes 2010 ) guy needs compli...</td>\n",
       "      <td>2011-01-03</td>\n",
       "      <td>0.375598</td>\n",
       "      <td>0.061099</td>\n",
       "      <td>-0.9997</td>\n",
       "      <td>0.178</td>\n",
       "      <td>0.710</td>\n",
       "      <td>0.112</td>\n",
       "    </tr>\n",
       "    <tr>\n",
       "      <th>2</th>\n",
       "      <td>deepika padukone deepika padukone imran invit...</td>\n",
       "      <td>2011-01-04</td>\n",
       "      <td>0.391273</td>\n",
       "      <td>0.019847</td>\n",
       "      <td>-0.9998</td>\n",
       "      <td>0.174</td>\n",
       "      <td>0.717</td>\n",
       "      <td>0.108</td>\n",
       "    </tr>\n",
       "    <tr>\n",
       "      <th>3</th>\n",
       "      <td>man dies heart attack killing lover 's hubby ...</td>\n",
       "      <td>2011-01-05</td>\n",
       "      <td>0.420299</td>\n",
       "      <td>0.010189</td>\n",
       "      <td>-0.9999</td>\n",
       "      <td>0.189</td>\n",
       "      <td>0.701</td>\n",
       "      <td>0.109</td>\n",
       "    </tr>\n",
       "    <tr>\n",
       "      <th>4</th>\n",
       "      <td>photo gallery ( indian tour south africa ) ra...</td>\n",
       "      <td>2011-01-06</td>\n",
       "      <td>0.389732</td>\n",
       "      <td>0.020557</td>\n",
       "      <td>-0.9998</td>\n",
       "      <td>0.159</td>\n",
       "      <td>0.741</td>\n",
       "      <td>0.100</td>\n",
       "    </tr>\n",
       "    <tr>\n",
       "      <th>...</th>\n",
       "      <td>...</td>\n",
       "      <td>...</td>\n",
       "      <td>...</td>\n",
       "      <td>...</td>\n",
       "      <td>...</td>\n",
       "      <td>...</td>\n",
       "      <td>...</td>\n",
       "      <td>...</td>\n",
       "    </tr>\n",
       "    <tr>\n",
       "      <th>3463</th>\n",
       "      <td>containment zone residents slam high prices c...</td>\n",
       "      <td>2020-06-26</td>\n",
       "      <td>0.364023</td>\n",
       "      <td>0.043772</td>\n",
       "      <td>-0.9998</td>\n",
       "      <td>0.155</td>\n",
       "      <td>0.753</td>\n",
       "      <td>0.092</td>\n",
       "    </tr>\n",
       "    <tr>\n",
       "      <th>3464</th>\n",
       "      <td>like wont let toxic relationship food major r...</td>\n",
       "      <td>2020-06-27</td>\n",
       "      <td>0.381440</td>\n",
       "      <td>0.068239</td>\n",
       "      <td>-0.9998</td>\n",
       "      <td>0.148</td>\n",
       "      <td>0.759</td>\n",
       "      <td>0.093</td>\n",
       "    </tr>\n",
       "    <tr>\n",
       "      <th>3465</th>\n",
       "      <td>atanu ghosh plans rewrite old scripts make re...</td>\n",
       "      <td>2020-06-28</td>\n",
       "      <td>0.399849</td>\n",
       "      <td>0.037077</td>\n",
       "      <td>-0.9999</td>\n",
       "      <td>0.157</td>\n",
       "      <td>0.760</td>\n",
       "      <td>0.083</td>\n",
       "    </tr>\n",
       "    <tr>\n",
       "      <th>3466</th>\n",
       "      <td>6 hot stylish bikini looks katrina kaif anna ...</td>\n",
       "      <td>2020-06-29</td>\n",
       "      <td>0.378767</td>\n",
       "      <td>0.041490</td>\n",
       "      <td>-0.9998</td>\n",
       "      <td>0.152</td>\n",
       "      <td>0.760</td>\n",
       "      <td>0.088</td>\n",
       "    </tr>\n",
       "    <tr>\n",
       "      <th>3467</th>\n",
       "      <td>detective byomkesh bakshy ! edge tomorrow fir...</td>\n",
       "      <td>2020-06-30</td>\n",
       "      <td>0.371251</td>\n",
       "      <td>0.056746</td>\n",
       "      <td>-0.9998</td>\n",
       "      <td>0.136</td>\n",
       "      <td>0.792</td>\n",
       "      <td>0.073</td>\n",
       "    </tr>\n",
       "  </tbody>\n",
       "</table>\n",
       "<p>3468 rows × 8 columns</p>\n",
       "</div>"
      ],
      "text/plain": [
       "                                          headline_text       date  \\\n",
       "0      technology wishlist 2011 air passengers haras... 2011-01-02   \n",
       "1      photo gallery ( ashes 2010 ) guy needs compli... 2011-01-03   \n",
       "2      deepika padukone deepika padukone imran invit... 2011-01-04   \n",
       "3      man dies heart attack killing lover 's hubby ... 2011-01-05   \n",
       "4      photo gallery ( indian tour south africa ) ra... 2011-01-06   \n",
       "...                                                 ...        ...   \n",
       "3463   containment zone residents slam high prices c... 2020-06-26   \n",
       "3464   like wont let toxic relationship food major r... 2020-06-27   \n",
       "3465   atanu ghosh plans rewrite old scripts make re... 2020-06-28   \n",
       "3466   6 hot stylish bikini looks katrina kaif anna ... 2020-06-29   \n",
       "3467   detective byomkesh bakshy ! edge tomorrow fir... 2020-06-30   \n",
       "\n",
       "      Subjectivity  Polarity  Compound  Negative  Neutral  Positive  \n",
       "0         0.420696  0.052225   -0.9999     0.195    0.696     0.109  \n",
       "1         0.375598  0.061099   -0.9997     0.178    0.710     0.112  \n",
       "2         0.391273  0.019847   -0.9998     0.174    0.717     0.108  \n",
       "3         0.420299  0.010189   -0.9999     0.189    0.701     0.109  \n",
       "4         0.389732  0.020557   -0.9998     0.159    0.741     0.100  \n",
       "...            ...       ...       ...       ...      ...       ...  \n",
       "3463      0.364023  0.043772   -0.9998     0.155    0.753     0.092  \n",
       "3464      0.381440  0.068239   -0.9998     0.148    0.759     0.093  \n",
       "3465      0.399849  0.037077   -0.9999     0.157    0.760     0.083  \n",
       "3466      0.378767  0.041490   -0.9998     0.152    0.760     0.088  \n",
       "3467      0.371251  0.056746   -0.9998     0.136    0.792     0.073  \n",
       "\n",
       "[3468 rows x 8 columns]"
      ]
     },
     "execution_count": 293,
     "metadata": {},
     "output_type": "execute_result"
    }
   ],
   "source": [
    "sia = SentimentIntensityAnalyzer()\n",
    "\n",
    "df_news['Compound'] = [sia.polarity_scores(v)['compound'] for v in df_news['headline_text']]\n",
    "df_news['Negative'] = [sia.polarity_scores(v)['neg'] for v in df_news['headline_text']]\n",
    "df_news['Neutral'] = [sia.polarity_scores(v)['neu'] for v in df_news['headline_text']]\n",
    "df_news['Positive'] = [sia.polarity_scores(v)['pos'] for v in df_news['headline_text']]\n",
    "df_news"
   ]
  },
  {
   "cell_type": "markdown",
   "metadata": {},
   "source": [
    "## Numerical Analysis"
   ]
  },
  {
   "cell_type": "markdown",
   "metadata": {},
   "source": [
    "Now we are going to analyze the historical stock price dataset"
   ]
  },
  {
   "cell_type": "code",
   "execution_count": 294,
   "metadata": {},
   "outputs": [
    {
     "data": {
      "text/html": [
       "<div>\n",
       "<style scoped>\n",
       "    .dataframe tbody tr th:only-of-type {\n",
       "        vertical-align: middle;\n",
       "    }\n",
       "\n",
       "    .dataframe tbody tr th {\n",
       "        vertical-align: top;\n",
       "    }\n",
       "\n",
       "    .dataframe thead th {\n",
       "        text-align: right;\n",
       "    }\n",
       "</style>\n",
       "<table border=\"1\" class=\"dataframe\">\n",
       "  <thead>\n",
       "    <tr style=\"text-align: right;\">\n",
       "      <th></th>\n",
       "      <th>Date</th>\n",
       "      <th>Open</th>\n",
       "      <th>High</th>\n",
       "      <th>Low</th>\n",
       "      <th>Close</th>\n",
       "      <th>Adj Close</th>\n",
       "      <th>Volume</th>\n",
       "    </tr>\n",
       "  </thead>\n",
       "  <tbody>\n",
       "    <tr>\n",
       "      <th>0</th>\n",
       "      <td>2011-01-03</td>\n",
       "      <td>20621.609375</td>\n",
       "      <td>20664.800781</td>\n",
       "      <td>20531.000000</td>\n",
       "      <td>20561.050781</td>\n",
       "      <td>20561.050781</td>\n",
       "      <td>12000.0</td>\n",
       "    </tr>\n",
       "    <tr>\n",
       "      <th>1</th>\n",
       "      <td>2011-01-04</td>\n",
       "      <td>20617.380859</td>\n",
       "      <td>20651.210938</td>\n",
       "      <td>20449.009766</td>\n",
       "      <td>20498.720703</td>\n",
       "      <td>20498.720703</td>\n",
       "      <td>15200.0</td>\n",
       "    </tr>\n",
       "    <tr>\n",
       "      <th>2</th>\n",
       "      <td>2011-01-05</td>\n",
       "      <td>20509.949219</td>\n",
       "      <td>20509.949219</td>\n",
       "      <td>20243.949219</td>\n",
       "      <td>20301.099609</td>\n",
       "      <td>20301.099609</td>\n",
       "      <td>14400.0</td>\n",
       "    </tr>\n",
       "    <tr>\n",
       "      <th>3</th>\n",
       "      <td>2011-01-06</td>\n",
       "      <td>20395.500000</td>\n",
       "      <td>20425.849609</td>\n",
       "      <td>20107.169922</td>\n",
       "      <td>20184.740234</td>\n",
       "      <td>20184.740234</td>\n",
       "      <td>16600.0</td>\n",
       "    </tr>\n",
       "    <tr>\n",
       "      <th>4</th>\n",
       "      <td>2011-01-07</td>\n",
       "      <td>20163.849609</td>\n",
       "      <td>20210.619141</td>\n",
       "      <td>19629.220703</td>\n",
       "      <td>19691.810547</td>\n",
       "      <td>19691.810547</td>\n",
       "      <td>15800.0</td>\n",
       "    </tr>\n",
       "  </tbody>\n",
       "</table>\n",
       "</div>"
      ],
      "text/plain": [
       "         Date          Open          High           Low         Close  \\\n",
       "0  2011-01-03  20621.609375  20664.800781  20531.000000  20561.050781   \n",
       "1  2011-01-04  20617.380859  20651.210938  20449.009766  20498.720703   \n",
       "2  2011-01-05  20509.949219  20509.949219  20243.949219  20301.099609   \n",
       "3  2011-01-06  20395.500000  20425.849609  20107.169922  20184.740234   \n",
       "4  2011-01-07  20163.849609  20210.619141  19629.220703  19691.810547   \n",
       "\n",
       "      Adj Close   Volume  \n",
       "0  20561.050781  12000.0  \n",
       "1  20498.720703  15200.0  \n",
       "2  20301.099609  14400.0  \n",
       "3  20184.740234  16600.0  \n",
       "4  19691.810547  15800.0  "
      ]
     },
     "execution_count": 294,
     "metadata": {},
     "output_type": "execute_result"
    }
   ],
   "source": [
    "stock_df = pd.read_csv('BSESN.csv')\n",
    "stock_df.head()"
   ]
  },
  {
   "cell_type": "code",
   "execution_count": 295,
   "metadata": {},
   "outputs": [
    {
     "name": "stdout",
     "output_type": "stream",
     "text": [
      "<class 'pandas.core.frame.DataFrame'>\n",
      "RangeIndex: 2455 entries, 0 to 2454\n",
      "Data columns (total 7 columns):\n",
      " #   Column     Non-Null Count  Dtype  \n",
      "---  ------     --------------  -----  \n",
      " 0   Date       2455 non-null   object \n",
      " 1   Open       2438 non-null   float64\n",
      " 2   High       2438 non-null   float64\n",
      " 3   Low        2438 non-null   float64\n",
      " 4   Close      2438 non-null   float64\n",
      " 5   Adj Close  2438 non-null   float64\n",
      " 6   Volume     2438 non-null   float64\n",
      "dtypes: float64(6), object(1)\n",
      "memory usage: 134.4+ KB\n"
     ]
    }
   ],
   "source": [
    "# General info\n",
    "stock_df.info()"
   ]
  },
  {
   "cell_type": "code",
   "execution_count": 296,
   "metadata": {},
   "outputs": [
    {
     "data": {
      "text/html": [
       "<div>\n",
       "<style scoped>\n",
       "    .dataframe tbody tr th:only-of-type {\n",
       "        vertical-align: middle;\n",
       "    }\n",
       "\n",
       "    .dataframe tbody tr th {\n",
       "        vertical-align: top;\n",
       "    }\n",
       "\n",
       "    .dataframe thead th {\n",
       "        text-align: right;\n",
       "    }\n",
       "</style>\n",
       "<table border=\"1\" class=\"dataframe\">\n",
       "  <thead>\n",
       "    <tr style=\"text-align: right;\">\n",
       "      <th></th>\n",
       "      <th>Open</th>\n",
       "      <th>High</th>\n",
       "      <th>Low</th>\n",
       "      <th>Close</th>\n",
       "      <th>Adj Close</th>\n",
       "      <th>Volume</th>\n",
       "    </tr>\n",
       "  </thead>\n",
       "  <tbody>\n",
       "    <tr>\n",
       "      <th>count</th>\n",
       "      <td>2438.000000</td>\n",
       "      <td>2438.000000</td>\n",
       "      <td>2438.000000</td>\n",
       "      <td>2438.000000</td>\n",
       "      <td>2438.000000</td>\n",
       "      <td>2.438000e+03</td>\n",
       "    </tr>\n",
       "    <tr>\n",
       "      <th>mean</th>\n",
       "      <td>27534.990383</td>\n",
       "      <td>27672.280174</td>\n",
       "      <td>27340.152603</td>\n",
       "      <td>27499.768572</td>\n",
       "      <td>27499.768572</td>\n",
       "      <td>1.439943e+05</td>\n",
       "    </tr>\n",
       "    <tr>\n",
       "      <th>std</th>\n",
       "      <td>7700.982133</td>\n",
       "      <td>7722.415079</td>\n",
       "      <td>7653.057429</td>\n",
       "      <td>7687.470434</td>\n",
       "      <td>7687.470434</td>\n",
       "      <td>1.513235e+06</td>\n",
       "    </tr>\n",
       "    <tr>\n",
       "      <th>min</th>\n",
       "      <td>15436.120117</td>\n",
       "      <td>15440.099609</td>\n",
       "      <td>15135.860352</td>\n",
       "      <td>15175.080078</td>\n",
       "      <td>15175.080078</td>\n",
       "      <td>2.500000e+03</td>\n",
       "    </tr>\n",
       "    <tr>\n",
       "      <th>25%</th>\n",
       "      <td>19723.430176</td>\n",
       "      <td>19820.339844</td>\n",
       "      <td>19621.708008</td>\n",
       "      <td>19698.077149</td>\n",
       "      <td>19698.077149</td>\n",
       "      <td>9.500000e+03</td>\n",
       "    </tr>\n",
       "    <tr>\n",
       "      <th>50%</th>\n",
       "      <td>27251.379883</td>\n",
       "      <td>27389.254882</td>\n",
       "      <td>27123.465820</td>\n",
       "      <td>27249.129882</td>\n",
       "      <td>27249.129882</td>\n",
       "      <td>1.200000e+04</td>\n",
       "    </tr>\n",
       "    <tr>\n",
       "      <th>75%</th>\n",
       "      <td>34203.609375</td>\n",
       "      <td>34456.069336</td>\n",
       "      <td>33999.981445</td>\n",
       "      <td>34190.496094</td>\n",
       "      <td>34190.496094</td>\n",
       "      <td>1.687500e+04</td>\n",
       "    </tr>\n",
       "    <tr>\n",
       "      <th>max</th>\n",
       "      <td>45999.421875</td>\n",
       "      <td>46164.101563</td>\n",
       "      <td>45792.011719</td>\n",
       "      <td>46103.500000</td>\n",
       "      <td>46103.500000</td>\n",
       "      <td>3.181510e+07</td>\n",
       "    </tr>\n",
       "  </tbody>\n",
       "</table>\n",
       "</div>"
      ],
      "text/plain": [
       "               Open          High           Low         Close     Adj Close  \\\n",
       "count   2438.000000   2438.000000   2438.000000   2438.000000   2438.000000   \n",
       "mean   27534.990383  27672.280174  27340.152603  27499.768572  27499.768572   \n",
       "std     7700.982133   7722.415079   7653.057429   7687.470434   7687.470434   \n",
       "min    15436.120117  15440.099609  15135.860352  15175.080078  15175.080078   \n",
       "25%    19723.430176  19820.339844  19621.708008  19698.077149  19698.077149   \n",
       "50%    27251.379883  27389.254882  27123.465820  27249.129882  27249.129882   \n",
       "75%    34203.609375  34456.069336  33999.981445  34190.496094  34190.496094   \n",
       "max    45999.421875  46164.101563  45792.011719  46103.500000  46103.500000   \n",
       "\n",
       "             Volume  \n",
       "count  2.438000e+03  \n",
       "mean   1.439943e+05  \n",
       "std    1.513235e+06  \n",
       "min    2.500000e+03  \n",
       "25%    9.500000e+03  \n",
       "50%    1.200000e+04  \n",
       "75%    1.687500e+04  \n",
       "max    3.181510e+07  "
      ]
     },
     "execution_count": 296,
     "metadata": {},
     "output_type": "execute_result"
    }
   ],
   "source": [
    "# Summary Stats\n",
    "stock_df.describe()"
   ]
  },
  {
   "cell_type": "code",
   "execution_count": 297,
   "metadata": {},
   "outputs": [],
   "source": [
    "stock_df['date'] = pd.to_datetime(stock_df['Date'], infer_datetime_format=True)\n",
    "stock_df = stock_df.drop('Date', axis=1)"
   ]
  },
  {
   "cell_type": "markdown",
   "metadata": {},
   "source": [
    "### Creating a new column Label in the dataframe which will have:\n",
    "* value `0`, if Adj Close value decreased.\n",
    "* value `1`, if Adj Close value rose or stayed as the same¶."
   ]
  },
  {
   "cell_type": "code",
   "execution_count": 298,
   "metadata": {
    "scrolled": true
   },
   "outputs": [
    {
     "name": "stderr",
     "output_type": "stream",
     "text": [
      "<ipython-input-298-06c44b9d2e75>:6: SettingWithCopyWarning: \n",
      "A value is trying to be set on a copy of a slice from a DataFrame\n",
      "\n",
      "See the caveats in the documentation: https://pandas.pydata.org/pandas-docs/stable/user_guide/indexing.html#returning-a-view-versus-a-copy\n",
      "  stock_df['Label'][i+1] = 0\n",
      "<ipython-input-298-06c44b9d2e75>:4: SettingWithCopyWarning: \n",
      "A value is trying to be set on a copy of a slice from a DataFrame\n",
      "\n",
      "See the caveats in the documentation: https://pandas.pydata.org/pandas-docs/stable/user_guide/indexing.html#returning-a-view-versus-a-copy\n",
      "  stock_df['Label'][i+1] = 1\n"
     ]
    }
   ],
   "source": [
    "stock_df['Label'] = 1\n",
    "for i in range(0,len(stock_df)-1):\n",
    "    if stock_df['Adj Close'][i+1] >= stock_df['Adj Close'][i]:\n",
    "        stock_df['Label'][i+1] = 1\n",
    "    elif stock_df['Adj Close'][i+1] < stock_df['Adj Close'][i]:\n",
    "        stock_df['Label'][i+1] = 0"
   ]
  },
  {
   "cell_type": "code",
   "execution_count": 299,
   "metadata": {},
   "outputs": [],
   "source": [
    "# Dropping null values\n",
    "stock_df = stock_df.dropna() "
   ]
  },
  {
   "cell_type": "code",
   "execution_count": 300,
   "metadata": {},
   "outputs": [
    {
     "data": {
      "text/plain": [
       "Text(0.5, 1.0, 'SENSEX')"
      ]
     },
     "execution_count": 300,
     "metadata": {},
     "output_type": "execute_result"
    },
    {
     "data": {
      "image/png": "[encoded data removed]",
      "text/plain": [
       "<Figure size 576x432 with 1 Axes>"
      ]
     },
     "metadata": {
      "needs_background": "light"
     },
     "output_type": "display_data"
    }
   ],
   "source": [
    "# Let's see a historical view of the closing price\n",
    "plt.figure(figsize=(8, 6))\n",
    "plt.plot( stock_df['date'],stock_df['Close'])\n",
    "plt.ylabel('Close')\n",
    "plt.xlabel('Date')\n",
    "plt.title(\"SENSEX\")"
   ]
  },
  {
   "cell_type": "code",
   "execution_count": 301,
   "metadata": {},
   "outputs": [
    {
     "data": {
      "text/plain": [
       "Text(0.5, 1.0, 'SENSEX')"
      ]
     },
     "execution_count": 301,
     "metadata": {},
     "output_type": "execute_result"
    },
    {
     "data": {
      "image/png": "[encoded data removed]",
      "text/plain": [
       "<Figure size 576x432 with 1 Axes>"
      ]
     },
     "metadata": {
      "needs_background": "light"
     },
     "output_type": "display_data"
    }
   ],
   "source": [
    "# Let's see a historical view of total Volume being traded everyday\n",
    "plt.figure(figsize=(8, 6))\n",
    "plt.plot( stock_df['date'],stock_df['Volume'])\n",
    "plt.ylabel('Volume')\n",
    "plt.xlabel('Date')\n",
    "plt.title(\"SENSEX\")"
   ]
  },
  {
   "cell_type": "code",
   "execution_count": 302,
   "metadata": {},
   "outputs": [
    {
     "data": {
      "text/plain": [
       "array([[<matplotlib.axes._subplots.AxesSubplot object at 0x00000207810FD5B0>,\n",
       "        <matplotlib.axes._subplots.AxesSubplot object at 0x00000207810E3940>,\n",
       "        <matplotlib.axes._subplots.AxesSubplot object at 0x0000020782C29CD0>],\n",
       "       [<matplotlib.axes._subplots.AxesSubplot object at 0x00000207BDF76160>,\n",
       "        <matplotlib.axes._subplots.AxesSubplot object at 0x00000207BDF635B0>,\n",
       "        <matplotlib.axes._subplots.AxesSubplot object at 0x0000020781385940>],\n",
       "       [<matplotlib.axes._subplots.AxesSubplot object at 0x0000020781385A30>,\n",
       "        <matplotlib.axes._subplots.AxesSubplot object at 0x0000020780E56310>,\n",
       "        <matplotlib.axes._subplots.AxesSubplot object at 0x0000020780E76820>]],\n",
       "      dtype=object)"
      ]
     },
     "execution_count": 302,
     "metadata": {},
     "output_type": "execute_result"
    },
    {
     "data": {
      "image/png": "[encoded data removed]",
      "text/plain": [
       "<Figure size 864x864 with 9 Axes>"
      ]
     },
     "metadata": {
      "needs_background": "light"
     },
     "output_type": "display_data"
    }
   ],
   "source": [
    "stock_df.hist(figsize=(12,12))"
   ]
  },
  {
   "cell_type": "code",
   "execution_count": 397,
   "metadata": {},
   "outputs": [
    {
     "data": {
      "text/plain": [
       "Text(0.5, 0, 'Days')"
      ]
     },
     "execution_count": 397,
     "metadata": {},
     "output_type": "execute_result"
    },
    {
     "data": {
      "image/png": "[encoded data removed]",
      "text/plain": [
       "<Figure size 720x432 with 1 Axes>"
      ]
     },
     "metadata": {
      "needs_background": "light"
     },
     "output_type": "display_data"
    }
   ],
   "source": [
    "#Plotting moving average\n",
    "close = stock_df['Close']\n",
    "ma = close.rolling(window = 50).mean()\n",
    "std = close.rolling(window = 50).std()\n",
    "\n",
    "plt.figure(figsize=(10, 6))\n",
    "stock_df['Close'].plot(color = 'b', label = 'Close')\n",
    "ma.plot(color = 'r', label = 'Rolling Mean')\n",
    "std.plot(label = 'Rolling Standard Deviation')\n",
    "plt.legend()\n",
    "plt.xlabel('Days')"
   ]
  },
  {
   "cell_type": "markdown",
   "metadata": {},
   "source": [
    "### Cheking Daily return\n",
    "We're now going to analyze the risk of the stock. In order to do so we'll need to take a closer look at the daily changes of the stock"
   ]
  },
  {
   "cell_type": "code",
   "execution_count": 304,
   "metadata": {},
   "outputs": [
    {
     "data": {
      "text/plain": [
       "Text(0.5, 1.0, 'SENSEX')"
      ]
     },
     "execution_count": 304,
     "metadata": {},
     "output_type": "execute_result"
    },
    {
     "data": {
      "image/png": "[encoded data removed]",
      "text/plain": [
       "<Figure size 720x432 with 1 Axes>"
      ]
     },
     "metadata": {
      "needs_background": "light"
     },
     "output_type": "display_data"
    }
   ],
   "source": [
    "# We'll use pct_change to find the percent change for each day\n",
    "stock_df['Daily Return'] = stock_df['Adj Close'].pct_change()\n",
    "plt.figure(figsize=(10, 6))\n",
    "stock_df['Daily Return'].plot( legend=True, linestyle='--', marker='o')\n",
    "plt.title(\"SENSEX\")"
   ]
  },
  {
   "cell_type": "code",
   "execution_count": 400,
   "metadata": {},
   "outputs": [
    {
     "data": {
      "text/plain": [
       "Text(0.5, 1.0, 'SENSEX')"
      ]
     },
     "execution_count": 400,
     "metadata": {},
     "output_type": "execute_result"
    },
    {
     "data": {
      "image/png": "[encoded data removed]",
      "text/plain": [
       "<Figure size 720x576 with 1 Axes>"
      ]
     },
     "metadata": {
      "needs_background": "light"
     },
     "output_type": "display_data"
    }
   ],
   "source": [
    "plt.figure(figsize=(10,8))\n",
    "sns.distplot(stock_df['Daily Return'].dropna(), bins=100, color='purple')\n",
    "plt.xlabel('Daily Return')\n",
    "plt.title(\"SENSEX\")"
   ]
  },
  {
   "cell_type": "code",
   "execution_count": 401,
   "metadata": {},
   "outputs": [],
   "source": [
    "# Checking the moving avergae of SENSEX stock price for 10, 20 and 50 days\n",
    "MA_day = [10, 20, 50]\n",
    "\n",
    "for ma in MA_day:\n",
    "    column_name = f\"MA for {ma} days\"\n",
    "    stock_df[column_name] = stock_df['Adj Close'].rolling(ma).mean()"
   ]
  },
  {
   "cell_type": "code",
   "execution_count": 402,
   "metadata": {},
   "outputs": [
    {
     "data": {
      "text/plain": [
       "Text(0.5, 0, 'Days')"
      ]
     },
     "execution_count": 402,
     "metadata": {},
     "output_type": "execute_result"
    },
    {
     "data": {
      "image/png": "[encoded data removed]",
      "text/plain": [
       "<Figure size 720x432 with 1 Axes>"
      ]
     },
     "metadata": {
      "needs_background": "light"
     },
     "output_type": "display_data"
    }
   ],
   "source": [
    "stock_df[['Adj Close', 'MA for 10 days', 'MA for 20 days', 'MA for 50 days']].plot(figsize=(10, 6))\n",
    "plt.title('SENSEX')\n",
    "plt.xlabel('Days')"
   ]
  },
  {
   "cell_type": "markdown",
   "metadata": {},
   "source": [
    "## Merging Stock DataFrame and News Analysis DataFrame  "
   ]
  },
  {
   "cell_type": "code",
   "execution_count": 399,
   "metadata": {
    "scrolled": false
   },
   "outputs": [
    {
     "data": {
      "text/html": [
       "<div>\n",
       "<style scoped>\n",
       "    .dataframe tbody tr th:only-of-type {\n",
       "        vertical-align: middle;\n",
       "    }\n",
       "\n",
       "    .dataframe tbody tr th {\n",
       "        vertical-align: top;\n",
       "    }\n",
       "\n",
       "    .dataframe thead th {\n",
       "        text-align: right;\n",
       "    }\n",
       "</style>\n",
       "<table border=\"1\" class=\"dataframe\">\n",
       "  <thead>\n",
       "    <tr style=\"text-align: right;\">\n",
       "      <th></th>\n",
       "      <th>Open</th>\n",
       "      <th>High</th>\n",
       "      <th>Low</th>\n",
       "      <th>Close</th>\n",
       "      <th>Adj Close</th>\n",
       "      <th>Volume</th>\n",
       "      <th>date</th>\n",
       "      <th>Label</th>\n",
       "      <th>Daily Return</th>\n",
       "      <th>MA for 10 days</th>\n",
       "      <th>MA for 20 days</th>\n",
       "      <th>MA for 50 days</th>\n",
       "      <th>headline_text</th>\n",
       "      <th>Subjectivity</th>\n",
       "      <th>Polarity</th>\n",
       "      <th>Compound</th>\n",
       "      <th>Negative</th>\n",
       "      <th>Neutral</th>\n",
       "      <th>Positive</th>\n",
       "    </tr>\n",
       "  </thead>\n",
       "  <tbody>\n",
       "    <tr>\n",
       "      <th>0</th>\n",
       "      <td>20621.609375</td>\n",
       "      <td>20664.800781</td>\n",
       "      <td>20531.000000</td>\n",
       "      <td>20561.050781</td>\n",
       "      <td>20561.050781</td>\n",
       "      <td>12000.0</td>\n",
       "      <td>2011-01-03</td>\n",
       "      <td>1</td>\n",
       "      <td>NaN</td>\n",
       "      <td>NaN</td>\n",
       "      <td>NaN</td>\n",
       "      <td>NaN</td>\n",
       "      <td>photo gallery ( ashes 2010 ) guy needs compli...</td>\n",
       "      <td>0.375598</td>\n",
       "      <td>0.061099</td>\n",
       "      <td>-0.9997</td>\n",
       "      <td>0.178</td>\n",
       "      <td>0.710</td>\n",
       "      <td>0.112</td>\n",
       "    </tr>\n",
       "    <tr>\n",
       "      <th>1</th>\n",
       "      <td>20617.380859</td>\n",
       "      <td>20651.210938</td>\n",
       "      <td>20449.009766</td>\n",
       "      <td>20498.720703</td>\n",
       "      <td>20498.720703</td>\n",
       "      <td>15200.0</td>\n",
       "      <td>2011-01-04</td>\n",
       "      <td>0</td>\n",
       "      <td>-0.003031</td>\n",
       "      <td>NaN</td>\n",
       "      <td>NaN</td>\n",
       "      <td>NaN</td>\n",
       "      <td>deepika padukone deepika padukone imran invit...</td>\n",
       "      <td>0.391273</td>\n",
       "      <td>0.019847</td>\n",
       "      <td>-0.9998</td>\n",
       "      <td>0.174</td>\n",
       "      <td>0.717</td>\n",
       "      <td>0.108</td>\n",
       "    </tr>\n",
       "    <tr>\n",
       "      <th>2</th>\n",
       "      <td>20509.949219</td>\n",
       "      <td>20509.949219</td>\n",
       "      <td>20243.949219</td>\n",
       "      <td>20301.099609</td>\n",
       "      <td>20301.099609</td>\n",
       "      <td>14400.0</td>\n",
       "      <td>2011-01-05</td>\n",
       "      <td>0</td>\n",
       "      <td>-0.009641</td>\n",
       "      <td>NaN</td>\n",
       "      <td>NaN</td>\n",
       "      <td>NaN</td>\n",
       "      <td>man dies heart attack killing lover 's hubby ...</td>\n",
       "      <td>0.420299</td>\n",
       "      <td>0.010189</td>\n",
       "      <td>-0.9999</td>\n",
       "      <td>0.189</td>\n",
       "      <td>0.701</td>\n",
       "      <td>0.109</td>\n",
       "    </tr>\n",
       "    <tr>\n",
       "      <th>3</th>\n",
       "      <td>20395.500000</td>\n",
       "      <td>20425.849609</td>\n",
       "      <td>20107.169922</td>\n",
       "      <td>20184.740234</td>\n",
       "      <td>20184.740234</td>\n",
       "      <td>16600.0</td>\n",
       "      <td>2011-01-06</td>\n",
       "      <td>0</td>\n",
       "      <td>-0.005732</td>\n",
       "      <td>NaN</td>\n",
       "      <td>NaN</td>\n",
       "      <td>NaN</td>\n",
       "      <td>photo gallery ( indian tour south africa ) ra...</td>\n",
       "      <td>0.389732</td>\n",
       "      <td>0.020557</td>\n",
       "      <td>-0.9998</td>\n",
       "      <td>0.159</td>\n",
       "      <td>0.741</td>\n",
       "      <td>0.100</td>\n",
       "    </tr>\n",
       "    <tr>\n",
       "      <th>4</th>\n",
       "      <td>20163.849609</td>\n",
       "      <td>20210.619141</td>\n",
       "      <td>19629.220703</td>\n",
       "      <td>19691.810547</td>\n",
       "      <td>19691.810547</td>\n",
       "      <td>15800.0</td>\n",
       "      <td>2011-01-07</td>\n",
       "      <td>0</td>\n",
       "      <td>-0.024421</td>\n",
       "      <td>NaN</td>\n",
       "      <td>NaN</td>\n",
       "      <td>NaN</td>\n",
       "      <td>rishi gives look test kjo tom hanks honoured ...</td>\n",
       "      <td>0.393698</td>\n",
       "      <td>0.017528</td>\n",
       "      <td>-0.9996</td>\n",
       "      <td>0.148</td>\n",
       "      <td>0.749</td>\n",
       "      <td>0.103</td>\n",
       "    </tr>\n",
       "  </tbody>\n",
       "</table>\n",
       "</div>"
      ],
      "text/plain": [
       "           Open          High           Low         Close     Adj Close  \\\n",
       "0  20621.609375  20664.800781  20531.000000  20561.050781  20561.050781   \n",
       "1  20617.380859  20651.210938  20449.009766  20498.720703  20498.720703   \n",
       "2  20509.949219  20509.949219  20243.949219  20301.099609  20301.099609   \n",
       "3  20395.500000  20425.849609  20107.169922  20184.740234  20184.740234   \n",
       "4  20163.849609  20210.619141  19629.220703  19691.810547  19691.810547   \n",
       "\n",
       "    Volume       date  Label  Daily Return  MA for 10 days  MA for 20 days  \\\n",
       "0  12000.0 2011-01-03      1           NaN             NaN             NaN   \n",
       "1  15200.0 2011-01-04      0     -0.003031             NaN             NaN   \n",
       "2  14400.0 2011-01-05      0     -0.009641             NaN             NaN   \n",
       "3  16600.0 2011-01-06      0     -0.005732             NaN             NaN   \n",
       "4  15800.0 2011-01-07      0     -0.024421             NaN             NaN   \n",
       "\n",
       "   MA for 50 days                                      headline_text  \\\n",
       "0             NaN   photo gallery ( ashes 2010 ) guy needs compli...   \n",
       "1             NaN   deepika padukone deepika padukone imran invit...   \n",
       "2             NaN   man dies heart attack killing lover 's hubby ...   \n",
       "3             NaN   photo gallery ( indian tour south africa ) ra...   \n",
       "4             NaN   rishi gives look test kjo tom hanks honoured ...   \n",
       "\n",
       "   Subjectivity  Polarity  Compound  Negative  Neutral  Positive  \n",
       "0      0.375598  0.061099   -0.9997     0.178    0.710     0.112  \n",
       "1      0.391273  0.019847   -0.9998     0.174    0.717     0.108  \n",
       "2      0.420299  0.010189   -0.9999     0.189    0.701     0.109  \n",
       "3      0.389732  0.020557   -0.9998     0.159    0.741     0.100  \n",
       "4      0.393698  0.017528   -0.9996     0.148    0.749     0.103  "
      ]
     },
     "execution_count": 399,
     "metadata": {},
     "output_type": "execute_result"
    }
   ],
   "source": [
    "df_merge = pd.merge(stock_df, df_news, how='inner', on='date')\n",
    "df_merge.head()"
   ]
  },
  {
   "cell_type": "markdown",
   "metadata": {},
   "source": [
    "### Getting the dataframe, we are going to use to predict if the stock price will increase or decrease"
   ]
  },
  {
   "cell_type": "code",
   "execution_count": 437,
   "metadata": {},
   "outputs": [
    {
     "data": {
      "text/html": [
       "<div>\n",
       "<style scoped>\n",
       "    .dataframe tbody tr th:only-of-type {\n",
       "        vertical-align: middle;\n",
       "    }\n",
       "\n",
       "    .dataframe tbody tr th {\n",
       "        vertical-align: top;\n",
       "    }\n",
       "\n",
       "    .dataframe thead th {\n",
       "        text-align: right;\n",
       "    }\n",
       "</style>\n",
       "<table border=\"1\" class=\"dataframe\">\n",
       "  <thead>\n",
       "    <tr style=\"text-align: right;\">\n",
       "      <th></th>\n",
       "      <th>Open</th>\n",
       "      <th>High</th>\n",
       "      <th>Low</th>\n",
       "      <th>Volume</th>\n",
       "      <th>Label</th>\n",
       "      <th>Subjectivity</th>\n",
       "      <th>Polarity</th>\n",
       "      <th>Compound</th>\n",
       "      <th>Negative</th>\n",
       "      <th>Neutral</th>\n",
       "      <th>Positive</th>\n",
       "    </tr>\n",
       "  </thead>\n",
       "  <tbody>\n",
       "    <tr>\n",
       "      <th>0</th>\n",
       "      <td>20621.609375</td>\n",
       "      <td>20664.800781</td>\n",
       "      <td>20531.000000</td>\n",
       "      <td>12000.0</td>\n",
       "      <td>1</td>\n",
       "      <td>0.375598</td>\n",
       "      <td>0.061099</td>\n",
       "      <td>-0.9997</td>\n",
       "      <td>0.178</td>\n",
       "      <td>0.710</td>\n",
       "      <td>0.112</td>\n",
       "    </tr>\n",
       "    <tr>\n",
       "      <th>1</th>\n",
       "      <td>20617.380859</td>\n",
       "      <td>20651.210938</td>\n",
       "      <td>20449.009766</td>\n",
       "      <td>15200.0</td>\n",
       "      <td>0</td>\n",
       "      <td>0.391273</td>\n",
       "      <td>0.019847</td>\n",
       "      <td>-0.9998</td>\n",
       "      <td>0.174</td>\n",
       "      <td>0.717</td>\n",
       "      <td>0.108</td>\n",
       "    </tr>\n",
       "    <tr>\n",
       "      <th>2</th>\n",
       "      <td>20509.949219</td>\n",
       "      <td>20509.949219</td>\n",
       "      <td>20243.949219</td>\n",
       "      <td>14400.0</td>\n",
       "      <td>0</td>\n",
       "      <td>0.420299</td>\n",
       "      <td>0.010189</td>\n",
       "      <td>-0.9999</td>\n",
       "      <td>0.189</td>\n",
       "      <td>0.701</td>\n",
       "      <td>0.109</td>\n",
       "    </tr>\n",
       "    <tr>\n",
       "      <th>3</th>\n",
       "      <td>20395.500000</td>\n",
       "      <td>20425.849609</td>\n",
       "      <td>20107.169922</td>\n",
       "      <td>16600.0</td>\n",
       "      <td>0</td>\n",
       "      <td>0.389732</td>\n",
       "      <td>0.020557</td>\n",
       "      <td>-0.9998</td>\n",
       "      <td>0.159</td>\n",
       "      <td>0.741</td>\n",
       "      <td>0.100</td>\n",
       "    </tr>\n",
       "    <tr>\n",
       "      <th>4</th>\n",
       "      <td>20163.849609</td>\n",
       "      <td>20210.619141</td>\n",
       "      <td>19629.220703</td>\n",
       "      <td>15800.0</td>\n",
       "      <td>0</td>\n",
       "      <td>0.393698</td>\n",
       "      <td>0.017528</td>\n",
       "      <td>-0.9996</td>\n",
       "      <td>0.148</td>\n",
       "      <td>0.749</td>\n",
       "      <td>0.103</td>\n",
       "    </tr>\n",
       "  </tbody>\n",
       "</table>\n",
       "</div>"
      ],
      "text/plain": [
       "           Open          High           Low   Volume  Label  Subjectivity  \\\n",
       "0  20621.609375  20664.800781  20531.000000  12000.0      1      0.375598   \n",
       "1  20617.380859  20651.210938  20449.009766  15200.0      0      0.391273   \n",
       "2  20509.949219  20509.949219  20243.949219  14400.0      0      0.420299   \n",
       "3  20395.500000  20425.849609  20107.169922  16600.0      0      0.389732   \n",
       "4  20163.849609  20210.619141  19629.220703  15800.0      0      0.393698   \n",
       "\n",
       "   Polarity  Compound  Negative  Neutral  Positive  \n",
       "0  0.061099   -0.9997     0.178    0.710     0.112  \n",
       "1  0.019847   -0.9998     0.174    0.717     0.108  \n",
       "2  0.010189   -0.9999     0.189    0.701     0.109  \n",
       "3  0.020557   -0.9998     0.159    0.741     0.100  \n",
       "4  0.017528   -0.9996     0.148    0.749     0.103  "
      ]
     },
     "execution_count": 437,
     "metadata": {},
     "output_type": "execute_result"
    }
   ],
   "source": [
    "dataframe = df_merge.drop([\"MA for 10 days\", \"MA for 20 days\", \"MA for 50 days\", \"Daily Return\",\"date\", \"headline_text\", \"Close\", \"Adj Close\"], axis=1)\n",
    "dataframe.head()\n"
   ]
  },
  {
   "cell_type": "code",
   "execution_count": 440,
   "metadata": {},
   "outputs": [
    {
     "data": {
      "text/plain": [
       "Open            0.006184\n",
       "High            0.015110\n",
       "Low             0.018737\n",
       "Volume          0.020373\n",
       "Label           1.000000\n",
       "Subjectivity   -0.031200\n",
       "Polarity       -0.007197\n",
       "Compound        0.042789\n",
       "Negative       -0.014440\n",
       "Neutral         0.015552\n",
       "Positive       -0.000658\n",
       "Name: Label, dtype: float64"
      ]
     },
     "execution_count": 440,
     "metadata": {},
     "output_type": "execute_result"
    }
   ],
   "source": [
    "## Checking the co-relationship between features and the target variable Label in the dataframe\n",
    "dataframe.corr()[\"Label\"]"
   ]
  },
  {
   "cell_type": "markdown",
   "metadata": {},
   "source": [
    "### Data Preprocessing"
   ]
  },
  {
   "cell_type": "code",
   "execution_count": 441,
   "metadata": {},
   "outputs": [],
   "source": [
    "def preprocess_data(dataframe):\n",
    "    sc = MinMaxScaler()\n",
    "    new_df = pd.DataFrame(sc.fit_transform(dataframe))\n",
    "    new_df.columns = dataframe.columns\n",
    "    new_df.index = dataframe.index\n",
    "    return new_df"
   ]
  },
  {
   "cell_type": "code",
   "execution_count": 442,
   "metadata": {},
   "outputs": [
    {
     "data": {
      "text/html": [
       "<div>\n",
       "<style scoped>\n",
       "    .dataframe tbody tr th:only-of-type {\n",
       "        vertical-align: middle;\n",
       "    }\n",
       "\n",
       "    .dataframe tbody tr th {\n",
       "        vertical-align: top;\n",
       "    }\n",
       "\n",
       "    .dataframe thead th {\n",
       "        text-align: right;\n",
       "    }\n",
       "</style>\n",
       "<table border=\"1\" class=\"dataframe\">\n",
       "  <thead>\n",
       "    <tr style=\"text-align: right;\">\n",
       "      <th></th>\n",
       "      <th>Open</th>\n",
       "      <th>High</th>\n",
       "      <th>Low</th>\n",
       "      <th>Volume</th>\n",
       "      <th>Label</th>\n",
       "      <th>Subjectivity</th>\n",
       "      <th>Polarity</th>\n",
       "      <th>Compound</th>\n",
       "      <th>Negative</th>\n",
       "      <th>Neutral</th>\n",
       "      <th>Positive</th>\n",
       "    </tr>\n",
       "  </thead>\n",
       "  <tbody>\n",
       "    <tr>\n",
       "      <th>0</th>\n",
       "      <td>0.193295</td>\n",
       "      <td>0.194706</td>\n",
       "      <td>0.201956</td>\n",
       "      <td>0.000299</td>\n",
       "      <td>1.0</td>\n",
       "      <td>0.351032</td>\n",
       "      <td>0.473787</td>\n",
       "      <td>0.00015</td>\n",
       "      <td>0.685484</td>\n",
       "      <td>0.335938</td>\n",
       "      <td>0.445455</td>\n",
       "    </tr>\n",
       "    <tr>\n",
       "      <th>1</th>\n",
       "      <td>0.193137</td>\n",
       "      <td>0.194200</td>\n",
       "      <td>0.198887</td>\n",
       "      <td>0.000399</td>\n",
       "      <td>0.0</td>\n",
       "      <td>0.455337</td>\n",
       "      <td>0.241656</td>\n",
       "      <td>0.00010</td>\n",
       "      <td>0.653226</td>\n",
       "      <td>0.390625</td>\n",
       "      <td>0.409091</td>\n",
       "    </tr>\n",
       "    <tr>\n",
       "      <th>2</th>\n",
       "      <td>0.189132</td>\n",
       "      <td>0.188935</td>\n",
       "      <td>0.191211</td>\n",
       "      <td>0.000374</td>\n",
       "      <td>0.0</td>\n",
       "      <td>0.648488</td>\n",
       "      <td>0.187307</td>\n",
       "      <td>0.00005</td>\n",
       "      <td>0.774194</td>\n",
       "      <td>0.265625</td>\n",
       "      <td>0.418182</td>\n",
       "    </tr>\n",
       "    <tr>\n",
       "      <th>3</th>\n",
       "      <td>0.184866</td>\n",
       "      <td>0.185801</td>\n",
       "      <td>0.186091</td>\n",
       "      <td>0.000443</td>\n",
       "      <td>0.0</td>\n",
       "      <td>0.445083</td>\n",
       "      <td>0.245647</td>\n",
       "      <td>0.00010</td>\n",
       "      <td>0.532258</td>\n",
       "      <td>0.578125</td>\n",
       "      <td>0.336364</td>\n",
       "    </tr>\n",
       "    <tr>\n",
       "      <th>4</th>\n",
       "      <td>0.176231</td>\n",
       "      <td>0.177780</td>\n",
       "      <td>0.168200</td>\n",
       "      <td>0.000418</td>\n",
       "      <td>0.0</td>\n",
       "      <td>0.471476</td>\n",
       "      <td>0.228603</td>\n",
       "      <td>0.00020</td>\n",
       "      <td>0.443548</td>\n",
       "      <td>0.640625</td>\n",
       "      <td>0.363636</td>\n",
       "    </tr>\n",
       "    <tr>\n",
       "      <th>...</th>\n",
       "      <td>...</td>\n",
       "      <td>...</td>\n",
       "      <td>...</td>\n",
       "      <td>...</td>\n",
       "      <td>...</td>\n",
       "      <td>...</td>\n",
       "      <td>...</td>\n",
       "      <td>...</td>\n",
       "      <td>...</td>\n",
       "      <td>...</td>\n",
       "      <td>...</td>\n",
       "    </tr>\n",
       "    <tr>\n",
       "      <th>2319</th>\n",
       "      <td>0.754602</td>\n",
       "      <td>0.755259</td>\n",
       "      <td>0.735897</td>\n",
       "      <td>0.000758</td>\n",
       "      <td>0.0</td>\n",
       "      <td>0.385502</td>\n",
       "      <td>0.521934</td>\n",
       "      <td>0.00015</td>\n",
       "      <td>0.354839</td>\n",
       "      <td>0.867188</td>\n",
       "      <td>0.200000</td>\n",
       "    </tr>\n",
       "    <tr>\n",
       "      <th>2320</th>\n",
       "      <td>0.711573</td>\n",
       "      <td>0.731970</td>\n",
       "      <td>0.724849</td>\n",
       "      <td>0.000695</td>\n",
       "      <td>0.0</td>\n",
       "      <td>0.434672</td>\n",
       "      <td>0.148660</td>\n",
       "      <td>0.00005</td>\n",
       "      <td>0.572581</td>\n",
       "      <td>0.750000</td>\n",
       "      <td>0.090909</td>\n",
       "    </tr>\n",
       "    <tr>\n",
       "      <th>2321</th>\n",
       "      <td>0.734661</td>\n",
       "      <td>0.738427</td>\n",
       "      <td>0.740217</td>\n",
       "      <td>0.000701</td>\n",
       "      <td>1.0</td>\n",
       "      <td>0.274011</td>\n",
       "      <td>0.376284</td>\n",
       "      <td>0.00010</td>\n",
       "      <td>0.500000</td>\n",
       "      <td>0.671875</td>\n",
       "      <td>0.263636</td>\n",
       "    </tr>\n",
       "    <tr>\n",
       "      <th>2322</th>\n",
       "      <td>0.726541</td>\n",
       "      <td>0.730134</td>\n",
       "      <td>0.730923</td>\n",
       "      <td>0.000497</td>\n",
       "      <td>0.0</td>\n",
       "      <td>0.372124</td>\n",
       "      <td>0.363443</td>\n",
       "      <td>0.00010</td>\n",
       "      <td>0.475806</td>\n",
       "      <td>0.726562</td>\n",
       "      <td>0.227273</td>\n",
       "    </tr>\n",
       "    <tr>\n",
       "      <th>2323</th>\n",
       "      <td>0.735538</td>\n",
       "      <td>0.737645</td>\n",
       "      <td>0.736566</td>\n",
       "      <td>0.000503</td>\n",
       "      <td>0.0</td>\n",
       "      <td>0.322105</td>\n",
       "      <td>0.449290</td>\n",
       "      <td>0.00010</td>\n",
       "      <td>0.346774</td>\n",
       "      <td>0.976562</td>\n",
       "      <td>0.090909</td>\n",
       "    </tr>\n",
       "  </tbody>\n",
       "</table>\n",
       "<p>2324 rows × 11 columns</p>\n",
       "</div>"
      ],
      "text/plain": [
       "          Open      High       Low    Volume  Label  Subjectivity  Polarity  \\\n",
       "0     0.193295  0.194706  0.201956  0.000299    1.0      0.351032  0.473787   \n",
       "1     0.193137  0.194200  0.198887  0.000399    0.0      0.455337  0.241656   \n",
       "2     0.189132  0.188935  0.191211  0.000374    0.0      0.648488  0.187307   \n",
       "3     0.184866  0.185801  0.186091  0.000443    0.0      0.445083  0.245647   \n",
       "4     0.176231  0.177780  0.168200  0.000418    0.0      0.471476  0.228603   \n",
       "...        ...       ...       ...       ...    ...           ...       ...   \n",
       "2319  0.754602  0.755259  0.735897  0.000758    0.0      0.385502  0.521934   \n",
       "2320  0.711573  0.731970  0.724849  0.000695    0.0      0.434672  0.148660   \n",
       "2321  0.734661  0.738427  0.740217  0.000701    1.0      0.274011  0.376284   \n",
       "2322  0.726541  0.730134  0.730923  0.000497    0.0      0.372124  0.363443   \n",
       "2323  0.735538  0.737645  0.736566  0.000503    0.0      0.322105  0.449290   \n",
       "\n",
       "      Compound  Negative   Neutral  Positive  \n",
       "0      0.00015  0.685484  0.335938  0.445455  \n",
       "1      0.00010  0.653226  0.390625  0.409091  \n",
       "2      0.00005  0.774194  0.265625  0.418182  \n",
       "3      0.00010  0.532258  0.578125  0.336364  \n",
       "4      0.00020  0.443548  0.640625  0.363636  \n",
       "...        ...       ...       ...       ...  \n",
       "2319   0.00015  0.354839  0.867188  0.200000  \n",
       "2320   0.00005  0.572581  0.750000  0.090909  \n",
       "2321   0.00010  0.500000  0.671875  0.263636  \n",
       "2322   0.00010  0.475806  0.726562  0.227273  \n",
       "2323   0.00010  0.346774  0.976562  0.090909  \n",
       "\n",
       "[2324 rows x 11 columns]"
      ]
     },
     "execution_count": 442,
     "metadata": {},
     "output_type": "execute_result"
    }
   ],
   "source": [
    "new_df = preprocess_data(dataframe)\n",
    "new_df"
   ]
  },
  {
   "cell_type": "markdown",
   "metadata": {},
   "source": [
    "### Splitting our dataframe into train and test for predictions"
   ]
  },
  {
   "cell_type": "code",
   "execution_count": 443,
   "metadata": {},
   "outputs": [],
   "source": [
    "X_train, X_test, y_train, y_test = train_test_split(new_df.drop(\"Label\", axis=1), new_df[\"Label\"], test_size=0.2, random_state=0)"
   ]
  },
  {
   "cell_type": "code",
   "execution_count": 444,
   "metadata": {},
   "outputs": [
    {
     "data": {
      "text/plain": [
       "((1859, 10), (1859,))"
      ]
     },
     "execution_count": 444,
     "metadata": {},
     "output_type": "execute_result"
    }
   ],
   "source": [
    "X_train.shape, y_train.shape"
   ]
  },
  {
   "cell_type": "markdown",
   "metadata": {},
   "source": [
    "## Training and Predicing using Different Classification algortihms"
   ]
  },
  {
   "cell_type": "code",
   "execution_count": 445,
   "metadata": {},
   "outputs": [],
   "source": [
    "def train_and_evaluate(model):\n",
    "    model.fit(X_train, y_train)\n",
    "    pred = model.predict(X_test)\n",
    "    score = accuracy_score(y_test, pred)\n",
    "    report = classification_report(y_test, pred)\n",
    "    print(\"Accuracy Score of\", model, \"is\", score)\n",
    "    print(\"Classification Report of\", model, \"is\\n\", report)"
   ]
  },
  {
   "cell_type": "code",
   "execution_count": 446,
   "metadata": {},
   "outputs": [
    {
     "name": "stdout",
     "output_type": "stream",
     "text": [
      "Accuracy Score of LinearDiscriminantAnalysis() is 0.8064516129032258\n",
      "Classification Report of LinearDiscriminantAnalysis() is\n",
      "               precision    recall  f1-score   support\n",
      "\n",
      "         0.0       0.82      0.76      0.79       224\n",
      "         1.0       0.79      0.85      0.82       241\n",
      "\n",
      "    accuracy                           0.81       465\n",
      "   macro avg       0.81      0.80      0.81       465\n",
      "weighted avg       0.81      0.81      0.81       465\n",
      "\n",
      "Accuracy Score of QuadraticDiscriminantAnalysis() is 0.7462365591397849\n",
      "Classification Report of QuadraticDiscriminantAnalysis() is\n",
      "               precision    recall  f1-score   support\n",
      "\n",
      "         0.0       0.68      0.90      0.77       224\n",
      "         1.0       0.86      0.61      0.71       241\n",
      "\n",
      "    accuracy                           0.75       465\n",
      "   macro avg       0.77      0.75      0.74       465\n",
      "weighted avg       0.77      0.75      0.74       465\n",
      "\n",
      "Accuracy Score of GradientBoostingClassifier() is 0.5182795698924731\n",
      "Classification Report of GradientBoostingClassifier() is\n",
      "               precision    recall  f1-score   support\n",
      "\n",
      "         0.0       0.50      0.43      0.46       224\n",
      "         1.0       0.53      0.60      0.56       241\n",
      "\n",
      "    accuracy                           0.52       465\n",
      "   macro avg       0.52      0.52      0.51       465\n",
      "weighted avg       0.52      0.52      0.51       465\n",
      "\n",
      "Accuracy Score of AdaBoostClassifier() is 0.4881720430107527\n",
      "Classification Report of AdaBoostClassifier() is\n",
      "               precision    recall  f1-score   support\n",
      "\n",
      "         0.0       0.47      0.42      0.44       224\n",
      "         1.0       0.51      0.56      0.53       241\n",
      "\n",
      "    accuracy                           0.49       465\n",
      "   macro avg       0.49      0.49      0.48       465\n",
      "weighted avg       0.49      0.49      0.49       465\n",
      "\n",
      "Accuracy Score of SVC() is 0.5118279569892473\n",
      "Classification Report of SVC() is\n",
      "               precision    recall  f1-score   support\n",
      "\n",
      "         0.0       0.45      0.06      0.10       224\n",
      "         1.0       0.52      0.93      0.66       241\n",
      "\n",
      "    accuracy                           0.51       465\n",
      "   macro avg       0.48      0.50      0.38       465\n",
      "weighted avg       0.48      0.51      0.39       465\n",
      "\n",
      "Accuracy Score of DecisionTreeClassifier() is 0.4924731182795699\n",
      "Classification Report of DecisionTreeClassifier() is\n",
      "               precision    recall  f1-score   support\n",
      "\n",
      "         0.0       0.47      0.42      0.44       224\n",
      "         1.0       0.51      0.56      0.53       241\n",
      "\n",
      "    accuracy                           0.49       465\n",
      "   macro avg       0.49      0.49      0.49       465\n",
      "weighted avg       0.49      0.49      0.49       465\n",
      "\n",
      "Accuracy Score of KNeighborsClassifier() is 0.4946236559139785\n",
      "Classification Report of KNeighborsClassifier() is\n",
      "               precision    recall  f1-score   support\n",
      "\n",
      "         0.0       0.48      0.48      0.48       224\n",
      "         1.0       0.51      0.51      0.51       241\n",
      "\n",
      "    accuracy                           0.49       465\n",
      "   macro avg       0.49      0.49      0.49       465\n",
      "weighted avg       0.49      0.49      0.49       465\n",
      "\n",
      "Accuracy Score of LogisticRegression() is 0.5311827956989247\n",
      "Classification Report of LogisticRegression() is\n",
      "               precision    recall  f1-score   support\n",
      "\n",
      "         0.0       0.55      0.15      0.24       224\n",
      "         1.0       0.53      0.88      0.66       241\n",
      "\n",
      "    accuracy                           0.53       465\n",
      "   macro avg       0.54      0.52      0.45       465\n",
      "weighted avg       0.54      0.53      0.46       465\n",
      "\n"
     ]
    }
   ],
   "source": [
    "ALG = [\n",
    "    LinearDiscriminantAnalysis(),\n",
    "    QuadraticDiscriminantAnalysis(),\n",
    "    GradientBoostingClassifier(),\n",
    "    RandomForestClassifier(),\n",
    "    AdaBoostClassifier(),\n",
    "    DecisionTreeClassifier(),\n",
    "    sklearn.neighbors.KNeighborsClassifier(),\n",
    "    sklearn.linear_model.LogisticRegression()\n",
    "]\n",
    "for i in ALG:\n",
    "    train_and_evaluate(i)\n"
   ]
  },
  {
   "cell_type": "code",
   "execution_count": 447,
   "metadata": {},
   "outputs": [
    {
     "data": {
      "text/plain": [
       "0.8064516129032258"
      ]
     },
     "execution_count": 447,
     "metadata": {},
     "output_type": "execute_result"
    }
   ],
   "source": [
    "model = LinearDiscriminantAnalysis()\n",
    "model.fit(X_train, y_train)\n",
    "model.score(X_test,y_test)"
   ]
  },
  {
   "cell_type": "markdown",
   "metadata": {},
   "source": [
    "#### From the above predictions and evaluations, we can check that Linear Discriminant Analysis has the most accuracy in predicting wheather the market price will go up or down."
   ]
  },
  {
   "cell_type": "markdown",
   "metadata": {},
   "source": [
    "#### We can further improve the model by Hypertunning the model using RandomizedSearchCV or GridSearchCV"
   ]
  }
 ],
 "metadata": {
  "kernelspec": {
   "display_name": "Python 3",
   "language": "python",
   "name": "python3"
  },
  "language_info": {
   "codemirror_mode": {
    "name": "ipython",
    "version": 3
   },
   "file_extension": ".py",
   "mimetype": "text/x-python",
   "name": "python",
   "nbconvert_exporter": "python",
   "pygments_lexer": "ipython3",
   "version": "3.8.3"
  }
 },
 "nbformat": 4,
 "nbformat_minor": 4
}
