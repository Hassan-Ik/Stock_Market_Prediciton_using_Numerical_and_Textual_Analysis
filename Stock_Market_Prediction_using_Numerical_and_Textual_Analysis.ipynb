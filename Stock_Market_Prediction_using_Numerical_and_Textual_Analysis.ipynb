{
 "cells": [
  {
   "cell_type": "markdown",
   "metadata": {},
   "source": [
    "### Data Science and Business Analytics Internship\n",
    "\n",
    "# Stock Market Prediction using Numerical and Textual Analysis\n",
    "\n",
    "### Author: Hassan Ikram"
   ]
  },
  {
   "cell_type": "markdown",
   "metadata": {},
   "source": [
    "### Objective: Create a hybrid model for stock price/performance prediction using numerical analysis of historical stock prices, and sentimental analysis of news headlines \n",
    "\n",
    "In this task, we are going to analyze and predict the stock price of BSE SENSEX, which  is a free-float market-weighted stock market index of 30 well-established and financially sound companies listed on Bombay Stock Exchange."
   ]
  },
  {
   "cell_type": "markdown",
   "metadata": {},
   "source": [
    "## Importing Libraries"
   ]
  },
  {
   "cell_type": "code",
   "execution_count": 107,
   "metadata": {},
   "outputs": [
    {
     "name": "stderr",
     "output_type": "stream",
     "text": [
      "[nltk_data] Downloading package stopwords to\n",
      "[nltk_data]     C:\\Users\\hassa\\AppData\\Roaming\\nltk_data...\n",
      "[nltk_data]   Package stopwords is already up-to-date!\n",
      "[nltk_data] Downloading package vader_lexicon to\n",
      "[nltk_data]     C:\\Users\\hassa\\AppData\\Roaming\\nltk_data...\n",
      "[nltk_data]   Package vader_lexicon is already up-to-date!\n",
      "[nltk_data] Downloading package punkt to\n",
      "[nltk_data]     C:\\Users\\hassa\\AppData\\Roaming\\nltk_data...\n",
      "[nltk_data]   Package punkt is already up-to-date!\n"
     ]
    },
    {
     "data": {
      "text/plain": [
       "True"
      ]
     },
     "execution_count": 107,
     "metadata": {},
     "output_type": "execute_result"
    }
   ],
   "source": [
    "import numpy as np\n",
    "import pandas as pd\n",
    "import matplotlib.pyplot as plt\n",
    "import seaborn as sns\n",
    "import sklearn\n",
    "\n",
    "from sklearn.metrics import mean_squared_error\n",
    "from sklearn.preprocessing import MinMaxScaler\n",
    "\n",
    "from keras.models import Sequential\n",
    "from keras.layers import Dense, LSTM, Dropout, Dense, Activation\n",
    "\n",
    "# For Sentiment Analysis\n",
    "import nltk\n",
    "from nltk.corpus import stopwords\n",
    "from nltk.tokenize import word_tokenize\n",
    "from nltk.sentiment.vader import SentimentIntensityAnalyzer\n",
    "from textblob import TextBlob\n",
    "nltk.download('stopwords')\n",
    "nltk.download('vader_lexicon')\n",
    "nltk.download('punkt')"
   ]
  },
  {
   "cell_type": "markdown",
   "metadata": {},
   "source": [
    "### Project is divided into three parts\n",
    "1. **Textual Analysis / Sentiment Analysis:**\n",
    " We are going to use data from  https://bit.ly/36fFPI6, which a Times of India News dataset for sentiment analysis.\n",
    "\n",
    "2. **Numerical Analysis:** \n",
    "  For Numerical Analysis, we are going to get data from https://finance.yahoo.com/, In numerical analysis we are going to analyze BSE SENSEX stock.\n",
    "3. **Stock Market Price Prediction:**\n",
    "    We are going to merge numerical dataset and the sentiment analysis scores and create a hybrid model to pedict the stock market price."
   ]
  },
  {
   "cell_type": "markdown",
   "metadata": {},
   "source": [
    "# 1. Textual / Sentiment Analysis"
   ]
  },
  {
   "cell_type": "code",
   "execution_count": 2,
   "metadata": {},
   "outputs": [
    {
     "data": {
      "text/html": [
       "<div>\n",
       "<style scoped>\n",
       "    .dataframe tbody tr th:only-of-type {\n",
       "        vertical-align: middle;\n",
       "    }\n",
       "\n",
       "    .dataframe tbody tr th {\n",
       "        vertical-align: top;\n",
       "    }\n",
       "\n",
       "    .dataframe thead th {\n",
       "        text-align: right;\n",
       "    }\n",
       "</style>\n",
       "<table border=\"1\" class=\"dataframe\">\n",
       "  <thead>\n",
       "    <tr style=\"text-align: right;\">\n",
       "      <th></th>\n",
       "      <th>publish_date</th>\n",
       "      <th>headline_category</th>\n",
       "      <th>headline_text</th>\n",
       "    </tr>\n",
       "  </thead>\n",
       "  <tbody>\n",
       "    <tr>\n",
       "      <th>0</th>\n",
       "      <td>20010101</td>\n",
       "      <td>sports.wwe</td>\n",
       "      <td>win over cena satisfying but defeating underta...</td>\n",
       "    </tr>\n",
       "    <tr>\n",
       "      <th>1</th>\n",
       "      <td>20010102</td>\n",
       "      <td>unknown</td>\n",
       "      <td>Status quo will not be disturbed at Ayodhya; s...</td>\n",
       "    </tr>\n",
       "    <tr>\n",
       "      <th>2</th>\n",
       "      <td>20010102</td>\n",
       "      <td>unknown</td>\n",
       "      <td>Fissures in Hurriyat over Pak visit</td>\n",
       "    </tr>\n",
       "    <tr>\n",
       "      <th>3</th>\n",
       "      <td>20010102</td>\n",
       "      <td>unknown</td>\n",
       "      <td>America's unwanted heading for India?</td>\n",
       "    </tr>\n",
       "    <tr>\n",
       "      <th>4</th>\n",
       "      <td>20010102</td>\n",
       "      <td>unknown</td>\n",
       "      <td>For bigwigs; it is destination Goa</td>\n",
       "    </tr>\n",
       "  </tbody>\n",
       "</table>\n",
       "</div>"
      ],
      "text/plain": [
       "   publish_date headline_category  \\\n",
       "0      20010101        sports.wwe   \n",
       "1      20010102           unknown   \n",
       "2      20010102           unknown   \n",
       "3      20010102           unknown   \n",
       "4      20010102           unknown   \n",
       "\n",
       "                                       headline_text  \n",
       "0  win over cena satisfying but defeating underta...  \n",
       "1  Status quo will not be disturbed at Ayodhya; s...  \n",
       "2                Fissures in Hurriyat over Pak visit  \n",
       "3              America's unwanted heading for India?  \n",
       "4                 For bigwigs; it is destination Goa  "
      ]
     },
     "execution_count": 2,
     "metadata": {},
     "output_type": "execute_result"
    }
   ],
   "source": [
    "df = pd.read_csv('../india-news-headlines.csv')\n",
    "df.head()\n"
   ]
  },
  {
   "cell_type": "code",
   "execution_count": 3,
   "metadata": {},
   "outputs": [
    {
     "name": "stdout",
     "output_type": "stream",
     "text": [
      "<class 'pandas.core.frame.DataFrame'>\n",
      "RangeIndex: 3297172 entries, 0 to 3297171\n",
      "Data columns (total 3 columns):\n",
      " #   Column             Dtype \n",
      "---  ------             ----- \n",
      " 0   publish_date       int64 \n",
      " 1   headline_category  object\n",
      " 2   headline_text      object\n",
      "dtypes: int64(1), object(2)\n",
      "memory usage: 75.5+ MB\n"
     ]
    }
   ],
   "source": [
    "## Checking the datatype and length of the dataset\n",
    "df.info()"
   ]
  },
  {
   "cell_type": "code",
   "execution_count": 4,
   "metadata": {},
   "outputs": [],
   "source": [
    "## Changing the publish_date into standard data and time format\n",
    "df['date'] = pd.to_datetime(df['publish_date'],format= '%Y%m%d')"
   ]
  },
  {
   "cell_type": "code",
   "execution_count": 5,
   "metadata": {},
   "outputs": [],
   "source": [
    "## Using the data on from 2011 and onward\n",
    "df = df[(df['date'] > \"2011-01-01\")]"
   ]
  },
  {
   "cell_type": "code",
   "execution_count": 6,
   "metadata": {},
   "outputs": [
    {
     "data": {
      "text/html": [
       "<div>\n",
       "<style scoped>\n",
       "    .dataframe tbody tr th:only-of-type {\n",
       "        vertical-align: middle;\n",
       "    }\n",
       "\n",
       "    .dataframe tbody tr th {\n",
       "        vertical-align: top;\n",
       "    }\n",
       "\n",
       "    .dataframe thead th {\n",
       "        text-align: right;\n",
       "    }\n",
       "</style>\n",
       "<table border=\"1\" class=\"dataframe\">\n",
       "  <thead>\n",
       "    <tr style=\"text-align: right;\">\n",
       "      <th></th>\n",
       "      <th>publish_date</th>\n",
       "      <th>headline_category</th>\n",
       "      <th>headline_text</th>\n",
       "      <th>date</th>\n",
       "    </tr>\n",
       "  </thead>\n",
       "  <tbody>\n",
       "    <tr>\n",
       "      <th>1024407</th>\n",
       "      <td>20110102</td>\n",
       "      <td>tech.computing</td>\n",
       "      <td>Technology wishlist for 2011</td>\n",
       "      <td>2011-01-02</td>\n",
       "    </tr>\n",
       "    <tr>\n",
       "      <th>1024408</th>\n",
       "      <td>20110102</td>\n",
       "      <td>city.patna</td>\n",
       "      <td>Air passengers a harassed lot</td>\n",
       "      <td>2011-01-02</td>\n",
       "    </tr>\n",
       "    <tr>\n",
       "      <th>1024409</th>\n",
       "      <td>20110102</td>\n",
       "      <td>entertainment.events.bangalore</td>\n",
       "      <td>Bangalore's chilled out New Year bash!</td>\n",
       "      <td>2011-01-02</td>\n",
       "    </tr>\n",
       "    <tr>\n",
       "      <th>1024410</th>\n",
       "      <td>20110102</td>\n",
       "      <td>entertainment.events.mumbai</td>\n",
       "      <td>Kapoor duo in celebration mode</td>\n",
       "      <td>2011-01-02</td>\n",
       "    </tr>\n",
       "    <tr>\n",
       "      <th>1024411</th>\n",
       "      <td>20110102</td>\n",
       "      <td>entertainment.hindi.bollywood</td>\n",
       "      <td>Salman's ready to help!</td>\n",
       "      <td>2011-01-02</td>\n",
       "    </tr>\n",
       "    <tr>\n",
       "      <th>...</th>\n",
       "      <td>...</td>\n",
       "      <td>...</td>\n",
       "      <td>...</td>\n",
       "      <td>...</td>\n",
       "    </tr>\n",
       "    <tr>\n",
       "      <th>3297167</th>\n",
       "      <td>20200630</td>\n",
       "      <td>gadgets-news</td>\n",
       "      <td>why tiktok removed 1 65 crore videos in india</td>\n",
       "      <td>2020-06-30</td>\n",
       "    </tr>\n",
       "    <tr>\n",
       "      <th>3297168</th>\n",
       "      <td>20200630</td>\n",
       "      <td>entertainment.hindi.bollywood</td>\n",
       "      <td>apurva asrani calls alia bhatts mother soni ra...</td>\n",
       "      <td>2020-06-30</td>\n",
       "    </tr>\n",
       "    <tr>\n",
       "      <th>3297169</th>\n",
       "      <td>20200630</td>\n",
       "      <td>entertainment.hindi.bollywood</td>\n",
       "      <td>kangana ranaut gets a doll version of herself ...</td>\n",
       "      <td>2020-06-30</td>\n",
       "    </tr>\n",
       "    <tr>\n",
       "      <th>3297170</th>\n",
       "      <td>20200630</td>\n",
       "      <td>entertainment.hindi.bollywood</td>\n",
       "      <td>meezaan jaffrey reminisces his childhood days ...</td>\n",
       "      <td>2020-06-30</td>\n",
       "    </tr>\n",
       "    <tr>\n",
       "      <th>3297171</th>\n",
       "      <td>20200630</td>\n",
       "      <td>entertainment.telugu.movies.news</td>\n",
       "      <td>prabhas20 titled as radhe shyam prabhas and po...</td>\n",
       "      <td>2020-06-30</td>\n",
       "    </tr>\n",
       "  </tbody>\n",
       "</table>\n",
       "<p>2272765 rows × 4 columns</p>\n",
       "</div>"
      ],
      "text/plain": [
       "         publish_date                 headline_category  \\\n",
       "1024407      20110102                    tech.computing   \n",
       "1024408      20110102                        city.patna   \n",
       "1024409      20110102    entertainment.events.bangalore   \n",
       "1024410      20110102       entertainment.events.mumbai   \n",
       "1024411      20110102     entertainment.hindi.bollywood   \n",
       "...               ...                               ...   \n",
       "3297167      20200630                      gadgets-news   \n",
       "3297168      20200630     entertainment.hindi.bollywood   \n",
       "3297169      20200630     entertainment.hindi.bollywood   \n",
       "3297170      20200630     entertainment.hindi.bollywood   \n",
       "3297171      20200630  entertainment.telugu.movies.news   \n",
       "\n",
       "                                             headline_text       date  \n",
       "1024407                       Technology wishlist for 2011 2011-01-02  \n",
       "1024408                      Air passengers a harassed lot 2011-01-02  \n",
       "1024409             Bangalore's chilled out New Year bash! 2011-01-02  \n",
       "1024410                     Kapoor duo in celebration mode 2011-01-02  \n",
       "1024411                            Salman's ready to help! 2011-01-02  \n",
       "...                                                    ...        ...  \n",
       "3297167      why tiktok removed 1 65 crore videos in india 2020-06-30  \n",
       "3297168  apurva asrani calls alia bhatts mother soni ra... 2020-06-30  \n",
       "3297169  kangana ranaut gets a doll version of herself ... 2020-06-30  \n",
       "3297170  meezaan jaffrey reminisces his childhood days ... 2020-06-30  \n",
       "3297171  prabhas20 titled as radhe shyam prabhas and po... 2020-06-30  \n",
       "\n",
       "[2272765 rows x 4 columns]"
      ]
     },
     "execution_count": 6,
     "metadata": {},
     "output_type": "execute_result"
    }
   ],
   "source": [
    "# Making a copy of the dataframe to make changes into it.\n",
    "df_news = df.copy()\n",
    "df_news"
   ]
  },
  {
   "cell_type": "code",
   "execution_count": 7,
   "metadata": {},
   "outputs": [
    {
     "data": {
      "text/html": [
       "<div>\n",
       "<style scoped>\n",
       "    .dataframe tbody tr th:only-of-type {\n",
       "        vertical-align: middle;\n",
       "    }\n",
       "\n",
       "    .dataframe tbody tr th {\n",
       "        vertical-align: top;\n",
       "    }\n",
       "\n",
       "    .dataframe thead th {\n",
       "        text-align: right;\n",
       "    }\n",
       "</style>\n",
       "<table border=\"1\" class=\"dataframe\">\n",
       "  <thead>\n",
       "    <tr style=\"text-align: right;\">\n",
       "      <th></th>\n",
       "      <th>publish_date</th>\n",
       "      <th>headline_category</th>\n",
       "      <th>headline_text</th>\n",
       "      <th>date</th>\n",
       "    </tr>\n",
       "  </thead>\n",
       "  <tbody>\n",
       "    <tr>\n",
       "      <th>1024407</th>\n",
       "      <td>20110102</td>\n",
       "      <td>tech.computing</td>\n",
       "      <td>Technology wishlist for 2011</td>\n",
       "      <td>2011-01-02</td>\n",
       "    </tr>\n",
       "    <tr>\n",
       "      <th>1024408</th>\n",
       "      <td>20110102</td>\n",
       "      <td>city.patna</td>\n",
       "      <td>Air passengers a harassed lot</td>\n",
       "      <td>2011-01-02</td>\n",
       "    </tr>\n",
       "    <tr>\n",
       "      <th>1024409</th>\n",
       "      <td>20110102</td>\n",
       "      <td>entertainment.events.bangalore</td>\n",
       "      <td>Bangalore's chilled out New Year bash!</td>\n",
       "      <td>2011-01-02</td>\n",
       "    </tr>\n",
       "    <tr>\n",
       "      <th>1024410</th>\n",
       "      <td>20110102</td>\n",
       "      <td>entertainment.events.mumbai</td>\n",
       "      <td>Kapoor duo in celebration mode</td>\n",
       "      <td>2011-01-02</td>\n",
       "    </tr>\n",
       "    <tr>\n",
       "      <th>1024411</th>\n",
       "      <td>20110102</td>\n",
       "      <td>entertainment.hindi.bollywood</td>\n",
       "      <td>Salman's ready to help!</td>\n",
       "      <td>2011-01-02</td>\n",
       "    </tr>\n",
       "    <tr>\n",
       "      <th>...</th>\n",
       "      <td>...</td>\n",
       "      <td>...</td>\n",
       "      <td>...</td>\n",
       "      <td>...</td>\n",
       "    </tr>\n",
       "    <tr>\n",
       "      <th>3297167</th>\n",
       "      <td>20200630</td>\n",
       "      <td>gadgets-news</td>\n",
       "      <td>why tiktok removed 1 65 crore videos in india</td>\n",
       "      <td>2020-06-30</td>\n",
       "    </tr>\n",
       "    <tr>\n",
       "      <th>3297168</th>\n",
       "      <td>20200630</td>\n",
       "      <td>entertainment.hindi.bollywood</td>\n",
       "      <td>apurva asrani calls alia bhatts mother soni ra...</td>\n",
       "      <td>2020-06-30</td>\n",
       "    </tr>\n",
       "    <tr>\n",
       "      <th>3297169</th>\n",
       "      <td>20200630</td>\n",
       "      <td>entertainment.hindi.bollywood</td>\n",
       "      <td>kangana ranaut gets a doll version of herself ...</td>\n",
       "      <td>2020-06-30</td>\n",
       "    </tr>\n",
       "    <tr>\n",
       "      <th>3297170</th>\n",
       "      <td>20200630</td>\n",
       "      <td>entertainment.hindi.bollywood</td>\n",
       "      <td>meezaan jaffrey reminisces his childhood days ...</td>\n",
       "      <td>2020-06-30</td>\n",
       "    </tr>\n",
       "    <tr>\n",
       "      <th>3297171</th>\n",
       "      <td>20200630</td>\n",
       "      <td>entertainment.telugu.movies.news</td>\n",
       "      <td>prabhas20 titled as radhe shyam prabhas and po...</td>\n",
       "      <td>2020-06-30</td>\n",
       "    </tr>\n",
       "  </tbody>\n",
       "</table>\n",
       "<p>2259497 rows × 4 columns</p>\n",
       "</div>"
      ],
      "text/plain": [
       "         publish_date                 headline_category  \\\n",
       "1024407      20110102                    tech.computing   \n",
       "1024408      20110102                        city.patna   \n",
       "1024409      20110102    entertainment.events.bangalore   \n",
       "1024410      20110102       entertainment.events.mumbai   \n",
       "1024411      20110102     entertainment.hindi.bollywood   \n",
       "...               ...                               ...   \n",
       "3297167      20200630                      gadgets-news   \n",
       "3297168      20200630     entertainment.hindi.bollywood   \n",
       "3297169      20200630     entertainment.hindi.bollywood   \n",
       "3297170      20200630     entertainment.hindi.bollywood   \n",
       "3297171      20200630  entertainment.telugu.movies.news   \n",
       "\n",
       "                                             headline_text       date  \n",
       "1024407                       Technology wishlist for 2011 2011-01-02  \n",
       "1024408                      Air passengers a harassed lot 2011-01-02  \n",
       "1024409             Bangalore's chilled out New Year bash! 2011-01-02  \n",
       "1024410                     Kapoor duo in celebration mode 2011-01-02  \n",
       "1024411                            Salman's ready to help! 2011-01-02  \n",
       "...                                                    ...        ...  \n",
       "3297167      why tiktok removed 1 65 crore videos in india 2020-06-30  \n",
       "3297168  apurva asrani calls alia bhatts mother soni ra... 2020-06-30  \n",
       "3297169  kangana ranaut gets a doll version of herself ... 2020-06-30  \n",
       "3297170  meezaan jaffrey reminisces his childhood days ... 2020-06-30  \n",
       "3297171  prabhas20 titled as radhe shyam prabhas and po... 2020-06-30  \n",
       "\n",
       "[2259497 rows x 4 columns]"
      ]
     },
     "execution_count": 7,
     "metadata": {},
     "output_type": "execute_result"
    }
   ],
   "source": [
    "## Dropping the duplicate rows from the data\n",
    "df_news.drop_duplicates(inplace=True)\n",
    "df_news"
   ]
  },
  {
   "cell_type": "code",
   "execution_count": 8,
   "metadata": {},
   "outputs": [],
   "source": [
    "# Droping publish_date and headline_category  from the data\n",
    "df_news =df_news.drop([\"publish_date\", \"headline_category\"], axis=1)"
   ]
  },
  {
   "cell_type": "code",
   "execution_count": 9,
   "metadata": {
    "scrolled": true
   },
   "outputs": [
    {
     "data": {
      "text/html": [
       "<div>\n",
       "<style scoped>\n",
       "    .dataframe tbody tr th:only-of-type {\n",
       "        vertical-align: middle;\n",
       "    }\n",
       "\n",
       "    .dataframe tbody tr th {\n",
       "        vertical-align: top;\n",
       "    }\n",
       "\n",
       "    .dataframe thead th {\n",
       "        text-align: right;\n",
       "    }\n",
       "</style>\n",
       "<table border=\"1\" class=\"dataframe\">\n",
       "  <thead>\n",
       "    <tr style=\"text-align: right;\">\n",
       "      <th></th>\n",
       "      <th>headline_text</th>\n",
       "      <th>date</th>\n",
       "    </tr>\n",
       "  </thead>\n",
       "  <tbody>\n",
       "    <tr>\n",
       "      <th>1024407</th>\n",
       "      <td>Technology wishlist for 2011</td>\n",
       "      <td>2011-01-02</td>\n",
       "    </tr>\n",
       "    <tr>\n",
       "      <th>1024408</th>\n",
       "      <td>Air passengers a harassed lot</td>\n",
       "      <td>2011-01-02</td>\n",
       "    </tr>\n",
       "    <tr>\n",
       "      <th>1024409</th>\n",
       "      <td>Bangalore's chilled out New Year bash!</td>\n",
       "      <td>2011-01-02</td>\n",
       "    </tr>\n",
       "    <tr>\n",
       "      <th>1024410</th>\n",
       "      <td>Kapoor duo in celebration mode</td>\n",
       "      <td>2011-01-02</td>\n",
       "    </tr>\n",
       "    <tr>\n",
       "      <th>1024411</th>\n",
       "      <td>Salman's ready to help!</td>\n",
       "      <td>2011-01-02</td>\n",
       "    </tr>\n",
       "  </tbody>\n",
       "</table>\n",
       "</div>"
      ],
      "text/plain": [
       "                                  headline_text       date\n",
       "1024407            Technology wishlist for 2011 2011-01-02\n",
       "1024408           Air passengers a harassed lot 2011-01-02\n",
       "1024409  Bangalore's chilled out New Year bash! 2011-01-02\n",
       "1024410          Kapoor duo in celebration mode 2011-01-02\n",
       "1024411                 Salman's ready to help! 2011-01-02"
      ]
     },
     "execution_count": 9,
     "metadata": {},
     "output_type": "execute_result"
    }
   ],
   "source": [
    "df_news.head()"
   ]
  },
  {
   "cell_type": "markdown",
   "metadata": {},
   "source": [
    "### Grouping the headlines for each day\n",
    "\n",
    "Grouping each headline_text of a day into a single column"
   ]
  },
  {
   "cell_type": "code",
   "execution_count": 10,
   "metadata": {},
   "outputs": [
    {
     "data": {
      "text/html": [
       "<div>\n",
       "<style scoped>\n",
       "    .dataframe tbody tr th:only-of-type {\n",
       "        vertical-align: middle;\n",
       "    }\n",
       "\n",
       "    .dataframe tbody tr th {\n",
       "        vertical-align: top;\n",
       "    }\n",
       "\n",
       "    .dataframe thead th {\n",
       "        text-align: right;\n",
       "    }\n",
       "</style>\n",
       "<table border=\"1\" class=\"dataframe\">\n",
       "  <thead>\n",
       "    <tr style=\"text-align: right;\">\n",
       "      <th></th>\n",
       "      <th>headline_text</th>\n",
       "      <th>date</th>\n",
       "    </tr>\n",
       "  </thead>\n",
       "  <tbody>\n",
       "    <tr>\n",
       "      <th>0</th>\n",
       "      <td>Technology wishlist for 2011 Air passengers a ...</td>\n",
       "      <td>2011-01-02</td>\n",
       "    </tr>\n",
       "    <tr>\n",
       "      <th>1</th>\n",
       "      <td>Photo Gallery (Ashes 2010) Your guy needs comp...</td>\n",
       "      <td>2011-01-03</td>\n",
       "    </tr>\n",
       "    <tr>\n",
       "      <th>2</th>\n",
       "      <td>Deepika Padukone Deepika Padukone Imran invite...</td>\n",
       "      <td>2011-01-04</td>\n",
       "    </tr>\n",
       "    <tr>\n",
       "      <th>3</th>\n",
       "      <td>Man dies of heart attack after killing lover's...</td>\n",
       "      <td>2011-01-05</td>\n",
       "    </tr>\n",
       "    <tr>\n",
       "      <th>4</th>\n",
       "      <td>Photo Gallery (Indian tour of South Africa) Ra...</td>\n",
       "      <td>2011-01-06</td>\n",
       "    </tr>\n",
       "    <tr>\n",
       "      <th>...</th>\n",
       "      <td>...</td>\n",
       "      <td>...</td>\n",
       "    </tr>\n",
       "    <tr>\n",
       "      <th>3463</th>\n",
       "      <td>Containment zone residents slam high prices ch...</td>\n",
       "      <td>2020-06-26</td>\n",
       "    </tr>\n",
       "    <tr>\n",
       "      <th>3464</th>\n",
       "      <td>like me i wont let you have a toxic relationsh...</td>\n",
       "      <td>2020-06-27</td>\n",
       "    </tr>\n",
       "    <tr>\n",
       "      <th>3465</th>\n",
       "      <td>Atanu Ghosh plans to rewrite old scripts to ma...</td>\n",
       "      <td>2020-06-28</td>\n",
       "    </tr>\n",
       "    <tr>\n",
       "      <th>3466</th>\n",
       "      <td>6 hot and stylish bikini looks of Katrina Kaif...</td>\n",
       "      <td>2020-06-29</td>\n",
       "    </tr>\n",
       "    <tr>\n",
       "      <th>3467</th>\n",
       "      <td>Detective Byomkesh Bakshy! Edge of Tomorrow Fi...</td>\n",
       "      <td>2020-06-30</td>\n",
       "    </tr>\n",
       "  </tbody>\n",
       "</table>\n",
       "<p>3468 rows × 2 columns</p>\n",
       "</div>"
      ],
      "text/plain": [
       "                                          headline_text       date\n",
       "0     Technology wishlist for 2011 Air passengers a ... 2011-01-02\n",
       "1     Photo Gallery (Ashes 2010) Your guy needs comp... 2011-01-03\n",
       "2     Deepika Padukone Deepika Padukone Imran invite... 2011-01-04\n",
       "3     Man dies of heart attack after killing lover's... 2011-01-05\n",
       "4     Photo Gallery (Indian tour of South Africa) Ra... 2011-01-06\n",
       "...                                                 ...        ...\n",
       "3463  Containment zone residents slam high prices ch... 2020-06-26\n",
       "3464  like me i wont let you have a toxic relationsh... 2020-06-27\n",
       "3465  Atanu Ghosh plans to rewrite old scripts to ma... 2020-06-28\n",
       "3466  6 hot and stylish bikini looks of Katrina Kaif... 2020-06-29\n",
       "3467  Detective Byomkesh Bakshy! Edge of Tomorrow Fi... 2020-06-30\n",
       "\n",
       "[3468 rows x 2 columns]"
      ]
     },
     "execution_count": 10,
     "metadata": {},
     "output_type": "execute_result"
    }
   ],
   "source": [
    "df_news['headline_text'] = df_news.groupby(['date']).transform(lambda x : ' '.join(x)) \n",
    "df_news = df_news.drop_duplicates() \n",
    "df_news.reset_index(inplace = True, drop = True)\n",
    "df_news"
   ]
  },
  {
   "cell_type": "markdown",
   "metadata": {},
   "source": [
    "### Tokenize and remove stop words"
   ]
  },
  {
   "cell_type": "code",
   "execution_count": 11,
   "metadata": {},
   "outputs": [],
   "source": [
    "def preprocess_headlines(headline):\n",
    "    stop_words = stopwords.words('english')\n",
    "    tokenize = []\n",
    "    result = \"\"\n",
    "    tokens = word_tokenize(headline) \n",
    "    for i in tokens:\n",
    "        if i.lower() not in stop_words:\n",
    "            result += \" \" + i.lower()\n",
    "    return result \n",
    "        "
   ]
  },
  {
   "cell_type": "code",
   "execution_count": 12,
   "metadata": {},
   "outputs": [],
   "source": [
    "df_news[\"headline_text\"] = [preprocess_headlines(i) for i in df_news['headline_text']]"
   ]
  },
  {
   "cell_type": "markdown",
   "metadata": {},
   "source": [
    "### Getting  Subjectivity  & Polarity from headline_text "
   ]
  },
  {
   "cell_type": "code",
   "execution_count": 13,
   "metadata": {},
   "outputs": [],
   "source": [
    "def getSubjectivity(text):\n",
    "  return TextBlob(text).sentiment.subjectivity\n",
    "\n",
    "def getPolarity(text):\n",
    "  return  TextBlob(text).sentiment.polarity"
   ]
  },
  {
   "cell_type": "code",
   "execution_count": 14,
   "metadata": {},
   "outputs": [
    {
     "data": {
      "text/html": [
       "<div>\n",
       "<style scoped>\n",
       "    .dataframe tbody tr th:only-of-type {\n",
       "        vertical-align: middle;\n",
       "    }\n",
       "\n",
       "    .dataframe tbody tr th {\n",
       "        vertical-align: top;\n",
       "    }\n",
       "\n",
       "    .dataframe thead th {\n",
       "        text-align: right;\n",
       "    }\n",
       "</style>\n",
       "<table border=\"1\" class=\"dataframe\">\n",
       "  <thead>\n",
       "    <tr style=\"text-align: right;\">\n",
       "      <th></th>\n",
       "      <th>headline_text</th>\n",
       "      <th>date</th>\n",
       "      <th>Subjectivity</th>\n",
       "      <th>Polarity</th>\n",
       "    </tr>\n",
       "  </thead>\n",
       "  <tbody>\n",
       "    <tr>\n",
       "      <th>0</th>\n",
       "      <td>technology wishlist 2011 air passengers haras...</td>\n",
       "      <td>2011-01-02</td>\n",
       "      <td>0.420696</td>\n",
       "      <td>0.052225</td>\n",
       "    </tr>\n",
       "    <tr>\n",
       "      <th>1</th>\n",
       "      <td>photo gallery ( ashes 2010 ) guy needs compli...</td>\n",
       "      <td>2011-01-03</td>\n",
       "      <td>0.375598</td>\n",
       "      <td>0.061099</td>\n",
       "    </tr>\n",
       "    <tr>\n",
       "      <th>2</th>\n",
       "      <td>deepika padukone deepika padukone imran invit...</td>\n",
       "      <td>2011-01-04</td>\n",
       "      <td>0.391273</td>\n",
       "      <td>0.019847</td>\n",
       "    </tr>\n",
       "    <tr>\n",
       "      <th>3</th>\n",
       "      <td>man dies heart attack killing lover 's hubby ...</td>\n",
       "      <td>2011-01-05</td>\n",
       "      <td>0.420299</td>\n",
       "      <td>0.010189</td>\n",
       "    </tr>\n",
       "    <tr>\n",
       "      <th>4</th>\n",
       "      <td>photo gallery ( indian tour south africa ) ra...</td>\n",
       "      <td>2011-01-06</td>\n",
       "      <td>0.389732</td>\n",
       "      <td>0.020557</td>\n",
       "    </tr>\n",
       "    <tr>\n",
       "      <th>...</th>\n",
       "      <td>...</td>\n",
       "      <td>...</td>\n",
       "      <td>...</td>\n",
       "      <td>...</td>\n",
       "    </tr>\n",
       "    <tr>\n",
       "      <th>3463</th>\n",
       "      <td>containment zone residents slam high prices c...</td>\n",
       "      <td>2020-06-26</td>\n",
       "      <td>0.364023</td>\n",
       "      <td>0.043772</td>\n",
       "    </tr>\n",
       "    <tr>\n",
       "      <th>3464</th>\n",
       "      <td>like wont let toxic relationship food major r...</td>\n",
       "      <td>2020-06-27</td>\n",
       "      <td>0.381440</td>\n",
       "      <td>0.068239</td>\n",
       "    </tr>\n",
       "    <tr>\n",
       "      <th>3465</th>\n",
       "      <td>atanu ghosh plans rewrite old scripts make re...</td>\n",
       "      <td>2020-06-28</td>\n",
       "      <td>0.399849</td>\n",
       "      <td>0.037077</td>\n",
       "    </tr>\n",
       "    <tr>\n",
       "      <th>3466</th>\n",
       "      <td>6 hot stylish bikini looks katrina kaif anna ...</td>\n",
       "      <td>2020-06-29</td>\n",
       "      <td>0.378767</td>\n",
       "      <td>0.041490</td>\n",
       "    </tr>\n",
       "    <tr>\n",
       "      <th>3467</th>\n",
       "      <td>detective byomkesh bakshy ! edge tomorrow fir...</td>\n",
       "      <td>2020-06-30</td>\n",
       "      <td>0.371251</td>\n",
       "      <td>0.056746</td>\n",
       "    </tr>\n",
       "  </tbody>\n",
       "</table>\n",
       "<p>3468 rows × 4 columns</p>\n",
       "</div>"
      ],
      "text/plain": [
       "                                          headline_text       date  \\\n",
       "0      technology wishlist 2011 air passengers haras... 2011-01-02   \n",
       "1      photo gallery ( ashes 2010 ) guy needs compli... 2011-01-03   \n",
       "2      deepika padukone deepika padukone imran invit... 2011-01-04   \n",
       "3      man dies heart attack killing lover 's hubby ... 2011-01-05   \n",
       "4      photo gallery ( indian tour south africa ) ra... 2011-01-06   \n",
       "...                                                 ...        ...   \n",
       "3463   containment zone residents slam high prices c... 2020-06-26   \n",
       "3464   like wont let toxic relationship food major r... 2020-06-27   \n",
       "3465   atanu ghosh plans rewrite old scripts make re... 2020-06-28   \n",
       "3466   6 hot stylish bikini looks katrina kaif anna ... 2020-06-29   \n",
       "3467   detective byomkesh bakshy ! edge tomorrow fir... 2020-06-30   \n",
       "\n",
       "      Subjectivity  Polarity  \n",
       "0         0.420696  0.052225  \n",
       "1         0.375598  0.061099  \n",
       "2         0.391273  0.019847  \n",
       "3         0.420299  0.010189  \n",
       "4         0.389732  0.020557  \n",
       "...            ...       ...  \n",
       "3463      0.364023  0.043772  \n",
       "3464      0.381440  0.068239  \n",
       "3465      0.399849  0.037077  \n",
       "3466      0.378767  0.041490  \n",
       "3467      0.371251  0.056746  \n",
       "\n",
       "[3468 rows x 4 columns]"
      ]
     },
     "execution_count": 14,
     "metadata": {},
     "output_type": "execute_result"
    }
   ],
   "source": [
    "#Adding subjectivity and polarity columns\n",
    "df_news['Subjectivity'] = df_news['headline_text'].apply(getSubjectivity)\n",
    "df_news['Polarity'] = df_news['headline_text'].apply(getPolarity)\n",
    "df_news"
   ]
  },
  {
   "cell_type": "code",
   "execution_count": 15,
   "metadata": {
    "scrolled": true
   },
   "outputs": [
    {
     "data": {
      "text/plain": [
       "<matplotlib.axes._subplots.AxesSubplot at 0x20113a9ceb0>"
      ]
     },
     "execution_count": 15,
     "metadata": {},
     "output_type": "execute_result"
    },
    {
     "data": {
      "image/png": "[encoded data removed]",
      "text/plain": [
       "<Figure size 648x360 with 1 Axes>"
      ]
     },
     "metadata": {
      "needs_background": "light"
     },
     "output_type": "display_data"
    }
   ],
   "source": [
    "plt.figure(figsize = (9,5))\n",
    "df_news['Polarity'].hist(color = 'pink')"
   ]
  },
  {
   "cell_type": "code",
   "execution_count": 16,
   "metadata": {
    "scrolled": true
   },
   "outputs": [
    {
     "data": {
      "text/plain": [
       "<matplotlib.axes._subplots.AxesSubplot at 0x20113d2a0d0>"
      ]
     },
     "execution_count": 16,
     "metadata": {},
     "output_type": "execute_result"
    },
    {
     "data": {
      "image/png": "[encoded data removed]",
      "text/plain": [
       "<Figure size 648x360 with 1 Axes>"
      ]
     },
     "metadata": {
      "needs_background": "light"
     },
     "output_type": "display_data"
    }
   ],
   "source": [
    "plt.figure(figsize = (9,5))\n",
    "df_news['Subjectivity'].hist(color = 'green')"
   ]
  },
  {
   "cell_type": "markdown",
   "metadata": {},
   "source": [
    "### Adding Sentiment Scores to df_news"
   ]
  },
  {
   "cell_type": "code",
   "execution_count": 17,
   "metadata": {},
   "outputs": [
    {
     "data": {
      "text/html": [
       "<div>\n",
       "<style scoped>\n",
       "    .dataframe tbody tr th:only-of-type {\n",
       "        vertical-align: middle;\n",
       "    }\n",
       "\n",
       "    .dataframe tbody tr th {\n",
       "        vertical-align: top;\n",
       "    }\n",
       "\n",
       "    .dataframe thead th {\n",
       "        text-align: right;\n",
       "    }\n",
       "</style>\n",
       "<table border=\"1\" class=\"dataframe\">\n",
       "  <thead>\n",
       "    <tr style=\"text-align: right;\">\n",
       "      <th></th>\n",
       "      <th>headline_text</th>\n",
       "      <th>date</th>\n",
       "      <th>Subjectivity</th>\n",
       "      <th>Polarity</th>\n",
       "      <th>Compound</th>\n",
       "      <th>Negative</th>\n",
       "      <th>Neutral</th>\n",
       "      <th>Positive</th>\n",
       "    </tr>\n",
       "  </thead>\n",
       "  <tbody>\n",
       "    <tr>\n",
       "      <th>0</th>\n",
       "      <td>technology wishlist 2011 air passengers haras...</td>\n",
       "      <td>2011-01-02</td>\n",
       "      <td>0.420696</td>\n",
       "      <td>0.052225</td>\n",
       "      <td>-0.9999</td>\n",
       "      <td>0.195</td>\n",
       "      <td>0.696</td>\n",
       "      <td>0.109</td>\n",
       "    </tr>\n",
       "    <tr>\n",
       "      <th>1</th>\n",
       "      <td>photo gallery ( ashes 2010 ) guy needs compli...</td>\n",
       "      <td>2011-01-03</td>\n",
       "      <td>0.375598</td>\n",
       "      <td>0.061099</td>\n",
       "      <td>-0.9997</td>\n",
       "      <td>0.178</td>\n",
       "      <td>0.710</td>\n",
       "      <td>0.112</td>\n",
       "    </tr>\n",
       "    <tr>\n",
       "      <th>2</th>\n",
       "      <td>deepika padukone deepika padukone imran invit...</td>\n",
       "      <td>2011-01-04</td>\n",
       "      <td>0.391273</td>\n",
       "      <td>0.019847</td>\n",
       "      <td>-0.9998</td>\n",
       "      <td>0.174</td>\n",
       "      <td>0.717</td>\n",
       "      <td>0.108</td>\n",
       "    </tr>\n",
       "    <tr>\n",
       "      <th>3</th>\n",
       "      <td>man dies heart attack killing lover 's hubby ...</td>\n",
       "      <td>2011-01-05</td>\n",
       "      <td>0.420299</td>\n",
       "      <td>0.010189</td>\n",
       "      <td>-0.9999</td>\n",
       "      <td>0.189</td>\n",
       "      <td>0.701</td>\n",
       "      <td>0.109</td>\n",
       "    </tr>\n",
       "    <tr>\n",
       "      <th>4</th>\n",
       "      <td>photo gallery ( indian tour south africa ) ra...</td>\n",
       "      <td>2011-01-06</td>\n",
       "      <td>0.389732</td>\n",
       "      <td>0.020557</td>\n",
       "      <td>-0.9998</td>\n",
       "      <td>0.159</td>\n",
       "      <td>0.741</td>\n",
       "      <td>0.100</td>\n",
       "    </tr>\n",
       "    <tr>\n",
       "      <th>...</th>\n",
       "      <td>...</td>\n",
       "      <td>...</td>\n",
       "      <td>...</td>\n",
       "      <td>...</td>\n",
       "      <td>...</td>\n",
       "      <td>...</td>\n",
       "      <td>...</td>\n",
       "      <td>...</td>\n",
       "    </tr>\n",
       "    <tr>\n",
       "      <th>3463</th>\n",
       "      <td>containment zone residents slam high prices c...</td>\n",
       "      <td>2020-06-26</td>\n",
       "      <td>0.364023</td>\n",
       "      <td>0.043772</td>\n",
       "      <td>-0.9998</td>\n",
       "      <td>0.155</td>\n",
       "      <td>0.753</td>\n",
       "      <td>0.092</td>\n",
       "    </tr>\n",
       "    <tr>\n",
       "      <th>3464</th>\n",
       "      <td>like wont let toxic relationship food major r...</td>\n",
       "      <td>2020-06-27</td>\n",
       "      <td>0.381440</td>\n",
       "      <td>0.068239</td>\n",
       "      <td>-0.9998</td>\n",
       "      <td>0.148</td>\n",
       "      <td>0.759</td>\n",
       "      <td>0.093</td>\n",
       "    </tr>\n",
       "    <tr>\n",
       "      <th>3465</th>\n",
       "      <td>atanu ghosh plans rewrite old scripts make re...</td>\n",
       "      <td>2020-06-28</td>\n",
       "      <td>0.399849</td>\n",
       "      <td>0.037077</td>\n",
       "      <td>-0.9999</td>\n",
       "      <td>0.157</td>\n",
       "      <td>0.760</td>\n",
       "      <td>0.083</td>\n",
       "    </tr>\n",
       "    <tr>\n",
       "      <th>3466</th>\n",
       "      <td>6 hot stylish bikini looks katrina kaif anna ...</td>\n",
       "      <td>2020-06-29</td>\n",
       "      <td>0.378767</td>\n",
       "      <td>0.041490</td>\n",
       "      <td>-0.9998</td>\n",
       "      <td>0.152</td>\n",
       "      <td>0.760</td>\n",
       "      <td>0.088</td>\n",
       "    </tr>\n",
       "    <tr>\n",
       "      <th>3467</th>\n",
       "      <td>detective byomkesh bakshy ! edge tomorrow fir...</td>\n",
       "      <td>2020-06-30</td>\n",
       "      <td>0.371251</td>\n",
       "      <td>0.056746</td>\n",
       "      <td>-0.9998</td>\n",
       "      <td>0.136</td>\n",
       "      <td>0.792</td>\n",
       "      <td>0.073</td>\n",
       "    </tr>\n",
       "  </tbody>\n",
       "</table>\n",
       "<p>3468 rows × 8 columns</p>\n",
       "</div>"
      ],
      "text/plain": [
       "                                          headline_text       date  \\\n",
       "0      technology wishlist 2011 air passengers haras... 2011-01-02   \n",
       "1      photo gallery ( ashes 2010 ) guy needs compli... 2011-01-03   \n",
       "2      deepika padukone deepika padukone imran invit... 2011-01-04   \n",
       "3      man dies heart attack killing lover 's hubby ... 2011-01-05   \n",
       "4      photo gallery ( indian tour south africa ) ra... 2011-01-06   \n",
       "...                                                 ...        ...   \n",
       "3463   containment zone residents slam high prices c... 2020-06-26   \n",
       "3464   like wont let toxic relationship food major r... 2020-06-27   \n",
       "3465   atanu ghosh plans rewrite old scripts make re... 2020-06-28   \n",
       "3466   6 hot stylish bikini looks katrina kaif anna ... 2020-06-29   \n",
       "3467   detective byomkesh bakshy ! edge tomorrow fir... 2020-06-30   \n",
       "\n",
       "      Subjectivity  Polarity  Compound  Negative  Neutral  Positive  \n",
       "0         0.420696  0.052225   -0.9999     0.195    0.696     0.109  \n",
       "1         0.375598  0.061099   -0.9997     0.178    0.710     0.112  \n",
       "2         0.391273  0.019847   -0.9998     0.174    0.717     0.108  \n",
       "3         0.420299  0.010189   -0.9999     0.189    0.701     0.109  \n",
       "4         0.389732  0.020557   -0.9998     0.159    0.741     0.100  \n",
       "...            ...       ...       ...       ...      ...       ...  \n",
       "3463      0.364023  0.043772   -0.9998     0.155    0.753     0.092  \n",
       "3464      0.381440  0.068239   -0.9998     0.148    0.759     0.093  \n",
       "3465      0.399849  0.037077   -0.9999     0.157    0.760     0.083  \n",
       "3466      0.378767  0.041490   -0.9998     0.152    0.760     0.088  \n",
       "3467      0.371251  0.056746   -0.9998     0.136    0.792     0.073  \n",
       "\n",
       "[3468 rows x 8 columns]"
      ]
     },
     "execution_count": 17,
     "metadata": {},
     "output_type": "execute_result"
    }
   ],
   "source": [
    "sia = SentimentIntensityAnalyzer()\n",
    "\n",
    "df_news['Compound'] = [sia.polarity_scores(v)['compound'] for v in df_news['headline_text']]\n",
    "df_news['Negative'] = [sia.polarity_scores(v)['neg'] for v in df_news['headline_text']]\n",
    "df_news['Neutral'] = [sia.polarity_scores(v)['neu'] for v in df_news['headline_text']]\n",
    "df_news['Positive'] = [sia.polarity_scores(v)['pos'] for v in df_news['headline_text']]\n",
    "df_news"
   ]
  },
  {
   "cell_type": "markdown",
   "metadata": {},
   "source": [
    "# 2. Numerical Analysis"
   ]
  },
  {
   "cell_type": "markdown",
   "metadata": {},
   "source": [
    "Now we are going to analyze the historical stock price dataset"
   ]
  },
  {
   "cell_type": "code",
   "execution_count": 109,
   "metadata": {},
   "outputs": [
    {
     "data": {
      "text/html": [
       "<div>\n",
       "<style scoped>\n",
       "    .dataframe tbody tr th:only-of-type {\n",
       "        vertical-align: middle;\n",
       "    }\n",
       "\n",
       "    .dataframe tbody tr th {\n",
       "        vertical-align: top;\n",
       "    }\n",
       "\n",
       "    .dataframe thead th {\n",
       "        text-align: right;\n",
       "    }\n",
       "</style>\n",
       "<table border=\"1\" class=\"dataframe\">\n",
       "  <thead>\n",
       "    <tr style=\"text-align: right;\">\n",
       "      <th></th>\n",
       "      <th>Date</th>\n",
       "      <th>Open</th>\n",
       "      <th>High</th>\n",
       "      <th>Low</th>\n",
       "      <th>Close</th>\n",
       "      <th>Adj Close</th>\n",
       "      <th>Volume</th>\n",
       "    </tr>\n",
       "  </thead>\n",
       "  <tbody>\n",
       "    <tr>\n",
       "      <th>0</th>\n",
       "      <td>2011-01-03</td>\n",
       "      <td>20621.609375</td>\n",
       "      <td>20664.800781</td>\n",
       "      <td>20531.000000</td>\n",
       "      <td>20561.050781</td>\n",
       "      <td>20561.050781</td>\n",
       "      <td>12000.0</td>\n",
       "    </tr>\n",
       "    <tr>\n",
       "      <th>1</th>\n",
       "      <td>2011-01-04</td>\n",
       "      <td>20617.380859</td>\n",
       "      <td>20651.210938</td>\n",
       "      <td>20449.009766</td>\n",
       "      <td>20498.720703</td>\n",
       "      <td>20498.720703</td>\n",
       "      <td>15200.0</td>\n",
       "    </tr>\n",
       "    <tr>\n",
       "      <th>2</th>\n",
       "      <td>2011-01-05</td>\n",
       "      <td>20509.949219</td>\n",
       "      <td>20509.949219</td>\n",
       "      <td>20243.949219</td>\n",
       "      <td>20301.099609</td>\n",
       "      <td>20301.099609</td>\n",
       "      <td>14400.0</td>\n",
       "    </tr>\n",
       "    <tr>\n",
       "      <th>3</th>\n",
       "      <td>2011-01-06</td>\n",
       "      <td>20395.500000</td>\n",
       "      <td>20425.849609</td>\n",
       "      <td>20107.169922</td>\n",
       "      <td>20184.740234</td>\n",
       "      <td>20184.740234</td>\n",
       "      <td>16600.0</td>\n",
       "    </tr>\n",
       "    <tr>\n",
       "      <th>4</th>\n",
       "      <td>2011-01-07</td>\n",
       "      <td>20163.849609</td>\n",
       "      <td>20210.619141</td>\n",
       "      <td>19629.220703</td>\n",
       "      <td>19691.810547</td>\n",
       "      <td>19691.810547</td>\n",
       "      <td>15800.0</td>\n",
       "    </tr>\n",
       "  </tbody>\n",
       "</table>\n",
       "</div>"
      ],
      "text/plain": [
       "         Date          Open          High           Low         Close  \\\n",
       "0  2011-01-03  20621.609375  20664.800781  20531.000000  20561.050781   \n",
       "1  2011-01-04  20617.380859  20651.210938  20449.009766  20498.720703   \n",
       "2  2011-01-05  20509.949219  20509.949219  20243.949219  20301.099609   \n",
       "3  2011-01-06  20395.500000  20425.849609  20107.169922  20184.740234   \n",
       "4  2011-01-07  20163.849609  20210.619141  19629.220703  19691.810547   \n",
       "\n",
       "      Adj Close   Volume  \n",
       "0  20561.050781  12000.0  \n",
       "1  20498.720703  15200.0  \n",
       "2  20301.099609  14400.0  \n",
       "3  20184.740234  16600.0  \n",
       "4  19691.810547  15800.0  "
      ]
     },
     "execution_count": 109,
     "metadata": {},
     "output_type": "execute_result"
    }
   ],
   "source": [
    "stock_df = pd.read_csv('BSESN.csv')\n",
    "stock_df.head()"
   ]
  },
  {
   "cell_type": "code",
   "execution_count": 110,
   "metadata": {},
   "outputs": [
    {
     "name": "stdout",
     "output_type": "stream",
     "text": [
      "<class 'pandas.core.frame.DataFrame'>\n",
      "RangeIndex: 2455 entries, 0 to 2454\n",
      "Data columns (total 7 columns):\n",
      " #   Column     Non-Null Count  Dtype  \n",
      "---  ------     --------------  -----  \n",
      " 0   Date       2455 non-null   object \n",
      " 1   Open       2438 non-null   float64\n",
      " 2   High       2438 non-null   float64\n",
      " 3   Low        2438 non-null   float64\n",
      " 4   Close      2438 non-null   float64\n",
      " 5   Adj Close  2438 non-null   float64\n",
      " 6   Volume     2438 non-null   float64\n",
      "dtypes: float64(6), object(1)\n",
      "memory usage: 134.4+ KB\n"
     ]
    }
   ],
   "source": [
    "# General info\n",
    "stock_df.info()"
   ]
  },
  {
   "cell_type": "code",
   "execution_count": 111,
   "metadata": {},
   "outputs": [
    {
     "data": {
      "text/html": [
       "<div>\n",
       "<style scoped>\n",
       "    .dataframe tbody tr th:only-of-type {\n",
       "        vertical-align: middle;\n",
       "    }\n",
       "\n",
       "    .dataframe tbody tr th {\n",
       "        vertical-align: top;\n",
       "    }\n",
       "\n",
       "    .dataframe thead th {\n",
       "        text-align: right;\n",
       "    }\n",
       "</style>\n",
       "<table border=\"1\" class=\"dataframe\">\n",
       "  <thead>\n",
       "    <tr style=\"text-align: right;\">\n",
       "      <th></th>\n",
       "      <th>Open</th>\n",
       "      <th>High</th>\n",
       "      <th>Low</th>\n",
       "      <th>Close</th>\n",
       "      <th>Adj Close</th>\n",
       "      <th>Volume</th>\n",
       "    </tr>\n",
       "  </thead>\n",
       "  <tbody>\n",
       "    <tr>\n",
       "      <th>count</th>\n",
       "      <td>2438.000000</td>\n",
       "      <td>2438.000000</td>\n",
       "      <td>2438.000000</td>\n",
       "      <td>2438.000000</td>\n",
       "      <td>2438.000000</td>\n",
       "      <td>2.438000e+03</td>\n",
       "    </tr>\n",
       "    <tr>\n",
       "      <th>mean</th>\n",
       "      <td>27534.990383</td>\n",
       "      <td>27672.280174</td>\n",
       "      <td>27340.152603</td>\n",
       "      <td>27499.768572</td>\n",
       "      <td>27499.768572</td>\n",
       "      <td>1.439943e+05</td>\n",
       "    </tr>\n",
       "    <tr>\n",
       "      <th>std</th>\n",
       "      <td>7700.982133</td>\n",
       "      <td>7722.415079</td>\n",
       "      <td>7653.057429</td>\n",
       "      <td>7687.470434</td>\n",
       "      <td>7687.470434</td>\n",
       "      <td>1.513235e+06</td>\n",
       "    </tr>\n",
       "    <tr>\n",
       "      <th>min</th>\n",
       "      <td>15436.120117</td>\n",
       "      <td>15440.099609</td>\n",
       "      <td>15135.860352</td>\n",
       "      <td>15175.080078</td>\n",
       "      <td>15175.080078</td>\n",
       "      <td>2.500000e+03</td>\n",
       "    </tr>\n",
       "    <tr>\n",
       "      <th>25%</th>\n",
       "      <td>19723.430176</td>\n",
       "      <td>19820.339844</td>\n",
       "      <td>19621.708008</td>\n",
       "      <td>19698.077149</td>\n",
       "      <td>19698.077149</td>\n",
       "      <td>9.500000e+03</td>\n",
       "    </tr>\n",
       "    <tr>\n",
       "      <th>50%</th>\n",
       "      <td>27251.379883</td>\n",
       "      <td>27389.254882</td>\n",
       "      <td>27123.465820</td>\n",
       "      <td>27249.129882</td>\n",
       "      <td>27249.129882</td>\n",
       "      <td>1.200000e+04</td>\n",
       "    </tr>\n",
       "    <tr>\n",
       "      <th>75%</th>\n",
       "      <td>34203.609375</td>\n",
       "      <td>34456.069336</td>\n",
       "      <td>33999.981445</td>\n",
       "      <td>34190.496094</td>\n",
       "      <td>34190.496094</td>\n",
       "      <td>1.687500e+04</td>\n",
       "    </tr>\n",
       "    <tr>\n",
       "      <th>max</th>\n",
       "      <td>45999.421875</td>\n",
       "      <td>46164.101563</td>\n",
       "      <td>45792.011719</td>\n",
       "      <td>46103.500000</td>\n",
       "      <td>46103.500000</td>\n",
       "      <td>3.181510e+07</td>\n",
       "    </tr>\n",
       "  </tbody>\n",
       "</table>\n",
       "</div>"
      ],
      "text/plain": [
       "               Open          High           Low         Close     Adj Close  \\\n",
       "count   2438.000000   2438.000000   2438.000000   2438.000000   2438.000000   \n",
       "mean   27534.990383  27672.280174  27340.152603  27499.768572  27499.768572   \n",
       "std     7700.982133   7722.415079   7653.057429   7687.470434   7687.470434   \n",
       "min    15436.120117  15440.099609  15135.860352  15175.080078  15175.080078   \n",
       "25%    19723.430176  19820.339844  19621.708008  19698.077149  19698.077149   \n",
       "50%    27251.379883  27389.254882  27123.465820  27249.129882  27249.129882   \n",
       "75%    34203.609375  34456.069336  33999.981445  34190.496094  34190.496094   \n",
       "max    45999.421875  46164.101563  45792.011719  46103.500000  46103.500000   \n",
       "\n",
       "             Volume  \n",
       "count  2.438000e+03  \n",
       "mean   1.439943e+05  \n",
       "std    1.513235e+06  \n",
       "min    2.500000e+03  \n",
       "25%    9.500000e+03  \n",
       "50%    1.200000e+04  \n",
       "75%    1.687500e+04  \n",
       "max    3.181510e+07  "
      ]
     },
     "execution_count": 111,
     "metadata": {},
     "output_type": "execute_result"
    }
   ],
   "source": [
    "# Summary Stats\n",
    "stock_df.describe()"
   ]
  },
  {
   "cell_type": "code",
   "execution_count": 112,
   "metadata": {},
   "outputs": [],
   "source": [
    "stock_df['date'] = pd.to_datetime(stock_df['Date'], infer_datetime_format=True)\n",
    "stock_df = stock_df.drop('Date', axis=1)"
   ]
  },
  {
   "cell_type": "code",
   "execution_count": 113,
   "metadata": {},
   "outputs": [],
   "source": [
    "# Dropping null values\n",
    "stock_df = stock_df.dropna() "
   ]
  },
  {
   "cell_type": "code",
   "execution_count": 114,
   "metadata": {},
   "outputs": [
    {
     "data": {
      "text/plain": [
       "Text(0.5, 1.0, 'SENSEX')"
      ]
     },
     "execution_count": 114,
     "metadata": {},
     "output_type": "execute_result"
    },
    {
     "data": {
      "image/png": "[encoded data removed]",
      "text/plain": [
       "<Figure size 576x432 with 1 Axes>"
      ]
     },
     "metadata": {
      "needs_background": "light"
     },
     "output_type": "display_data"
    }
   ],
   "source": [
    "# Let's see a historical view of the closing price\n",
    "plt.figure(figsize=(8, 6))\n",
    "plt.plot( stock_df['date'],stock_df['Close'])\n",
    "plt.ylabel('Close')\n",
    "plt.xlabel('Date')\n",
    "plt.title(\"SENSEX\")"
   ]
  },
  {
   "cell_type": "code",
   "execution_count": 115,
   "metadata": {},
   "outputs": [
    {
     "data": {
      "text/plain": [
       "Text(0.5, 1.0, 'SENSEX')"
      ]
     },
     "execution_count": 115,
     "metadata": {},
     "output_type": "execute_result"
    },
    {
     "data": {
      "image/png": "[encoded data removed]",
      "text/plain": [
       "<Figure size 576x432 with 1 Axes>"
      ]
     },
     "metadata": {
      "needs_background": "light"
     },
     "output_type": "display_data"
    }
   ],
   "source": [
    "# Let's see a historical view of total Volume being traded everyday\n",
    "plt.figure(figsize=(8, 6))\n",
    "plt.plot( stock_df['date'],stock_df['Volume'])\n",
    "plt.ylabel('Volume')\n",
    "plt.xlabel('Date')\n",
    "plt.title(\"SENSEX\")"
   ]
  },
  {
   "cell_type": "code",
   "execution_count": 116,
   "metadata": {},
   "outputs": [
    {
     "data": {
      "text/plain": [
       "array([[<matplotlib.axes._subplots.AxesSubplot object at 0x0000020149F09040>,\n",
       "        <matplotlib.axes._subplots.AxesSubplot object at 0x0000020149F2F5E0>],\n",
       "       [<matplotlib.axes._subplots.AxesSubplot object at 0x0000020149F55CD0>,\n",
       "        <matplotlib.axes._subplots.AxesSubplot object at 0x0000020149F89460>],\n",
       "       [<matplotlib.axes._subplots.AxesSubplot object at 0x0000020149FAEBE0>,\n",
       "        <matplotlib.axes._subplots.AxesSubplot object at 0x0000020149FE02E0>]],\n",
       "      dtype=object)"
      ]
     },
     "execution_count": 116,
     "metadata": {},
     "output_type": "execute_result"
    },
    {
     "data": {
      "image/png": "[encoded data removed]",
      "text/plain": [
       "<Figure size 864x864 with 6 Axes>"
      ]
     },
     "metadata": {
      "needs_background": "light"
     },
     "output_type": "display_data"
    }
   ],
   "source": [
    "stock_df.hist(figsize=(12,12))"
   ]
  },
  {
   "cell_type": "code",
   "execution_count": 415,
   "metadata": {},
   "outputs": [
    {
     "data": {
      "text/plain": [
       "Text(0.5, 0, 'Days')"
      ]
     },
     "execution_count": 415,
     "metadata": {},
     "output_type": "execute_result"
    },
    {
     "data": {
      "image/png": "[encoded data removed]",
      "text/plain": [
       "<Figure size 1152x576 with 1 Axes>"
      ]
     },
     "metadata": {
      "needs_background": "light"
     },
     "output_type": "display_data"
    }
   ],
   "source": [
    "#Plotting moving average\n",
    "close = stock_df['Close']\n",
    "ma = close.rolling(window = 50).mean()\n",
    "std = close.rolling(window = 50).std()\n",
    "\n",
    "plt.figure(figsize=(16, 8))\n",
    "stock_df['Close'].plot(color = 'b', label = 'Close')\n",
    "ma.plot(color = 'r', label = 'Rolling Mean')\n",
    "std.plot(label = 'Rolling Standard Deviation')\n",
    "plt.legend()\n",
    "plt.xlabel('Days')"
   ]
  },
  {
   "cell_type": "markdown",
   "metadata": {},
   "source": [
    "### Cheking Daily return\n",
    "We're now going to analyze the risk of the stock. In order to do so we'll need to take a closer look at the daily changes of the stock"
   ]
  },
  {
   "cell_type": "code",
   "execution_count": 118,
   "metadata": {},
   "outputs": [
    {
     "data": {
      "text/plain": [
       "Text(0.5, 1.0, 'SENSEX')"
      ]
     },
     "execution_count": 118,
     "metadata": {},
     "output_type": "execute_result"
    },
    {
     "data": {
      "image/png": "[encoded data removed]",
      "text/plain": [
       "<Figure size 720x432 with 1 Axes>"
      ]
     },
     "metadata": {
      "needs_background": "light"
     },
     "output_type": "display_data"
    }
   ],
   "source": [
    "# We'll use pct_change to find the percent change for each day\n",
    "stock_df['Daily Return'] = stock_df['Adj Close'].pct_change()\n",
    "plt.figure(figsize=(10, 6))\n",
    "stock_df['Daily Return'].plot( legend=True, linestyle='--', marker='o')\n",
    "plt.title(\"SENSEX\")"
   ]
  },
  {
   "cell_type": "code",
   "execution_count": 119,
   "metadata": {},
   "outputs": [
    {
     "data": {
      "text/plain": [
       "Text(0.5, 1.0, 'SENSEX')"
      ]
     },
     "execution_count": 119,
     "metadata": {},
     "output_type": "execute_result"
    },
    {
     "data": {
      "image/png": "[encoded data removed]",
      "text/plain": [
       "<Figure size 720x576 with 1 Axes>"
      ]
     },
     "metadata": {
      "needs_background": "light"
     },
     "output_type": "display_data"
    }
   ],
   "source": [
    "plt.figure(figsize=(10,8))\n",
    "sns.distplot(stock_df['Daily Return'].dropna(), bins=100, color='purple')\n",
    "plt.xlabel('Daily Return')\n",
    "plt.title(\"SENSEX\")"
   ]
  },
  {
   "cell_type": "code",
   "execution_count": 120,
   "metadata": {},
   "outputs": [],
   "source": [
    "# Checking the moving avergae of SENSEX stock price for 10, 20 and 50 days\n",
    "MA_day = [10, 20, 50]\n",
    "\n",
    "for ma in MA_day:\n",
    "    column_name = f\"MA for {ma} days\"\n",
    "    stock_df[column_name] = stock_df['Adj Close'].rolling(ma).mean()"
   ]
  },
  {
   "cell_type": "code",
   "execution_count": 414,
   "metadata": {},
   "outputs": [
    {
     "data": {
      "text/plain": [
       "Text(0.5, 0, 'Days')"
      ]
     },
     "execution_count": 414,
     "metadata": {},
     "output_type": "execute_result"
    },
    {
     "data": {
      "image/png": "[encoded data removed]",
      "text/plain": [
       "<Figure size 1152x576 with 1 Axes>"
      ]
     },
     "metadata": {
      "needs_background": "light"
     },
     "output_type": "display_data"
    }
   ],
   "source": [
    "stock_df[['Adj Close', 'MA for 10 days', 'MA for 20 days', 'MA for 50 days']].plot(figsize=(16, 8))\n",
    "plt.title('SENSEX')\n",
    "plt.xlabel('Days')"
   ]
  },
  {
   "cell_type": "markdown",
   "metadata": {},
   "source": [
    "# 3. Merging the Datasets and creating Hybrid model"
   ]
  },
  {
   "cell_type": "markdown",
   "metadata": {},
   "source": [
    "### Merging Stock DataFrame and News Analysis DataFrame  "
   ]
  },
  {
   "cell_type": "code",
   "execution_count": 122,
   "metadata": {
    "scrolled": false
   },
   "outputs": [
    {
     "data": {
      "text/html": [
       "<div>\n",
       "<style scoped>\n",
       "    .dataframe tbody tr th:only-of-type {\n",
       "        vertical-align: middle;\n",
       "    }\n",
       "\n",
       "    .dataframe tbody tr th {\n",
       "        vertical-align: top;\n",
       "    }\n",
       "\n",
       "    .dataframe thead th {\n",
       "        text-align: right;\n",
       "    }\n",
       "</style>\n",
       "<table border=\"1\" class=\"dataframe\">\n",
       "  <thead>\n",
       "    <tr style=\"text-align: right;\">\n",
       "      <th></th>\n",
       "      <th>Open</th>\n",
       "      <th>High</th>\n",
       "      <th>Low</th>\n",
       "      <th>Close</th>\n",
       "      <th>Adj Close</th>\n",
       "      <th>Volume</th>\n",
       "      <th>date</th>\n",
       "      <th>Daily Return</th>\n",
       "      <th>MA for 10 days</th>\n",
       "      <th>MA for 20 days</th>\n",
       "      <th>MA for 50 days</th>\n",
       "      <th>headline_text</th>\n",
       "      <th>Subjectivity</th>\n",
       "      <th>Polarity</th>\n",
       "      <th>Compound</th>\n",
       "      <th>Negative</th>\n",
       "      <th>Neutral</th>\n",
       "      <th>Positive</th>\n",
       "    </tr>\n",
       "  </thead>\n",
       "  <tbody>\n",
       "    <tr>\n",
       "      <th>0</th>\n",
       "      <td>20621.609375</td>\n",
       "      <td>20664.800781</td>\n",
       "      <td>20531.000000</td>\n",
       "      <td>20561.050781</td>\n",
       "      <td>20561.050781</td>\n",
       "      <td>12000.0</td>\n",
       "      <td>2011-01-03</td>\n",
       "      <td>NaN</td>\n",
       "      <td>NaN</td>\n",
       "      <td>NaN</td>\n",
       "      <td>NaN</td>\n",
       "      <td>photo gallery ( ashes 2010 ) guy needs compli...</td>\n",
       "      <td>0.375598</td>\n",
       "      <td>0.061099</td>\n",
       "      <td>-0.9997</td>\n",
       "      <td>0.178</td>\n",
       "      <td>0.710</td>\n",
       "      <td>0.112</td>\n",
       "    </tr>\n",
       "    <tr>\n",
       "      <th>1</th>\n",
       "      <td>20617.380859</td>\n",
       "      <td>20651.210938</td>\n",
       "      <td>20449.009766</td>\n",
       "      <td>20498.720703</td>\n",
       "      <td>20498.720703</td>\n",
       "      <td>15200.0</td>\n",
       "      <td>2011-01-04</td>\n",
       "      <td>-0.003031</td>\n",
       "      <td>NaN</td>\n",
       "      <td>NaN</td>\n",
       "      <td>NaN</td>\n",
       "      <td>deepika padukone deepika padukone imran invit...</td>\n",
       "      <td>0.391273</td>\n",
       "      <td>0.019847</td>\n",
       "      <td>-0.9998</td>\n",
       "      <td>0.174</td>\n",
       "      <td>0.717</td>\n",
       "      <td>0.108</td>\n",
       "    </tr>\n",
       "    <tr>\n",
       "      <th>2</th>\n",
       "      <td>20509.949219</td>\n",
       "      <td>20509.949219</td>\n",
       "      <td>20243.949219</td>\n",
       "      <td>20301.099609</td>\n",
       "      <td>20301.099609</td>\n",
       "      <td>14400.0</td>\n",
       "      <td>2011-01-05</td>\n",
       "      <td>-0.009641</td>\n",
       "      <td>NaN</td>\n",
       "      <td>NaN</td>\n",
       "      <td>NaN</td>\n",
       "      <td>man dies heart attack killing lover 's hubby ...</td>\n",
       "      <td>0.420299</td>\n",
       "      <td>0.010189</td>\n",
       "      <td>-0.9999</td>\n",
       "      <td>0.189</td>\n",
       "      <td>0.701</td>\n",
       "      <td>0.109</td>\n",
       "    </tr>\n",
       "    <tr>\n",
       "      <th>3</th>\n",
       "      <td>20395.500000</td>\n",
       "      <td>20425.849609</td>\n",
       "      <td>20107.169922</td>\n",
       "      <td>20184.740234</td>\n",
       "      <td>20184.740234</td>\n",
       "      <td>16600.0</td>\n",
       "      <td>2011-01-06</td>\n",
       "      <td>-0.005732</td>\n",
       "      <td>NaN</td>\n",
       "      <td>NaN</td>\n",
       "      <td>NaN</td>\n",
       "      <td>photo gallery ( indian tour south africa ) ra...</td>\n",
       "      <td>0.389732</td>\n",
       "      <td>0.020557</td>\n",
       "      <td>-0.9998</td>\n",
       "      <td>0.159</td>\n",
       "      <td>0.741</td>\n",
       "      <td>0.100</td>\n",
       "    </tr>\n",
       "    <tr>\n",
       "      <th>4</th>\n",
       "      <td>20163.849609</td>\n",
       "      <td>20210.619141</td>\n",
       "      <td>19629.220703</td>\n",
       "      <td>19691.810547</td>\n",
       "      <td>19691.810547</td>\n",
       "      <td>15800.0</td>\n",
       "      <td>2011-01-07</td>\n",
       "      <td>-0.024421</td>\n",
       "      <td>NaN</td>\n",
       "      <td>NaN</td>\n",
       "      <td>NaN</td>\n",
       "      <td>rishi gives look test kjo tom hanks honoured ...</td>\n",
       "      <td>0.393698</td>\n",
       "      <td>0.017528</td>\n",
       "      <td>-0.9996</td>\n",
       "      <td>0.148</td>\n",
       "      <td>0.749</td>\n",
       "      <td>0.103</td>\n",
       "    </tr>\n",
       "  </tbody>\n",
       "</table>\n",
       "</div>"
      ],
      "text/plain": [
       "           Open          High           Low         Close     Adj Close  \\\n",
       "0  20621.609375  20664.800781  20531.000000  20561.050781  20561.050781   \n",
       "1  20617.380859  20651.210938  20449.009766  20498.720703  20498.720703   \n",
       "2  20509.949219  20509.949219  20243.949219  20301.099609  20301.099609   \n",
       "3  20395.500000  20425.849609  20107.169922  20184.740234  20184.740234   \n",
       "4  20163.849609  20210.619141  19629.220703  19691.810547  19691.810547   \n",
       "\n",
       "    Volume       date  Daily Return  MA for 10 days  MA for 20 days  \\\n",
       "0  12000.0 2011-01-03           NaN             NaN             NaN   \n",
       "1  15200.0 2011-01-04     -0.003031             NaN             NaN   \n",
       "2  14400.0 2011-01-05     -0.009641             NaN             NaN   \n",
       "3  16600.0 2011-01-06     -0.005732             NaN             NaN   \n",
       "4  15800.0 2011-01-07     -0.024421             NaN             NaN   \n",
       "\n",
       "   MA for 50 days                                      headline_text  \\\n",
       "0             NaN   photo gallery ( ashes 2010 ) guy needs compli...   \n",
       "1             NaN   deepika padukone deepika padukone imran invit...   \n",
       "2             NaN   man dies heart attack killing lover 's hubby ...   \n",
       "3             NaN   photo gallery ( indian tour south africa ) ra...   \n",
       "4             NaN   rishi gives look test kjo tom hanks honoured ...   \n",
       "\n",
       "   Subjectivity  Polarity  Compound  Negative  Neutral  Positive  \n",
       "0      0.375598  0.061099   -0.9997     0.178    0.710     0.112  \n",
       "1      0.391273  0.019847   -0.9998     0.174    0.717     0.108  \n",
       "2      0.420299  0.010189   -0.9999     0.189    0.701     0.109  \n",
       "3      0.389732  0.020557   -0.9998     0.159    0.741     0.100  \n",
       "4      0.393698  0.017528   -0.9996     0.148    0.749     0.103  "
      ]
     },
     "execution_count": 122,
     "metadata": {},
     "output_type": "execute_result"
    }
   ],
   "source": [
    "df_merge = pd.merge(stock_df, df_news, how='inner', on='date')\n",
    "df_merge.head()"
   ]
  },
  {
   "cell_type": "code",
   "execution_count": 123,
   "metadata": {},
   "outputs": [],
   "source": [
    "# setting column 'Date' as the index column\n",
    "df_merge.set_index('date', inplace= True)"
   ]
  },
  {
   "cell_type": "markdown",
   "metadata": {},
   "source": [
    "### Dropping unimportant columns"
   ]
  },
  {
   "cell_type": "code",
   "execution_count": 357,
   "metadata": {},
   "outputs": [
    {
     "data": {
      "text/html": [
       "<div>\n",
       "<style scoped>\n",
       "    .dataframe tbody tr th:only-of-type {\n",
       "        vertical-align: middle;\n",
       "    }\n",
       "\n",
       "    .dataframe tbody tr th {\n",
       "        vertical-align: top;\n",
       "    }\n",
       "\n",
       "    .dataframe thead th {\n",
       "        text-align: right;\n",
       "    }\n",
       "</style>\n",
       "<table border=\"1\" class=\"dataframe\">\n",
       "  <thead>\n",
       "    <tr style=\"text-align: right;\">\n",
       "      <th></th>\n",
       "      <th>Open</th>\n",
       "      <th>High</th>\n",
       "      <th>Low</th>\n",
       "      <th>Close</th>\n",
       "      <th>Volume</th>\n",
       "      <th>Subjectivity</th>\n",
       "      <th>Polarity</th>\n",
       "      <th>Compound</th>\n",
       "      <th>Negative</th>\n",
       "      <th>Neutral</th>\n",
       "      <th>Positive</th>\n",
       "    </tr>\n",
       "    <tr>\n",
       "      <th>date</th>\n",
       "      <th></th>\n",
       "      <th></th>\n",
       "      <th></th>\n",
       "      <th></th>\n",
       "      <th></th>\n",
       "      <th></th>\n",
       "      <th></th>\n",
       "      <th></th>\n",
       "      <th></th>\n",
       "      <th></th>\n",
       "      <th></th>\n",
       "    </tr>\n",
       "  </thead>\n",
       "  <tbody>\n",
       "    <tr>\n",
       "      <th>2011-01-03</th>\n",
       "      <td>20621.609375</td>\n",
       "      <td>20664.800781</td>\n",
       "      <td>20531.000000</td>\n",
       "      <td>20561.050781</td>\n",
       "      <td>12000.0</td>\n",
       "      <td>0.375598</td>\n",
       "      <td>0.061099</td>\n",
       "      <td>-0.9997</td>\n",
       "      <td>0.178</td>\n",
       "      <td>0.710</td>\n",
       "      <td>0.112</td>\n",
       "    </tr>\n",
       "    <tr>\n",
       "      <th>2011-01-04</th>\n",
       "      <td>20617.380859</td>\n",
       "      <td>20651.210938</td>\n",
       "      <td>20449.009766</td>\n",
       "      <td>20498.720703</td>\n",
       "      <td>15200.0</td>\n",
       "      <td>0.391273</td>\n",
       "      <td>0.019847</td>\n",
       "      <td>-0.9998</td>\n",
       "      <td>0.174</td>\n",
       "      <td>0.717</td>\n",
       "      <td>0.108</td>\n",
       "    </tr>\n",
       "    <tr>\n",
       "      <th>2011-01-05</th>\n",
       "      <td>20509.949219</td>\n",
       "      <td>20509.949219</td>\n",
       "      <td>20243.949219</td>\n",
       "      <td>20301.099609</td>\n",
       "      <td>14400.0</td>\n",
       "      <td>0.420299</td>\n",
       "      <td>0.010189</td>\n",
       "      <td>-0.9999</td>\n",
       "      <td>0.189</td>\n",
       "      <td>0.701</td>\n",
       "      <td>0.109</td>\n",
       "    </tr>\n",
       "    <tr>\n",
       "      <th>2011-01-06</th>\n",
       "      <td>20395.500000</td>\n",
       "      <td>20425.849609</td>\n",
       "      <td>20107.169922</td>\n",
       "      <td>20184.740234</td>\n",
       "      <td>16600.0</td>\n",
       "      <td>0.389732</td>\n",
       "      <td>0.020557</td>\n",
       "      <td>-0.9998</td>\n",
       "      <td>0.159</td>\n",
       "      <td>0.741</td>\n",
       "      <td>0.100</td>\n",
       "    </tr>\n",
       "    <tr>\n",
       "      <th>2011-01-07</th>\n",
       "      <td>20163.849609</td>\n",
       "      <td>20210.619141</td>\n",
       "      <td>19629.220703</td>\n",
       "      <td>19691.810547</td>\n",
       "      <td>15800.0</td>\n",
       "      <td>0.393698</td>\n",
       "      <td>0.017528</td>\n",
       "      <td>-0.9996</td>\n",
       "      <td>0.148</td>\n",
       "      <td>0.749</td>\n",
       "      <td>0.103</td>\n",
       "    </tr>\n",
       "  </tbody>\n",
       "</table>\n",
       "</div>"
      ],
      "text/plain": [
       "                    Open          High           Low         Close   Volume  \\\n",
       "date                                                                          \n",
       "2011-01-03  20621.609375  20664.800781  20531.000000  20561.050781  12000.0   \n",
       "2011-01-04  20617.380859  20651.210938  20449.009766  20498.720703  15200.0   \n",
       "2011-01-05  20509.949219  20509.949219  20243.949219  20301.099609  14400.0   \n",
       "2011-01-06  20395.500000  20425.849609  20107.169922  20184.740234  16600.0   \n",
       "2011-01-07  20163.849609  20210.619141  19629.220703  19691.810547  15800.0   \n",
       "\n",
       "            Subjectivity  Polarity  Compound  Negative  Neutral  Positive  \n",
       "date                                                                       \n",
       "2011-01-03      0.375598  0.061099   -0.9997     0.178    0.710     0.112  \n",
       "2011-01-04      0.391273  0.019847   -0.9998     0.174    0.717     0.108  \n",
       "2011-01-05      0.420299  0.010189   -0.9999     0.189    0.701     0.109  \n",
       "2011-01-06      0.389732  0.020557   -0.9998     0.159    0.741     0.100  \n",
       "2011-01-07      0.393698  0.017528   -0.9996     0.148    0.749     0.103  "
      ]
     },
     "execution_count": 357,
     "metadata": {},
     "output_type": "execute_result"
    }
   ],
   "source": [
    "dataframe = df_merge.drop([\"Adj Close\", \"MA for 10 days\", \"MA for 20 days\", \"MA for 50 days\", \"Daily Return\", \"headline_text\"], axis=1)\n",
    "dataframe.head()\n"
   ]
  },
  {
   "cell_type": "code",
   "execution_count": 358,
   "metadata": {},
   "outputs": [
    {
     "data": {
      "text/html": [
       "<div>\n",
       "<style scoped>\n",
       "    .dataframe tbody tr th:only-of-type {\n",
       "        vertical-align: middle;\n",
       "    }\n",
       "\n",
       "    .dataframe tbody tr th {\n",
       "        vertical-align: top;\n",
       "    }\n",
       "\n",
       "    .dataframe thead th {\n",
       "        text-align: right;\n",
       "    }\n",
       "</style>\n",
       "<table border=\"1\" class=\"dataframe\">\n",
       "  <thead>\n",
       "    <tr style=\"text-align: right;\">\n",
       "      <th></th>\n",
       "      <th>Open</th>\n",
       "      <th>High</th>\n",
       "      <th>Low</th>\n",
       "      <th>Close</th>\n",
       "      <th>Volume</th>\n",
       "      <th>Subjectivity</th>\n",
       "      <th>Polarity</th>\n",
       "      <th>Compound</th>\n",
       "      <th>Negative</th>\n",
       "      <th>Neutral</th>\n",
       "      <th>Positive</th>\n",
       "    </tr>\n",
       "  </thead>\n",
       "  <tbody>\n",
       "    <tr>\n",
       "      <th>Open</th>\n",
       "      <td>1.000000</td>\n",
       "      <td>0.999725</td>\n",
       "      <td>0.999653</td>\n",
       "      <td>0.999390</td>\n",
       "      <td>0.110459</td>\n",
       "      <td>-0.042627</td>\n",
       "      <td>-0.166843</td>\n",
       "      <td>-0.001805</td>\n",
       "      <td>-0.090798</td>\n",
       "      <td>0.389565</td>\n",
       "      <td>-0.342634</td>\n",
       "    </tr>\n",
       "    <tr>\n",
       "      <th>High</th>\n",
       "      <td>0.999725</td>\n",
       "      <td>1.000000</td>\n",
       "      <td>0.999471</td>\n",
       "      <td>0.999704</td>\n",
       "      <td>0.110591</td>\n",
       "      <td>-0.042449</td>\n",
       "      <td>-0.166850</td>\n",
       "      <td>-0.001595</td>\n",
       "      <td>-0.091503</td>\n",
       "      <td>0.391538</td>\n",
       "      <td>-0.344074</td>\n",
       "    </tr>\n",
       "    <tr>\n",
       "      <th>Low</th>\n",
       "      <td>0.999653</td>\n",
       "      <td>0.999471</td>\n",
       "      <td>1.000000</td>\n",
       "      <td>0.999684</td>\n",
       "      <td>0.110797</td>\n",
       "      <td>-0.042489</td>\n",
       "      <td>-0.166499</td>\n",
       "      <td>-0.001425</td>\n",
       "      <td>-0.091212</td>\n",
       "      <td>0.388526</td>\n",
       "      <td>-0.340973</td>\n",
       "    </tr>\n",
       "    <tr>\n",
       "      <th>Close</th>\n",
       "      <td>0.999390</td>\n",
       "      <td>0.999704</td>\n",
       "      <td>0.999684</td>\n",
       "      <td>1.000000</td>\n",
       "      <td>0.110792</td>\n",
       "      <td>-0.042623</td>\n",
       "      <td>-0.166805</td>\n",
       "      <td>-0.000897</td>\n",
       "      <td>-0.091328</td>\n",
       "      <td>0.389814</td>\n",
       "      <td>-0.342288</td>\n",
       "    </tr>\n",
       "    <tr>\n",
       "      <th>Volume</th>\n",
       "      <td>0.110459</td>\n",
       "      <td>0.110591</td>\n",
       "      <td>0.110797</td>\n",
       "      <td>0.110792</td>\n",
       "      <td>1.000000</td>\n",
       "      <td>0.009818</td>\n",
       "      <td>-0.057847</td>\n",
       "      <td>-0.012582</td>\n",
       "      <td>0.009227</td>\n",
       "      <td>0.062229</td>\n",
       "      <td>-0.081894</td>\n",
       "    </tr>\n",
       "    <tr>\n",
       "      <th>Subjectivity</th>\n",
       "      <td>-0.042627</td>\n",
       "      <td>-0.042449</td>\n",
       "      <td>-0.042489</td>\n",
       "      <td>-0.042623</td>\n",
       "      <td>0.009818</td>\n",
       "      <td>1.000000</td>\n",
       "      <td>0.265859</td>\n",
       "      <td>0.077157</td>\n",
       "      <td>-0.155557</td>\n",
       "      <td>-0.113988</td>\n",
       "      <td>0.308168</td>\n",
       "    </tr>\n",
       "    <tr>\n",
       "      <th>Polarity</th>\n",
       "      <td>-0.166843</td>\n",
       "      <td>-0.166850</td>\n",
       "      <td>-0.166499</td>\n",
       "      <td>-0.166805</td>\n",
       "      <td>-0.057847</td>\n",
       "      <td>0.265859</td>\n",
       "      <td>1.000000</td>\n",
       "      <td>0.252155</td>\n",
       "      <td>-0.437264</td>\n",
       "      <td>-0.097168</td>\n",
       "      <td>0.613236</td>\n",
       "    </tr>\n",
       "    <tr>\n",
       "      <th>Compound</th>\n",
       "      <td>-0.001805</td>\n",
       "      <td>-0.001595</td>\n",
       "      <td>-0.001425</td>\n",
       "      <td>-0.000897</td>\n",
       "      <td>-0.012582</td>\n",
       "      <td>0.077157</td>\n",
       "      <td>0.252155</td>\n",
       "      <td>1.000000</td>\n",
       "      <td>-0.312757</td>\n",
       "      <td>0.010020</td>\n",
       "      <td>0.348599</td>\n",
       "    </tr>\n",
       "    <tr>\n",
       "      <th>Negative</th>\n",
       "      <td>-0.090798</td>\n",
       "      <td>-0.091503</td>\n",
       "      <td>-0.091212</td>\n",
       "      <td>-0.091328</td>\n",
       "      <td>0.009227</td>\n",
       "      <td>-0.155557</td>\n",
       "      <td>-0.437264</td>\n",
       "      <td>-0.312757</td>\n",
       "      <td>1.000000</td>\n",
       "      <td>-0.618842</td>\n",
       "      <td>-0.440472</td>\n",
       "    </tr>\n",
       "    <tr>\n",
       "      <th>Neutral</th>\n",
       "      <td>0.389565</td>\n",
       "      <td>0.391538</td>\n",
       "      <td>0.388526</td>\n",
       "      <td>0.389814</td>\n",
       "      <td>0.062229</td>\n",
       "      <td>-0.113988</td>\n",
       "      <td>-0.097168</td>\n",
       "      <td>0.010020</td>\n",
       "      <td>-0.618842</td>\n",
       "      <td>1.000000</td>\n",
       "      <td>-0.432004</td>\n",
       "    </tr>\n",
       "    <tr>\n",
       "      <th>Positive</th>\n",
       "      <td>-0.342634</td>\n",
       "      <td>-0.344074</td>\n",
       "      <td>-0.340973</td>\n",
       "      <td>-0.342288</td>\n",
       "      <td>-0.081894</td>\n",
       "      <td>0.308168</td>\n",
       "      <td>0.613236</td>\n",
       "      <td>0.348599</td>\n",
       "      <td>-0.440472</td>\n",
       "      <td>-0.432004</td>\n",
       "      <td>1.000000</td>\n",
       "    </tr>\n",
       "  </tbody>\n",
       "</table>\n",
       "</div>"
      ],
      "text/plain": [
       "                  Open      High       Low     Close    Volume  Subjectivity  \\\n",
       "Open          1.000000  0.999725  0.999653  0.999390  0.110459     -0.042627   \n",
       "High          0.999725  1.000000  0.999471  0.999704  0.110591     -0.042449   \n",
       "Low           0.999653  0.999471  1.000000  0.999684  0.110797     -0.042489   \n",
       "Close         0.999390  0.999704  0.999684  1.000000  0.110792     -0.042623   \n",
       "Volume        0.110459  0.110591  0.110797  0.110792  1.000000      0.009818   \n",
       "Subjectivity -0.042627 -0.042449 -0.042489 -0.042623  0.009818      1.000000   \n",
       "Polarity     -0.166843 -0.166850 -0.166499 -0.166805 -0.057847      0.265859   \n",
       "Compound     -0.001805 -0.001595 -0.001425 -0.000897 -0.012582      0.077157   \n",
       "Negative     -0.090798 -0.091503 -0.091212 -0.091328  0.009227     -0.155557   \n",
       "Neutral       0.389565  0.391538  0.388526  0.389814  0.062229     -0.113988   \n",
       "Positive     -0.342634 -0.344074 -0.340973 -0.342288 -0.081894      0.308168   \n",
       "\n",
       "              Polarity  Compound  Negative   Neutral  Positive  \n",
       "Open         -0.166843 -0.001805 -0.090798  0.389565 -0.342634  \n",
       "High         -0.166850 -0.001595 -0.091503  0.391538 -0.344074  \n",
       "Low          -0.166499 -0.001425 -0.091212  0.388526 -0.340973  \n",
       "Close        -0.166805 -0.000897 -0.091328  0.389814 -0.342288  \n",
       "Volume       -0.057847 -0.012582  0.009227  0.062229 -0.081894  \n",
       "Subjectivity  0.265859  0.077157 -0.155557 -0.113988  0.308168  \n",
       "Polarity      1.000000  0.252155 -0.437264 -0.097168  0.613236  \n",
       "Compound      0.252155  1.000000 -0.312757  0.010020  0.348599  \n",
       "Negative     -0.437264 -0.312757  1.000000 -0.618842 -0.440472  \n",
       "Neutral      -0.097168  0.010020 -0.618842  1.000000 -0.432004  \n",
       "Positive      0.613236  0.348599 -0.440472 -0.432004  1.000000  "
      ]
     },
     "execution_count": 358,
     "metadata": {},
     "output_type": "execute_result"
    }
   ],
   "source": [
    "## Checking the co-relationship between features and the target variable Label in the dataframe\n",
    "dataframe.corr()"
   ]
  },
  {
   "cell_type": "markdown",
   "metadata": {},
   "source": [
    "### Data Preparation"
   ]
  },
  {
   "cell_type": "code",
   "execution_count": null,
   "metadata": {},
   "outputs": [],
   "source": [
    "data_to_use = (len(dataframe)-1)\n",
    "\n",
    "# using 80% of data for training\n",
    "train_end = int(data_to_use*0.8)\n",
    "total_data = len(dataframe)\n",
    "start = total_data - data_to_use\n",
    "\n",
    "# printing number of records in the training and test datasets\n",
    "print(\"Number of records in Training Data:\", train_end)\n",
    "print(\"Number of records in Test Data:\", total_data - train_end)"
   ]
  },
  {
   "cell_type": "code",
   "execution_count": null,
   "metadata": {},
   "outputs": [],
   "source": [
    "# predicting one step ahead\n",
    "steps_to_predict = 1\n",
    "\n",
    "# capturing data to be used for each column\n",
    "open_price = dataframe.iloc[start:total_data,0] #open\n",
    "high = dataframe.iloc[start:total_data,1] #high\n",
    "low = dataframe.iloc[start:total_data,2] #low\n",
    "close_price = dataframe.iloc[start:total_data,3] #close\n",
    "volume = dataframe.iloc[start:total_data,4] #volume\n",
    "#subjectivety = dataframe.iloc[start:total_data, 5] #subjectivety\n",
    "polarity = dataframe.iloc[start:total_data, 6] #polarity\n",
    "compound = dataframe.iloc[start:total_data,7] #compound\n",
    "#negative = dataframe.iloc[start:total_data,8] #neg\n",
    "#neutral = dataframe.iloc[start:total_data,9] #neu\n",
    "#positive = dataframe.iloc[start:total_data,10] #pos\n"
   ]
  },
  {
   "cell_type": "code",
   "execution_count": 401,
   "metadata": {},
   "outputs": [
    {
     "data": {
      "text/html": [
       "<div>\n",
       "<style scoped>\n",
       "    .dataframe tbody tr th:only-of-type {\n",
       "        vertical-align: middle;\n",
       "    }\n",
       "\n",
       "    .dataframe tbody tr th {\n",
       "        vertical-align: top;\n",
       "    }\n",
       "\n",
       "    .dataframe thead th {\n",
       "        text-align: right;\n",
       "    }\n",
       "</style>\n",
       "<table border=\"1\" class=\"dataframe\">\n",
       "  <thead>\n",
       "    <tr style=\"text-align: right;\">\n",
       "      <th></th>\n",
       "      <th>close_price</th>\n",
       "      <th>close_price_shifted</th>\n",
       "      <th>compound</th>\n",
       "      <th>compound_shifted</th>\n",
       "      <th>polarity</th>\n",
       "      <th>volume</th>\n",
       "      <th>open_price</th>\n",
       "      <th>high</th>\n",
       "      <th>low</th>\n",
       "    </tr>\n",
       "    <tr>\n",
       "      <th>date</th>\n",
       "      <th></th>\n",
       "      <th></th>\n",
       "      <th></th>\n",
       "      <th></th>\n",
       "      <th></th>\n",
       "      <th></th>\n",
       "      <th></th>\n",
       "      <th></th>\n",
       "      <th></th>\n",
       "    </tr>\n",
       "  </thead>\n",
       "  <tbody>\n",
       "    <tr>\n",
       "      <th>2020-06-24</th>\n",
       "      <td>34868.980469</td>\n",
       "      <td>34842.101563</td>\n",
       "      <td>-0.9997</td>\n",
       "      <td>-0.9999</td>\n",
       "      <td>0.069655</td>\n",
       "      <td>26600.0</td>\n",
       "      <td>35679.738281</td>\n",
       "      <td>35706.550781</td>\n",
       "      <td>34794.929688</td>\n",
       "    </tr>\n",
       "    <tr>\n",
       "      <th>2020-06-25</th>\n",
       "      <td>34842.101563</td>\n",
       "      <td>35171.269531</td>\n",
       "      <td>-0.9999</td>\n",
       "      <td>-0.9998</td>\n",
       "      <td>0.003321</td>\n",
       "      <td>24600.0</td>\n",
       "      <td>34525.390625</td>\n",
       "      <td>35081.609375</td>\n",
       "      <td>34499.781250</td>\n",
       "    </tr>\n",
       "    <tr>\n",
       "      <th>2020-06-26</th>\n",
       "      <td>35171.269531</td>\n",
       "      <td>34961.519531</td>\n",
       "      <td>-0.9998</td>\n",
       "      <td>-0.9998</td>\n",
       "      <td>0.043772</td>\n",
       "      <td>24800.0</td>\n",
       "      <td>35144.781250</td>\n",
       "      <td>35254.878906</td>\n",
       "      <td>34910.339844</td>\n",
       "    </tr>\n",
       "    <tr>\n",
       "      <th>2020-06-29</th>\n",
       "      <td>34961.519531</td>\n",
       "      <td>34915.800781</td>\n",
       "      <td>-0.9998</td>\n",
       "      <td>-0.9998</td>\n",
       "      <td>0.041490</td>\n",
       "      <td>18300.0</td>\n",
       "      <td>34926.949219</td>\n",
       "      <td>35032.359375</td>\n",
       "      <td>34662.058594</td>\n",
       "    </tr>\n",
       "    <tr>\n",
       "      <th>2020-06-30</th>\n",
       "      <td>34915.800781</td>\n",
       "      <td>NaN</td>\n",
       "      <td>-0.9998</td>\n",
       "      <td>NaN</td>\n",
       "      <td>0.056746</td>\n",
       "      <td>18500.0</td>\n",
       "      <td>35168.300781</td>\n",
       "      <td>35233.910156</td>\n",
       "      <td>34812.800781</td>\n",
       "    </tr>\n",
       "  </tbody>\n",
       "</table>\n",
       "</div>"
      ],
      "text/plain": [
       "             close_price  close_price_shifted  compound  compound_shifted  \\\n",
       "date                                                                        \n",
       "2020-06-24  34868.980469         34842.101563   -0.9997           -0.9999   \n",
       "2020-06-25  34842.101563         35171.269531   -0.9999           -0.9998   \n",
       "2020-06-26  35171.269531         34961.519531   -0.9998           -0.9998   \n",
       "2020-06-29  34961.519531         34915.800781   -0.9998           -0.9998   \n",
       "2020-06-30  34915.800781                  NaN   -0.9998               NaN   \n",
       "\n",
       "            polarity   volume    open_price          high           low  \n",
       "date                                                                     \n",
       "2020-06-24  0.069655  26600.0  35679.738281  35706.550781  34794.929688  \n",
       "2020-06-25  0.003321  24600.0  34525.390625  35081.609375  34499.781250  \n",
       "2020-06-26  0.043772  24800.0  35144.781250  35254.878906  34910.339844  \n",
       "2020-06-29  0.041490  18300.0  34926.949219  35032.359375  34662.058594  \n",
       "2020-06-30  0.056746  18500.0  35168.300781  35233.910156  34812.800781  "
      ]
     },
     "execution_count": 401,
     "metadata": {},
     "output_type": "execute_result"
    }
   ],
   "source": [
    "# shifting next day close\n",
    "close_price_shifted = close_price.shift(-1) \n",
    "\n",
    "# shifting next day compound\n",
    "compound_shifted = compound.shift(-1) \n",
    "\n",
    "# concatenating the captured training data into a dataframe\n",
    "data = pd.concat([close_price, close_price_shifted, compound, compound_shifted, polarity, volume, open_price, high, low], axis=1)\n",
    "\n",
    "# setting column names of the revised stock data\n",
    "data.columns = ['close_price', 'close_price_shifted', 'compound', 'compound_shifted', 'polarity','volume', 'open_price', 'high', 'low']\n",
    "\n",
    "data.tail()"
   ]
  },
  {
   "cell_type": "code",
   "execution_count": 402,
   "metadata": {},
   "outputs": [],
   "source": [
    "data = data.dropna()"
   ]
  },
  {
   "cell_type": "markdown",
   "metadata": {},
   "source": [
    "### Setting the Target Variable and the Feature Dataset¶"
   ]
  },
  {
   "cell_type": "code",
   "execution_count": 403,
   "metadata": {},
   "outputs": [
    {
     "data": {
      "text/html": [
       "<div>\n",
       "<style scoped>\n",
       "    .dataframe tbody tr th:only-of-type {\n",
       "        vertical-align: middle;\n",
       "    }\n",
       "\n",
       "    .dataframe tbody tr th {\n",
       "        vertical-align: top;\n",
       "    }\n",
       "\n",
       "    .dataframe thead th {\n",
       "        text-align: right;\n",
       "    }\n",
       "</style>\n",
       "<table border=\"1\" class=\"dataframe\">\n",
       "  <thead>\n",
       "    <tr style=\"text-align: right;\">\n",
       "      <th></th>\n",
       "      <th>close_price</th>\n",
       "      <th>compound</th>\n",
       "      <th>compound_shifted</th>\n",
       "      <th>polarity</th>\n",
       "      <th>volume</th>\n",
       "      <th>open_price</th>\n",
       "      <th>high</th>\n",
       "      <th>low</th>\n",
       "    </tr>\n",
       "    <tr>\n",
       "      <th>date</th>\n",
       "      <th></th>\n",
       "      <th></th>\n",
       "      <th></th>\n",
       "      <th></th>\n",
       "      <th></th>\n",
       "      <th></th>\n",
       "      <th></th>\n",
       "      <th></th>\n",
       "    </tr>\n",
       "  </thead>\n",
       "  <tbody>\n",
       "    <tr>\n",
       "      <th>2011-01-04</th>\n",
       "      <td>20498.720703</td>\n",
       "      <td>-0.9998</td>\n",
       "      <td>-0.9999</td>\n",
       "      <td>0.019847</td>\n",
       "      <td>15200.0</td>\n",
       "      <td>20617.380859</td>\n",
       "      <td>20651.210938</td>\n",
       "      <td>20449.009766</td>\n",
       "    </tr>\n",
       "    <tr>\n",
       "      <th>2011-01-05</th>\n",
       "      <td>20301.099609</td>\n",
       "      <td>-0.9999</td>\n",
       "      <td>-0.9998</td>\n",
       "      <td>0.010189</td>\n",
       "      <td>14400.0</td>\n",
       "      <td>20509.949219</td>\n",
       "      <td>20509.949219</td>\n",
       "      <td>20243.949219</td>\n",
       "    </tr>\n",
       "    <tr>\n",
       "      <th>2011-01-06</th>\n",
       "      <td>20184.740234</td>\n",
       "      <td>-0.9998</td>\n",
       "      <td>-0.9996</td>\n",
       "      <td>0.020557</td>\n",
       "      <td>16600.0</td>\n",
       "      <td>20395.500000</td>\n",
       "      <td>20425.849609</td>\n",
       "      <td>20107.169922</td>\n",
       "    </tr>\n",
       "    <tr>\n",
       "      <th>2011-01-07</th>\n",
       "      <td>19691.810547</td>\n",
       "      <td>-0.9996</td>\n",
       "      <td>-0.9997</td>\n",
       "      <td>0.017528</td>\n",
       "      <td>15800.0</td>\n",
       "      <td>20163.849609</td>\n",
       "      <td>20210.619141</td>\n",
       "      <td>19629.220703</td>\n",
       "    </tr>\n",
       "    <tr>\n",
       "      <th>2011-01-10</th>\n",
       "      <td>19224.119141</td>\n",
       "      <td>-0.9997</td>\n",
       "      <td>-0.9997</td>\n",
       "      <td>0.028174</td>\n",
       "      <td>17200.0</td>\n",
       "      <td>19714.419922</td>\n",
       "      <td>19720.429688</td>\n",
       "      <td>19158.429688</td>\n",
       "    </tr>\n",
       "    <tr>\n",
       "      <th>...</th>\n",
       "      <td>...</td>\n",
       "      <td>...</td>\n",
       "      <td>...</td>\n",
       "      <td>...</td>\n",
       "      <td>...</td>\n",
       "      <td>...</td>\n",
       "      <td>...</td>\n",
       "      <td>...</td>\n",
       "    </tr>\n",
       "    <tr>\n",
       "      <th>2020-06-23</th>\n",
       "      <td>35430.429688</td>\n",
       "      <td>-0.9998</td>\n",
       "      <td>-0.9997</td>\n",
       "      <td>0.045369</td>\n",
       "      <td>25200.0</td>\n",
       "      <td>35015.730469</td>\n",
       "      <td>35482.160156</td>\n",
       "      <td>34843.691406</td>\n",
       "    </tr>\n",
       "    <tr>\n",
       "      <th>2020-06-24</th>\n",
       "      <td>34868.980469</td>\n",
       "      <td>-0.9997</td>\n",
       "      <td>-0.9999</td>\n",
       "      <td>0.069655</td>\n",
       "      <td>26600.0</td>\n",
       "      <td>35679.738281</td>\n",
       "      <td>35706.550781</td>\n",
       "      <td>34794.929688</td>\n",
       "    </tr>\n",
       "    <tr>\n",
       "      <th>2020-06-25</th>\n",
       "      <td>34842.101563</td>\n",
       "      <td>-0.9999</td>\n",
       "      <td>-0.9998</td>\n",
       "      <td>0.003321</td>\n",
       "      <td>24600.0</td>\n",
       "      <td>34525.390625</td>\n",
       "      <td>35081.609375</td>\n",
       "      <td>34499.781250</td>\n",
       "    </tr>\n",
       "    <tr>\n",
       "      <th>2020-06-26</th>\n",
       "      <td>35171.269531</td>\n",
       "      <td>-0.9998</td>\n",
       "      <td>-0.9998</td>\n",
       "      <td>0.043772</td>\n",
       "      <td>24800.0</td>\n",
       "      <td>35144.781250</td>\n",
       "      <td>35254.878906</td>\n",
       "      <td>34910.339844</td>\n",
       "    </tr>\n",
       "    <tr>\n",
       "      <th>2020-06-29</th>\n",
       "      <td>34961.519531</td>\n",
       "      <td>-0.9998</td>\n",
       "      <td>-0.9998</td>\n",
       "      <td>0.041490</td>\n",
       "      <td>18300.0</td>\n",
       "      <td>34926.949219</td>\n",
       "      <td>35032.359375</td>\n",
       "      <td>34662.058594</td>\n",
       "    </tr>\n",
       "  </tbody>\n",
       "</table>\n",
       "<p>2322 rows × 8 columns</p>\n",
       "</div>"
      ],
      "text/plain": [
       "             close_price  compound  compound_shifted  polarity   volume  \\\n",
       "date                                                                      \n",
       "2011-01-04  20498.720703   -0.9998           -0.9999  0.019847  15200.0   \n",
       "2011-01-05  20301.099609   -0.9999           -0.9998  0.010189  14400.0   \n",
       "2011-01-06  20184.740234   -0.9998           -0.9996  0.020557  16600.0   \n",
       "2011-01-07  19691.810547   -0.9996           -0.9997  0.017528  15800.0   \n",
       "2011-01-10  19224.119141   -0.9997           -0.9997  0.028174  17200.0   \n",
       "...                  ...       ...               ...       ...      ...   \n",
       "2020-06-23  35430.429688   -0.9998           -0.9997  0.045369  25200.0   \n",
       "2020-06-24  34868.980469   -0.9997           -0.9999  0.069655  26600.0   \n",
       "2020-06-25  34842.101563   -0.9999           -0.9998  0.003321  24600.0   \n",
       "2020-06-26  35171.269531   -0.9998           -0.9998  0.043772  24800.0   \n",
       "2020-06-29  34961.519531   -0.9998           -0.9998  0.041490  18300.0   \n",
       "\n",
       "              open_price          high           low  \n",
       "date                                                  \n",
       "2011-01-04  20617.380859  20651.210938  20449.009766  \n",
       "2011-01-05  20509.949219  20509.949219  20243.949219  \n",
       "2011-01-06  20395.500000  20425.849609  20107.169922  \n",
       "2011-01-07  20163.849609  20210.619141  19629.220703  \n",
       "2011-01-10  19714.419922  19720.429688  19158.429688  \n",
       "...                  ...           ...           ...  \n",
       "2020-06-23  35015.730469  35482.160156  34843.691406  \n",
       "2020-06-24  35679.738281  35706.550781  34794.929688  \n",
       "2020-06-25  34525.390625  35081.609375  34499.781250  \n",
       "2020-06-26  35144.781250  35254.878906  34910.339844  \n",
       "2020-06-29  34926.949219  35032.359375  34662.058594  \n",
       "\n",
       "[2322 rows x 8 columns]"
      ]
     },
     "execution_count": 403,
     "metadata": {},
     "output_type": "execute_result"
    }
   ],
   "source": [
    "X = data.drop('close_price_shifted',axis=1)\n",
    "X"
   ]
  },
  {
   "cell_type": "code",
   "execution_count": 404,
   "metadata": {},
   "outputs": [
    {
     "data": {
      "text/plain": [
       "date\n",
       "2011-01-04    20301.099609\n",
       "2011-01-05    20184.740234\n",
       "2011-01-06    19691.810547\n",
       "2011-01-07    19224.119141\n",
       "2011-01-10    19196.339844\n",
       "                  ...     \n",
       "2020-06-23    34868.980469\n",
       "2020-06-24    34842.101563\n",
       "2020-06-25    35171.269531\n",
       "2020-06-26    34961.519531\n",
       "2020-06-29    34915.800781\n",
       "Name: close_price_shifted, Length: 2322, dtype: float64"
      ]
     },
     "execution_count": 404,
     "metadata": {},
     "output_type": "execute_result"
    }
   ],
   "source": [
    "y = data['close_price_shifted']\n",
    "y"
   ]
  },
  {
   "cell_type": "markdown",
   "metadata": {},
   "source": [
    "### Scaling the Target Variable and the Feature Dataset"
   ]
  },
  {
   "cell_type": "code",
   "execution_count": 405,
   "metadata": {},
   "outputs": [
    {
     "data": {
      "text/plain": [
       "(array([[-0.60238029, -0.99979999, -0.99989999, ..., -0.61372618,\n",
       "         -0.61160053, -0.60222624],\n",
       "        [-0.6171405 , -0.99989999, -0.99979999, ..., -0.62173543,\n",
       "         -0.62212918, -0.61757828],\n",
       "        [-0.62583131, -0.99979999, -0.99959998, ..., -0.63026786,\n",
       "         -0.62839737, -0.62781839],\n",
       "        ...,\n",
       "        [ 0.46891873, -0.99989999, -0.99979999, ...,  0.42314504,\n",
       "          0.46393956,  0.44969755],\n",
       "        [ 0.4935041 , -0.99979999, -0.99979999, ...,  0.46932191,\n",
       "          0.47685385,  0.48043439],\n",
       "        [ 0.47783799, -0.99979999, -0.99979999, ...,  0.45308207,\n",
       "          0.46026881,  0.46184659]]),\n",
       " array([[-0.6171405 ],\n",
       "        [-0.62583131],\n",
       "        [-0.66264795],\n",
       "        ...,\n",
       "        [ 0.4935041 ],\n",
       "        [ 0.47783799],\n",
       "        [ 0.47442328]]))"
      ]
     },
     "execution_count": 405,
     "metadata": {},
     "output_type": "execute_result"
    }
   ],
   "source": [
    "# scaling the feature dataset\n",
    "scaler_X = MinMaxScaler (feature_range=(-1, 1))\n",
    "X = np.array(X).reshape((len(X) ,X.shape[1]))\n",
    "X = scaler_X.fit_transform(X)\n",
    "\n",
    "# scaling the target variable\n",
    "scaler_y = MinMaxScaler (feature_range=(-1, 1))\n",
    "y = np.array (y).reshape ((len( y), 1))\n",
    "y = scaler_y.fit_transform (y)\n",
    "\n",
    "# displaying the scaled feature dataset and the target variable\n",
    "X, y"
   ]
  },
  {
   "cell_type": "markdown",
   "metadata": {},
   "source": [
    "### Dividing the dataset into Training and Test"
   ]
  },
  {
   "cell_type": "code",
   "execution_count": 406,
   "metadata": {},
   "outputs": [
    {
     "name": "stdout",
     "output_type": "stream",
     "text": [
      "Number of rows and columns in the Training set X: (1858, 8) and y: (1858, 1)\n",
      "Number of rows and columns in the Test set X: (463, 8) and y: (463, 1)\n"
     ]
    }
   ],
   "source": [
    "# preparing training and test dataset\n",
    "X_train = X[0 : train_end,]\n",
    "X_test = X[train_end+1 : len(X),]    \n",
    "y_train = y[0 : train_end] \n",
    "y_test = y[train_end+1 : len(y)]  \n",
    "\n",
    "# printing the shape of the training and the test datasets\n",
    "print('Number of rows and columns in the Training set X:', X_train.shape, 'and y:', y_train.shape)\n",
    "print('Number of rows and columns in the Test set X:', X_test.shape, 'and y:', y_test.shape)\n"
   ]
  },
  {
   "cell_type": "markdown",
   "metadata": {},
   "source": [
    "### Reshaping the Feature Dataset"
   ]
  },
  {
   "cell_type": "code",
   "execution_count": 407,
   "metadata": {},
   "outputs": [
    {
     "name": "stdout",
     "output_type": "stream",
     "text": [
      "Shape of Training set X: (1858, 8, 1)\n",
      "Shape of Test set X: (463, 8, 1)\n"
     ]
    }
   ],
   "source": [
    "# reshaping the feature dataset for feeding into the model\n",
    "X_train = X_train.reshape (X_train.shape + (1,)) \n",
    "X_test = X_test.reshape(X_test.shape + (1,))\n",
    "\n",
    "# printing the re-shaped feature dataset\n",
    "print('Shape of Training set X:', X_train.shape)\n",
    "print('Shape of Test set X:', X_test.shape)\n"
   ]
  },
  {
   "cell_type": "markdown",
   "metadata": {},
   "source": [
    "### Hybrid Model"
   ]
  },
  {
   "cell_type": "code",
   "execution_count": 408,
   "metadata": {},
   "outputs": [
    {
     "name": "stdout",
     "output_type": "stream",
     "text": [
      "Model: \"sequential_24\"\n",
      "_________________________________________________________________\n",
      "Layer (type)                 Output Shape              Param #   \n",
      "=================================================================\n",
      "lstm_60 (LSTM)               (None, 8, 100)            40800     \n",
      "_________________________________________________________________\n",
      "dropout_60 (Dropout)         (None, 8, 100)            0         \n",
      "_________________________________________________________________\n",
      "lstm_61 (LSTM)               (None, 8, 100)            80400     \n",
      "_________________________________________________________________\n",
      "dropout_61 (Dropout)         (None, 8, 100)            0         \n",
      "_________________________________________________________________\n",
      "lstm_62 (LSTM)               (None, 100)               80400     \n",
      "_________________________________________________________________\n",
      "dropout_62 (Dropout)         (None, 100)               0         \n",
      "_________________________________________________________________\n",
      "dense_23 (Dense)             (None, 1)                 101       \n",
      "=================================================================\n",
      "Total params: 201,701\n",
      "Trainable params: 201,701\n",
      "Non-trainable params: 0\n",
      "_________________________________________________________________\n"
     ]
    }
   ],
   "source": [
    "np.random.seed(256)\n",
    "\n",
    "model=Sequential()\n",
    "model.add(LSTM(100,return_sequences=True,activation='tanh',input_shape=(X.shape[1],1)))\n",
    "model.add(Dropout(0.1))\n",
    "model.add(LSTM(100,return_sequences=True,activation='tanh'))\n",
    "model.add(Dropout(0.1))\n",
    "model.add(LSTM(100,activation='tanh'))\n",
    "model.add(Dropout(0.1))\n",
    "model.add(Dense(1))\n",
    "model.summary()"
   ]
  },
  {
   "cell_type": "code",
   "execution_count": 409,
   "metadata": {},
   "outputs": [
    {
     "name": "stdout",
     "output_type": "stream",
     "text": [
      "Epoch 1/12\n",
      "186/186 [==============================] - 6s 33ms/step - loss: 0.0488 - val_loss: 0.1677\n",
      "Epoch 2/12\n",
      "186/186 [==============================] - 3s 19ms/step - loss: 0.0184 - val_loss: 0.0710\n",
      "Epoch 3/12\n",
      "186/186 [==============================] - 3s 18ms/step - loss: 0.0038 - val_loss: 0.0157\n",
      "Epoch 4/12\n",
      "186/186 [==============================] - 4s 21ms/step - loss: 0.0020 - val_loss: 0.0053\n",
      "Epoch 5/12\n",
      "186/186 [==============================] - 5s 25ms/step - loss: 0.0017 - val_loss: 0.0018\n",
      "Epoch 6/12\n",
      "186/186 [==============================] - 5s 27ms/step - loss: 0.0016 - val_loss: 7.5988e-04\n",
      "Epoch 7/12\n",
      "186/186 [==============================] - 10s 54ms/step - loss: 0.0014 - val_loss: 4.0912e-04\n",
      "Epoch 8/12\n",
      "186/186 [==============================] - 8s 41ms/step - loss: 0.0016 - val_loss: 3.5766e-04\n",
      "Epoch 9/12\n",
      "186/186 [==============================] - 13s 69ms/step - loss: 0.0014 - val_loss: 0.0013\n",
      "Epoch 10/12\n",
      "186/186 [==============================] - 16s 85ms/step - loss: 0.0014 - val_loss: 4.7099e-04\n",
      "Epoch 11/12\n",
      "186/186 [==============================] - 15s 78ms/step - loss: 0.0014 - val_loss: 3.5217e-04\n",
      "Epoch 12/12\n",
      "186/186 [==============================] - 15s 82ms/step - loss: 0.0012 - val_loss: 4.0438e-04\n"
     ]
    },
    {
     "data": {
      "text/plain": [
       "<tensorflow.python.keras.callbacks.History at 0x20253eb8c40>"
      ]
     },
     "execution_count": 409,
     "metadata": {},
     "output_type": "execute_result"
    }
   ],
   "source": [
    "# compiling the model\n",
    "model.compile(loss='mse' , optimizer='adam')\n",
    "\n",
    "# fitting the model using the training dataset\n",
    "model.fit(X_train, y_train, validation_split=0.2, epochs=12, batch_size=8, verbose=1)"
   ]
  },
  {
   "cell_type": "markdown",
   "metadata": {},
   "source": [
    "### Predictions"
   ]
  },
  {
   "cell_type": "code",
   "execution_count": 410,
   "metadata": {},
   "outputs": [
    {
     "name": "stdout",
     "output_type": "stream",
     "text": [
      "Predictions:\n"
     ]
    },
    {
     "data": {
      "text/plain": [
       "array([[37561.8  ],\n",
       "       [37555.383],\n",
       "       [37621.332],\n",
       "       [37515.152],\n",
       "       [37520.023],\n",
       "       [37808.438],\n",
       "       [37820.74 ],\n",
       "       [37822.582],\n",
       "       [38084.086],\n",
       "       [38038.035]], dtype=float32)"
      ]
     },
     "execution_count": 410,
     "metadata": {},
     "output_type": "execute_result"
    }
   ],
   "source": [
    "# performing predictions\n",
    "predictions = model.predict(X_test) \n",
    "\n",
    "\n",
    "# unscaling the predictions\n",
    "predictions = scaler_y.inverse_transform(np.array(predictions).reshape((len(predictions), 1)))\n",
    "\n",
    "# printing the predictions\n",
    "print('Predictions:')\n",
    "predictions[0:10]"
   ]
  },
  {
   "cell_type": "markdown",
   "metadata": {},
   "source": [
    "### Model Evaluation"
   ]
  },
  {
   "cell_type": "code",
   "execution_count": 411,
   "metadata": {},
   "outputs": [
    {
     "name": "stdout",
     "output_type": "stream",
     "text": [
      "1858/1858 [==============================] - 25s 14ms/step - loss: 4.6976e-04 10s - loss: 4. - ETA: 10s - loss: 4.9002e- - ETA:  -\n",
      "463/463 [==============================] - 6s 14ms/step - loss: 0.0032\n",
      "Train Loss = 0.0005\n",
      "Test Loss = 0.0032\n"
     ]
    }
   ],
   "source": [
    "# calculating the training set mean-squared-error\n",
    "train_loss = model.evaluate(X_train, y_train, batch_size = 1)\n",
    "\n",
    "# calculating the test set mean-squared-error\n",
    "test_loss = model.evaluate(X_test, y_test, batch_size = 1)\n",
    "\n",
    "# printing the training and the test sets mean-squared-errors\n",
    "print('Train Loss =', round(train_loss,4))\n",
    "print('Test Loss =', round(test_loss,4))"
   ]
  },
  {
   "cell_type": "markdown",
   "metadata": {},
   "source": [
    "### Visualizing the predictions and test set closing price"
   ]
  },
  {
   "cell_type": "code",
   "execution_count": 412,
   "metadata": {},
   "outputs": [],
   "source": [
    "# unscaling the test feature dataset, x_test\n",
    "X_test = scaler_X.inverse_transform(np.array(X_test).reshape((len(X_test), X_test.shape[1])))\n",
    "\n",
    "# unscaling the test y dataset, y_test\n",
    "y_train = scaler_y.inverse_transform(np.array(y_train).reshape((len(y_train), 1)))\n",
    "y_test = scaler_y.inverse_transform(np.array(y_test).reshape((len(y_test), 1)))"
   ]
  },
  {
   "cell_type": "code",
   "execution_count": 413,
   "metadata": {},
   "outputs": [
    {
     "data": {
      "image/png": "[encoded data removed]",
      "text/plain": [
       "<Figure size 1152x720 with 1 Axes>"
      ]
     },
     "metadata": {
      "needs_background": "light"
     },
     "output_type": "display_data"
    }
   ],
   "source": [
    "# plotting\n",
    "plt.figure(figsize=(16,10))\n",
    "plt.plot([row[0] for row in y_test], label=\"Testing Close Price\")\n",
    "plt.plot(predictions, label=\"Predicted Close Price\")\n",
    "plt.legend(loc='upper center', bbox_to_anchor=(0.5, -0.05), fancybox=True, shadow=True, ncol=2)\n",
    "plt.xlabel('Days')\n",
    "plt.ylabel('Closing Stock Price')\n",
    "plt.show()"
   ]
  }
 ],
 "metadata": {
  "kernelspec": {
   "display_name": "Python 3",
   "language": "python",
   "name": "python3"
  },
  "language_info": {
   "codemirror_mode": {
    "name": "ipython",
    "version": 3
   },
   "file_extension": ".py",
   "mimetype": "text/x-python",
   "name": "python",
   "nbconvert_exporter": "python",
   "pygments_lexer": "ipython3",
   "version": "3.8.3"
  }
 },
 "nbformat": 4,
 "nbformat_minor": 4
}
